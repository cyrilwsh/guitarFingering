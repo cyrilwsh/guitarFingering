{
 "cells": [
  {
   "cell_type": "markdown",
   "metadata": {},
   "source": [
    "FingerBoard creator"
   ]
  },
  {
   "cell_type": "code",
   "execution_count": null,
   "metadata": {},
   "outputs": [],
   "source": [
    "# for normal guitar tuning. (E2, A2, D3, G3, B3, E4)\n",
    "capo = 1\n",
    "arrayFingerBoard = [[64, 59, 55, 50, 45, 40]] \n",
    "arrayFingerBoard = [[string+capo for string in arrayFingerBoard[-1]]]\n",
    "\n",
    "for fret in range (12 - capo):\n",
    "    arrayFingerBoard.append([string+1 for string in arrayFingerBoard[-1]])\n",
    "\n",
    "# print out\n",
    "print(\"Note in Finger board:\")\n",
    "for fret in arrayFingerBoard:\n",
    "    print(fret) "
   ]
  },
  {
   "cell_type": "code",
   "execution_count": null,
   "metadata": {},
   "outputs": [],
   "source": [
    "len(arrayFingerBoard)\n",
    "def funCreatNoteDic (arrayFingerBoard):\n",
    "    dicNoteOnFingerBoard = {}\n",
    "    for fret in range(len(arrayFingerBoard)):\n",
    "        for string in range(6):\n",
    "            note = arrayFingerBoard[fret][string]\n",
    "            if note in dicNoteOnFingerBoard:\n",
    "                dicNoteOnFingerBoard[note].append([string+1, fret]) # let string = 1~6\n",
    "            else:\n",
    "                dicNoteOnFingerBoard[note] = [[string+1, fret]] # let string = 1~6\n",
    "    return dicNoteOnFingerBoard"
   ]
  },
  {
   "cell_type": "code",
   "execution_count": null,
   "metadata": {},
   "outputs": [],
   "source": [
    "dicNoteFingerBoard = funCreatNoteDic(arrayFingerBoard)\n",
    "dicNoteFingerBoard\n"
   ]
  },
  {
   "cell_type": "code",
   "execution_count": null,
   "metadata": {},
   "outputs": [],
   "source": [
    "len(dicNoteFingerBoard[71])"
   ]
  },
  {
   "cell_type": "code",
   "execution_count": 10,
   "metadata": {},
   "outputs": [],
   "source": [
    "\n",
    "def funcCreatNoteDic (capo=0 , tuning = [64, 59, 55, 50, 45, 40], maxAvailableFret = 12):\n",
    "\n",
    "    \"\"\" for normal guitar tuning. (E4, B3, G3, D3, A2, E2)\n",
    "                          string    1   2   3   4   5   6\n",
    "    in real world physical way, it looks like left-right-reversed\n",
    "    capo = 1\n",
    "    \"\"\"\n",
    "    # set 0 fret initial note -- AKA guitar tuning\n",
    "    arrayFingerBoard = [tuning] \n",
    "    arrayFingerBoard = [[string+capo for string in arrayFingerBoard[0]]]\n",
    "\n",
    "    for fret in range (maxAvailableFret - capo):\n",
    "        arrayFingerBoard.append([string+1 for string in arrayFingerBoard[-1]])\n",
    "\n",
    "    # print out Finger Board\n",
    "    print(\"Notes in Finger board:\")\n",
    "    print(\"string 1 to 6\")\n",
    "    for fret in arrayFingerBoard:\n",
    "        print(fret) \n",
    "    \n",
    "    # create a dictionary: note - position\n",
    "    # input : note number, ex: 66\n",
    "    # output: position, ex: [[1, 1], [2, 6], [3, 10]]\n",
    "    # def funCreatNoteDic (arrayFingerBoard):\n",
    "    dicNoteOnFingerBoard = {}\n",
    "    for fret in range(len(arrayFingerBoard)):\n",
    "        for string in range(6):\n",
    "            note = arrayFingerBoard[fret][string]\n",
    "            if note not in dicNoteOnFingerBoard:\n",
    "                dicNoteOnFingerBoard[note] = [[string+1, fret]] # let string = 1~6\n",
    "            else:\n",
    "                dicNoteOnFingerBoard[note].append([string+1, fret]) # let string = 1~6\n",
    "    return dicNoteOnFingerBoard"
   ]
  },
  {
   "cell_type": "code",
   "execution_count": 11,
   "metadata": {},
   "outputs": [
    {
     "name": "stdout",
     "output_type": "stream",
     "text": [
      "Notes in Finger board:\n",
      "string 1 to 6\n",
      "[66, 61, 57, 52, 47, 32]\n",
      "[67, 62, 58, 53, 48, 33]\n",
      "[68, 63, 59, 54, 49, 34]\n",
      "[69, 64, 60, 55, 50, 35]\n",
      "[70, 65, 61, 56, 51, 36]\n",
      "[71, 66, 62, 57, 52, 37]\n",
      "[72, 67, 63, 58, 53, 38]\n",
      "[73, 68, 64, 59, 54, 39]\n",
      "[74, 69, 65, 60, 55, 40]\n",
      "[75, 70, 66, 61, 56, 41]\n",
      "[76, 71, 67, 62, 57, 42]\n"
     ]
    },
    {
     "data": {
      "text/plain": [
       "{66: [[1, 0], [2, 5], [3, 9]],\n",
       " 61: [[2, 0], [3, 4], [4, 9]],\n",
       " 57: [[3, 0], [4, 5], [5, 10]],\n",
       " 52: [[4, 0], [5, 5]],\n",
       " 47: [[5, 0]],\n",
       " 32: [[6, 0]],\n",
       " 67: [[1, 1], [2, 6], [3, 10]],\n",
       " 62: [[2, 1], [3, 5], [4, 10]],\n",
       " 58: [[3, 1], [4, 6]],\n",
       " 53: [[4, 1], [5, 6]],\n",
       " 48: [[5, 1]],\n",
       " 33: [[6, 1]],\n",
       " 68: [[1, 2], [2, 7]],\n",
       " 63: [[2, 2], [3, 6]],\n",
       " 59: [[3, 2], [4, 7]],\n",
       " 54: [[4, 2], [5, 7]],\n",
       " 49: [[5, 2]],\n",
       " 34: [[6, 2]],\n",
       " 69: [[1, 3], [2, 8]],\n",
       " 64: [[2, 3], [3, 7]],\n",
       " 60: [[3, 3], [4, 8]],\n",
       " 55: [[4, 3], [5, 8]],\n",
       " 50: [[5, 3]],\n",
       " 35: [[6, 3]],\n",
       " 70: [[1, 4], [2, 9]],\n",
       " 65: [[2, 4], [3, 8]],\n",
       " 56: [[4, 4], [5, 9]],\n",
       " 51: [[5, 4]],\n",
       " 36: [[6, 4]],\n",
       " 71: [[1, 5], [2, 10]],\n",
       " 37: [[6, 5]],\n",
       " 72: [[1, 6]],\n",
       " 38: [[6, 6]],\n",
       " 73: [[1, 7]],\n",
       " 39: [[6, 7]],\n",
       " 74: [[1, 8]],\n",
       " 40: [[6, 8]],\n",
       " 75: [[1, 9]],\n",
       " 41: [[6, 9]],\n",
       " 76: [[1, 10]],\n",
       " 42: [[6, 10]]}"
      ]
     },
     "execution_count": 11,
     "metadata": {},
     "output_type": "execute_result"
    }
   ],
   "source": [
    "# dicNoteOnFingerBoard = funcCreatNoteDic()\n",
    "funcCreatNoteDic(2, [64, 59, 55, 50, 45, 30])\n"
   ]
  }
 ],
 "metadata": {
  "kernelspec": {
   "display_name": "Python 3",
   "language": "python",
   "name": "python3"
  },
  "language_info": {
   "codemirror_mode": {
    "name": "ipython",
    "version": 3
   },
   "file_extension": ".py",
   "mimetype": "text/x-python",
   "name": "python",
   "nbconvert_exporter": "python",
   "pygments_lexer": "ipython3",
   "version": "3.6.8"
  }
 },
 "nbformat": 4,
 "nbformat_minor": 2
}
