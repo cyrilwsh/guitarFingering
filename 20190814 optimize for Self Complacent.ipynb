{
 "cells": [
  {
   "cell_type": "code",
   "execution_count": 1,
   "metadata": {},
   "outputs": [
    {
     "name": "stdout",
     "output_type": "stream",
     "text": [
      "Track 0: Steel Guitar\n",
      "choose track 0\n"
     ]
    }
   ],
   "source": [
    "# from mido import MidiFile\n",
    "import globalvar as GlobalVar\n",
    "from funcMidi import * # create by SH\n",
    "MidiFileName = 'Self_complacent_prelude_Crowd_Lu_notie.mid'\n",
    "\n",
    "(midiArray, dicEvent) = MidiCategorize(MidiFileName, trackChoice = 0)\n",
    "# dicNoteOnFingerBoard = funcCreatNoteDic(capo = 1, maxAvailableFret = 14, printFingerboard = True)\n",
    "# midiArray"
   ]
  },
  {
   "cell_type": "code",
   "execution_count": 15,
   "metadata": {},
   "outputs": [],
   "source": [
    "# find Best Path package\n",
    "def sweepParamFindBest(midiArray, capoList = [0], tuningNameList = [\"standard\"], printCosts = False):\n",
    "    \n",
    "    sweepSolutions =[]\n",
    "\n",
    "    for capo in capoList:\n",
    "        for tuningName in tuningNameList:\n",
    "            dicNoteOnFingerBoard = funcCreatNoteDic(capo = capo, tuningName = tuningName, maxAvailableFret = 14, printFingerboard = False)\n",
    "            events, uniqTime = funcMidiEvents(midiArray)\n",
    "            eventsNotes, eventsTimeInfo = funcArrangeEventNotes(events)\n",
    "            possible = funcNotes2Possibles(eventsNotes, dicNoteOnFingerBoard)\n",
    "            costBest = funcBestPath(eventsNotes, possible, printCostChord = False, printCostTran = False)\n",
    "            solutions, bestSolution = funcSolutions(costBest, possible, printOut = False)\n",
    "\n",
    "            bestSolution.extend([\"capo =\" , capo, \"tuning =\", tuningName])\n",
    "            sweepSolutions.append(bestSolution)\n",
    "            \n",
    "    eachCost = [x[1] for x in sweepSolutions]\n",
    "    bestIndex = eachCost.index(min(eachCost))\n",
    "    bestSolution = sweepSolutions[bestIndex]\n",
    "    if printCosts == True:\n",
    "        for sol in (sweepSolutions):\n",
    "            print(*sol[-4:-2], sep=\" \")\n",
    "            print(*sol[-2:], sep=\" \")\n",
    "            print(*sol[:2], sep=\" \")\n",
    "            print(\"\")\n",
    "    return bestSolution, sweepSolutions, uniqTime, eventsNotes, eventsTimeInfo"
   ]
  },
  {
   "cell_type": "code",
   "execution_count": 22,
   "metadata": {},
   "outputs": [],
   "source": [
    "# edit global parameter\n",
    "GlobalVar.set_costFinger1SlideDown(2)#= 3\n",
    "GlobalVar.set_costFinger1SlideDown(2)#= 3\n",
    "GlobalVar.set_costFinger1SlideUp    (1)#= 2\n",
    "GlobalVar.set_costFinger23SlideDown (1)#= 2\n",
    "GlobalVar.set_costFinger23SlideUp   (3)#= 4\n",
    "GlobalVar.set_costFinger4SlideDown  (4)#= 5\n",
    "GlobalVar.set_costFinger4SlideUp    (5)#= 10\n",
    "GlobalVar.set_costFingerShiftSlide  (2)#= 3 "
   ]
  },
  {
   "cell_type": "code",
   "execution_count": 23,
   "metadata": {},
   "outputs": [
    {
     "name": "stdout",
     "output_type": "stream",
     "text": [
      "capo = 0\n",
      "tuning = standard\n",
      "cost = 786190186.5642855\n",
      "\n"
     ]
    }
   ],
   "source": [
    "# 主要function濃縮成這行\n",
    "bestSolution, sweepSolutions, uniqTime, eventsNotes, eventsTimeInfo = (\n",
    "    sweepParamFindBest(midiArray, capoList = [0], tuningNameList = [\"standard\"], printCosts = True))\n"
   ]
  },
  {
   "cell_type": "code",
   "execution_count": 6,
   "metadata": {
    "collapsed": true
   },
   "outputs": [
    {
     "name": "stdout",
     "output_type": "stream",
     "text": [
      "['capo =', 0, 'tuning =', 'standard']\n",
      "['capo =', 0, 'tuning =', 'Dropped D']\n",
      "['capo =', 1, 'tuning =', 'standard']\n",
      "['capo =', 1, 'tuning =', 'Dropped D']\n"
     ]
    }
   ],
   "source": [
    "# debug use\n",
    "# bestSolution\n",
    "\n",
    "sweepSolutions\n",
    "eachCost = [x[3] for x in sweepSolutions]\n",
    "bestIndex = eachCost.index(min(eachCost))\n",
    "bestSolution = sweepCapoSolution[bestIndex]\n",
    "bestSolution\n",
    "eachCost\n",
    "\n",
    "for sol in sweepSolutions:\n",
    "    print(sol[-4:])\n",
    "# len(sweepCapoSolution)\n"
   ]
  },
  {
   "cell_type": "code",
   "execution_count": 17,
   "metadata": {},
   "outputs": [
    {
     "name": "stdout",
     "output_type": "stream",
     "text": [
      "for debug usage:\n",
      "npUniqTime = [  960  1200  1440  1920  2400  2880  3360  3840  4320  4800  5760  6240\n",
      "  6720  7200  7680  8160  8640  9120  9600 10080 10560 11040 11520 12000\n",
      " 12480 13440 15360]\n",
      "diffUniqTime = [ 240  240  480  480  480  480  480  480  480  960  480  480  480  480\n",
      "  480  480  480  480  480  480  480  480  480  480  960 1920]\n",
      "diffUniqTimeSet =[240, 480, 960, 1920]\n",
      "outputs:\n",
      "timeResolution =240\n",
      "quaver =480\n",
      "oneBar =3840\n"
     ]
    }
   ],
   "source": [
    "timeResolution, quaver, oneBar, npUniqTime = genTimeInfo(uniqTime, printOut = True)"
   ]
  },
  {
   "cell_type": "code",
   "execution_count": 24,
   "metadata": {},
   "outputs": [
    {
     "name": "stdout",
     "output_type": "stream",
     "text": [
      "for debug usage:\n",
      "npUniqTime = [  960  1200  1440  1920  2400  2880  3360  3840  4320  4800  5760  6240\n",
      "  6720  7200  7680  8160  8640  9120  9600 10080 10560 11040 11520 12000\n",
      " 12480 13440 15360]\n",
      "diffUniqTime = [ 240  240  480  480  480  480  480  480  480  960  480  480  480  480\n",
      "  480  480  480  480  480  480  480  480  480  480  960 1920]\n",
      "diffUniqTimeSet =[240, 480, 960, 1920]\n",
      "outputs:\n",
      "timeResolution =240\n",
      "quaver =480\n",
      "oneBar =3840\n",
      "\u001b[1m\n",
      "=============================================================================================\n",
      " F  .  .  .  .  .  .  1 --- 1 --- 2 --- |  .  .  .  .  .  .  .  .  .  .  .  .  .  .  .  .  | \n",
      " I  3  2  .  .  .  .  .  .  .  .  1 --- |  4 --- .  .  4 --------- .  .  .  .  .  .  .  .  | \n",
      " N  .  .  .  .  .  .  3 --- 3 --- .  .  |  2 --- .  .  1 --------- .  .  3 --- 3 --- 1 --- | \n",
      " G  .  .  1 --- 0 --------------------- |  .  .  1 --- .  .  .  .  .  .  1 --- 1 --- 1 --- | \n",
      " E  .  .  .  .  .  .  .  .  .  .  .  .  |  3 --------------------- 2 --------------------- | \n",
      " R  .  .  .  .  .  .  .  .  .  .  .  .  |  .  .  .  .  .  .  .  .  .  .  .  .  .  .  .  .  | \n",
      "                                 \n",
      "                                 \n",
      " E  .  .  .  .  .  .  1 --- 1 --- 1 --- |  .  .  .  .  .  .  .  .  .  .  .  .  .  .  .  .  | \n",
      " B  2  1  .  .  .  .  .  .  .  .  1 --- |  4 --- .  .  4 --------- .  .  .  .  .  .  .  .  | \n",
      " G  .  .  .  .  .  .  3 --- 3 --- .  .  |  3 --- .  .  1 --------- .  .  3 --- 3 --- 1 --- | \n",
      " D  .  .  1 --- 0 --------------------- |  .  .  1 --- .  .  .  .  .  .  1 --- 1 --- 1 --- | \n",
      " A  .  .  .  .  .  .  .  .  .  .  .  .  |  4 --------------------- 3 --------------------- | \n",
      " E  .  .  .  .  .  .  .  .  .  .  .  .  |  .  .  .  .  .  .  .  .  .  .  .  .  .  .  .  .  | \n",
      "=============================================================================================\n",
      "======================================================================================================\n",
      " F  1 --- 4 --- 3 --- 0 --- .  .  .  .  .  .  .  .  |  .  .  .  .  .  .  .  .  .  .  .  .  .  .  .  . \n",
      " I  2 --------------- .  .  .  .  3 --- 3 --------- |  1 --------- .  .  .  .  3 ---------------------\n",
      " N  1 --------------- 1 --- .  .  .  .  0 --------- |  .  .  .  .  2 --------- 2 ---------------------\n",
      " G  1 --------------- 3 --- .  .  2 --- .  .  .  .  |  2 --------- 4 --------- 1 ---------------------\n",
      " E  .  .  .  .  .  .  .  .  1 --------------- 1 --- |  .  .  1 --------------- .  .  .  .  .  .  .  . \n",
      " R  .  .  .  .  .  .  .  .  .  .  .  .  .  .  .  .  |  .  .  .  .  .  .  .  .  .  .  .  .  .  .  .  . \n",
      "                                    \n",
      "                                    \n",
      " E  3 --- 6 --- 4 --- 0 --- .  .  .  .  .  .  .  .  |  .  .  .  .  .  .  .  .  .  .  .  .  .  .  .  . \n",
      " B  4 --------------- .  .  .  .  3 --- 4 --------- |  1 --------- .  .  .  .  4 ---------------------\n",
      " G  3 --------------- 3 --- .  .  .  .  0 --------- |  .  .  .  .  1 --------- 3 ---------------------\n",
      " D  3 --------------- 5 --- .  .  3 --- .  .  .  .  |  3 --------- 3 --------- 1 ---------------------\n",
      " A  .  .  .  .  .  .  .  .  1 --------------- 1 --- |  .  .  1 --------------- .  .  .  .  .  .  .  . \n",
      " E  .  .  .  .  .  .  .  .  .  .  .  .  .  .  .  .  |  .  .  .  .  .  .  .  .  .  .  .  .  .  .  .  . \n",
      "======================================================================================================\n"
     ]
    }
   ],
   "source": [
    "# for printing solution\n",
    "timeResolution, quaver, oneBar, npUniqTime = genTimeInfo(uniqTime, printOut = True)\n",
    "# verticalPrintArray, horizontalPrintArray = genPrintArray(eventsNotes, eventsTimeInfo, npUniqTime, bestSolution, timeResolution = 160, oneBar, numPrintBar = 1)\n",
    "verticalPrintArray, horizontalPrintArray = genPrintArray(\n",
    "    eventsNotes, eventsTimeInfo, npUniqTime, bestSolution, \n",
    "    timeResolution = timeResolution, oneBar = oneBar, numPrintBar = 2)\n",
    "printSolution(verticalPrintArray, horizontalPrintArray, printDirection = \"horizontal\") # \"vertical\"\n",
    "# printPDF(verticalPrintArray, horizontalPrintArray, outputPdfName = \"guitarFingering.pdf\", printDirection = \"horizontal\", rowsPerPage = 3, linespace = 5)\n"
   ]
  },
  {
   "cell_type": "code",
   "execution_count": 19,
   "metadata": {},
   "outputs": [],
   "source": [
    "outputPdfName = \"guitarFingering_capo0_\" + MidiFileName[:-4] + \".pdf\"\n",
    "printPDF(verticalPrintArray, horizontalPrintArray, outputPdfName = outputPdfName, printDirection = \"horizontal\", rowsPerPage = 3, linespace = 5)"
   ]
  }
 ],
 "metadata": {
  "kernelspec": {
   "display_name": "Python 3",
   "language": "python",
   "name": "python3"
  },
  "language_info": {
   "codemirror_mode": {
    "name": "ipython",
    "version": 3
   },
   "file_extension": ".py",
   "mimetype": "text/x-python",
   "name": "python",
   "nbconvert_exporter": "python",
   "pygments_lexer": "ipython3",
   "version": "3.6.8"
  }
 },
 "nbformat": 4,
 "nbformat_minor": 2
}
