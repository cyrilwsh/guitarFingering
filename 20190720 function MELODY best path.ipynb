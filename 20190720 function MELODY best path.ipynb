{
 "cells": [
  {
   "cell_type": "code",
   "execution_count": 1,
   "metadata": {},
   "outputs": [
    {
     "name": "stdout",
     "output_type": "stream",
     "text": [
      "Track 0: Steel Guitar\n"
     ]
    },
    {
     "data": {
      "text/plain": [
       "[[57, 0, 240, 'MEL', 0],\n",
       " [60, 240, 480, 'MEL', 1],\n",
       " [62, 480, 720, 'MEL', 2],\n",
       " [63, 720, 960, 'MEL', 3],\n",
       " [62, 960, 1200, 'MEL', 4],\n",
       " [60, 1200, 1440, 'MEL', 5],\n",
       " [57, 1440, 1680, 'MEL', 6],\n",
       " [55, 1680, 1920, 'MEL', 7],\n",
       " [0, 2919, 2920, 'dummy line', 8]]"
      ]
     },
     "execution_count": 1,
     "metadata": {},
     "output_type": "execute_result"
    }
   ],
   "source": [
    "# from mido import MidiFile\n",
    "from funcMidi import * # create by SH\n",
    "\n",
    "MidiFileName = 'p20190719 melody.mid'\n",
    "\n",
    "\n",
    "(midiArray, dicEvent) = MidiCategorize(MidiFileName)\n",
    "midiArray\n"
   ]
  },
  {
   "cell_type": "code",
   "execution_count": 2,
   "metadata": {},
   "outputs": [
    {
     "data": {
      "text/plain": [
       "[['MEL', [57, 0, 240]],\n",
       " ['MEL', [60, 240, 480]],\n",
       " ['MEL', [62, 480, 720]],\n",
       " ['MEL', [63, 720, 960]],\n",
       " ['MEL', [62, 960, 1200]],\n",
       " ['MEL', [60, 1200, 1440]],\n",
       " ['MEL', [57, 1440, 1680]],\n",
       " ['MEL', [55, 1680, 1920]]]"
      ]
     },
     "execution_count": 2,
     "metadata": {},
     "output_type": "execute_result"
    }
   ],
   "source": [
    "noteEvent = 0\n",
    "events = []\n",
    "\n",
    "while noteEvent in range(len(midiArray)-1):\n",
    "    events.append([midiArray[noteEvent][3],midiArray[noteEvent][0:3]])\n",
    "    noteEvent = noteEvent + 1\n",
    "    while midiArray[noteEvent][4] == midiArray[noteEvent -1][4] and noteEvent in range(len(midiArray)):\n",
    "        events[midiArray[noteEvent][4]].append(midiArray[noteEvent][0:3])\n",
    "        noteEvent = noteEvent + 1\n",
    "events\n"
   ]
  },
  {
   "cell_type": "code",
   "execution_count": 3,
   "metadata": {
    "collapsed": true
   },
   "outputs": [
    {
     "name": "stdout",
     "output_type": "stream",
     "text": [
      "capo = 0\n",
      "tuning = [64, 59, 55, 50, 45, 40]\n",
      "Notes in Finger board:\n",
      "[64, 65, 66, 67, 68, 69, 70, 71, 72, 73, 74, 75, 76]\n",
      "[59, 60, 61, 62, 63, 64, 65, 66, 67, 68, 69, 70, 71]\n",
      "[55, 56, 57, 58, 59, 60, 61, 62, 63, 64, 65, 66, 67]\n",
      "[50, 51, 52, 53, 54, 55, 56, 57, 58, 59, 60, 61, 62]\n",
      "[45, 46, 47, 48, 49, 50, 51, 52, 53, 54, 55, 56, 57]\n",
      "[40, 41, 42, 43, 44, 45, 46, 47, 48, 49, 50, 51, 52]\n"
     ]
    },
    {
     "data": {
      "text/plain": [
       "[[[3, 2, 1],\n",
       "  [3, 2, 2],\n",
       "  [3, 2, 3],\n",
       "  [3, 2, 4],\n",
       "  [4, 7, 1],\n",
       "  [4, 7, 2],\n",
       "  [4, 7, 3],\n",
       "  [4, 7, 4],\n",
       "  [5, 12, 1],\n",
       "  [5, 12, 2],\n",
       "  [5, 12, 3],\n",
       "  [5, 12, 4]],\n",
       " [[2, 1, 1],\n",
       "  [2, 1, 2],\n",
       "  [2, 1, 3],\n",
       "  [2, 1, 4],\n",
       "  [3, 5, 1],\n",
       "  [3, 5, 2],\n",
       "  [3, 5, 3],\n",
       "  [3, 5, 4],\n",
       "  [4, 10, 1],\n",
       "  [4, 10, 2],\n",
       "  [4, 10, 3],\n",
       "  [4, 10, 4]],\n",
       " [[2, 3, 1],\n",
       "  [2, 3, 2],\n",
       "  [2, 3, 3],\n",
       "  [2, 3, 4],\n",
       "  [3, 7, 1],\n",
       "  [3, 7, 2],\n",
       "  [3, 7, 3],\n",
       "  [3, 7, 4],\n",
       "  [4, 12, 1],\n",
       "  [4, 12, 2],\n",
       "  [4, 12, 3],\n",
       "  [4, 12, 4]],\n",
       " [[2, 4, 1],\n",
       "  [2, 4, 2],\n",
       "  [2, 4, 3],\n",
       "  [2, 4, 4],\n",
       "  [3, 8, 1],\n",
       "  [3, 8, 2],\n",
       "  [3, 8, 3],\n",
       "  [3, 8, 4]],\n",
       " [[2, 3, 1],\n",
       "  [2, 3, 2],\n",
       "  [2, 3, 3],\n",
       "  [2, 3, 4],\n",
       "  [3, 7, 1],\n",
       "  [3, 7, 2],\n",
       "  [3, 7, 3],\n",
       "  [3, 7, 4],\n",
       "  [4, 12, 1],\n",
       "  [4, 12, 2],\n",
       "  [4, 12, 3],\n",
       "  [4, 12, 4]],\n",
       " [[2, 1, 1],\n",
       "  [2, 1, 2],\n",
       "  [2, 1, 3],\n",
       "  [2, 1, 4],\n",
       "  [3, 5, 1],\n",
       "  [3, 5, 2],\n",
       "  [3, 5, 3],\n",
       "  [3, 5, 4],\n",
       "  [4, 10, 1],\n",
       "  [4, 10, 2],\n",
       "  [4, 10, 3],\n",
       "  [4, 10, 4]],\n",
       " [[3, 2, 1],\n",
       "  [3, 2, 2],\n",
       "  [3, 2, 3],\n",
       "  [3, 2, 4],\n",
       "  [4, 7, 1],\n",
       "  [4, 7, 2],\n",
       "  [4, 7, 3],\n",
       "  [4, 7, 4],\n",
       "  [5, 12, 1],\n",
       "  [5, 12, 2],\n",
       "  [5, 12, 3],\n",
       "  [5, 12, 4]],\n",
       " [[3, 0, 0],\n",
       "  [4, 5, 1],\n",
       "  [4, 5, 2],\n",
       "  [4, 5, 3],\n",
       "  [4, 5, 4],\n",
       "  [5, 10, 1],\n",
       "  [5, 10, 2],\n",
       "  [5, 10, 3],\n",
       "  [5, 10, 4]]]"
      ]
     },
     "execution_count": 3,
     "metadata": {},
     "output_type": "execute_result"
    }
   ],
   "source": [
    "dicNoteOnFingerBoard = funcCreatNoteDic()\n",
    "\n",
    "# 6666666666666666\n",
    "# need to set a function to extract continous MELODY\n",
    "contMel = [x[1][0] for x in events]\n",
    "\n",
    "possible = [] # possible positions\n",
    "for note in contMel: # continuous melody\n",
    "    possible.append(funcNote2Domain(note, dicNoteOnFingerBoard))\n",
    "\n",
    "possible\n"
   ]
  },
  {
   "cell_type": "code",
   "execution_count": 82,
   "metadata": {},
   "outputs": [
    {
     "data": {
      "text/plain": [
       "array([[ 1.75,  1.75,  1.75,  6.  ,  4.  ,  4.  ,  4.25,  2.5 ,  6.5 ,\n",
       "         5.5 ,  5.5 ,  5.  ],\n",
       "       [ 1.  ,  2.  ,  3.  ,  1.  ,  6.  ,  7.  ,  0.  ,  0.  , 10.  ,\n",
       "         0.  ,  0.  ,  4.  ]])"
      ]
     },
     "execution_count": 82,
     "metadata": {},
     "output_type": "execute_result"
    }
   ],
   "source": [
    "# 這個先保留用np array來儲存的方式 \n",
    "# 現在先用下面那個list的來測試\n",
    "event0Possible = possible[2]\n",
    "event1Possible = possible[3]\n",
    "\n",
    "costBest = []\n",
    "for i in range(len(possible)-1):\n",
    "    event0Possible = possible[i]\n",
    "    event1Possible = possible[i+1]\n",
    "    \n",
    "    costMatrixUnit = funcCalMelCostMatrix(event0Possible, event1Possible)\n",
    "    \n",
    "    npCostMatrixUnit = np.array(costMatrixUnit)\n",
    "    minValue = np.min(npCostMatrixUnit, axis = 0)\n",
    "    minIndex = np.argmin(npCostMatrixUnit, axis = 0)\n",
    "#     minSummary = np.vstack\n",
    "    costBest.append(np.vstack([minValue,minIndex]))\n",
    "costBest[0]"
   ]
  },
  {
   "cell_type": "code",
   "execution_count": 4,
   "metadata": {},
   "outputs": [],
   "source": [
    "# Search Best Path of MELODY\n",
    "# 要寫成通式\n",
    "# 讓chord 和 mix 也都以possible (可行解) 的方式存在\n",
    "# 用if 判斷目前event是哪兩個相鄰\n",
    "# 就用此兩項的func去做\n",
    "# 如\n",
    "# if event0Possible ==\"Mix\" and event1Possivle == \"MEL\"\n",
    "# 輸出都要是costMatrix\n",
    "# 就可以一條龍做完\n",
    "\n",
    "costBest = []\n",
    "iniSize = len(possible[0])\n",
    "npPreMinValue = np.zeros(iniSize)\n",
    "preMinIndex = [[0] for i in range(iniSize)]\n",
    "# for i in range(1):\n",
    "for i in range(len(possible)-1):\n",
    "    event0Possible = possible[i]\n",
    "    event1Possible = possible[i+1]\n",
    "    \n",
    "    # calculate MELODY cost\n",
    "    costMatrixUnit = funcCalMelCostMatrix(event0Possible, event1Possible)    \n",
    "    npCostMatrixUnit = np.array(costMatrixUnit)\n",
    "    \n",
    "    npMinValue = np.min(npCostMatrixUnit, axis = 0)    \n",
    "    npMinIndex = np.argmin(npCostMatrixUnit, axis = 0)\n",
    "    minIndex = list(npMinIndex)\n",
    "    \n",
    "    npCombMinValue = np.zeros(len(npMinValue))\n",
    "    combMinIndex = [0 for icmi in range(len(npMinValue))]\n",
    "\n",
    "    # minValue \n",
    "    for imin in range(len(npMinValue)):\n",
    "        npCombMinValue[imin] = npMinValue[imin] + npPreMinValue[npMinIndex[imin]]\n",
    "        combMinIndex[imin] = copy.deepcopy(preMinIndex[npMinIndex[imin]])\n",
    "        combMinIndex[imin].append(copy.deepcopy(minIndex[imin]))\n",
    "    npPreMinValue = npCombMinValue\n",
    "    preMinIndex = combMinIndex\n",
    "\n",
    "#     minSummary = np.vstack\n",
    "    costBest.append(copy.deepcopy([npCombMinValue,combMinIndex]))\n",
    "# costBest"
   ]
  },
  {
   "cell_type": "code",
   "execution_count": 7,
   "metadata": {},
   "outputs": [
    {
     "name": "stdout",
     "output_type": "stream",
     "text": [
      "cost=14.95 [[3, 2, 1], [3, 5, 4], [2, 3, 2], [2, 4, 3], [2, 3, 2], [3, 5, 4], [3, 2, 1], [3, 0, 0]]\n",
      "cost=23.75 [[4, 7, 3], [3, 5, 1], [3, 7, 3], [3, 8, 4], [3, 7, 3], [3, 5, 1], [4, 7, 3], [4, 5, 1]]\n",
      "cost=22.65 [[4, 7, 4], [3, 5, 2], [3, 7, 4], [2, 4, 1], [3, 7, 4], [3, 5, 2], [4, 7, 4], [4, 5, 2]]\n",
      "cost=17.70 [[3, 2, 1], [3, 5, 4], [2, 3, 2], [2, 4, 3], [2, 3, 2], [3, 5, 4], [3, 2, 1], [4, 5, 3]]\n",
      "cost=16.20 [[3, 2, 1], [3, 5, 4], [2, 3, 2], [2, 4, 3], [2, 3, 2], [3, 5, 4], [3, 2, 1], [4, 5, 4]]\n",
      "cost=36.68 [[4, 7, 1], [4, 10, 4], [3, 7, 1], [3, 8, 1], [4, 12, 3], [4, 10, 1], [5, 12, 3], [5, 10, 1]]\n",
      "cost=36.25 [[4, 7, 1], [4, 10, 4], [3, 7, 1], [3, 8, 1], [4, 12, 4], [4, 10, 2], [5, 12, 4], [5, 10, 2]]\n",
      "cost=30.50 [[4, 7, 1], [4, 10, 4], [3, 7, 1], [3, 8, 2], [3, 7, 1], [4, 10, 4], [4, 7, 1], [5, 10, 3]]\n",
      "cost=29.00 [[4, 7, 1], [4, 10, 4], [3, 7, 1], [3, 8, 2], [3, 7, 1], [4, 10, 4], [4, 7, 1], [5, 10, 4]]\n"
     ]
    }
   ],
   "source": [
    "for choose in range(len(costBest[-1][1])):\n",
    "#     choose = -1\n",
    "    bestPathNumber = costBest[-1][1][choose][1:]\n",
    "    bestPath = []\n",
    "    for i in range(len(bestPathNumber)):\n",
    "        bestPath.append(possible[i][bestPathNumber[i]])\n",
    "    bestPath.append(possible[-1][choose])\n",
    "#     print(\"cost=\" + str(costBest[-1][0][choose]) +\" \" + str(bestPath))\n",
    "    print(\"cost=\" + '%.2f' % costBest[-1][0][choose] +\" \" + str(bestPath))\n",
    "# bestPathNumber\n",
    "# bestPath\n"
   ]
  },
  {
   "cell_type": "code",
   "execution_count": 53,
   "metadata": {},
   "outputs": [
    {
     "name": "stdout",
     "output_type": "stream",
     "text": [
      "1\n",
      "2\n",
      "3\n",
      "1\n",
      "6\n",
      "7\n",
      "0\n",
      "0\n",
      "10\n",
      "0\n",
      "0\n",
      "4\n"
     ]
    },
    {
     "data": {
      "text/plain": [
       "[0, 0, 0, 0, 0, 0, 0, 0, 0, 0, 0, 0]"
      ]
     },
     "execution_count": 53,
     "metadata": {},
     "output_type": "execute_result"
    }
   ],
   "source": [
    "npMinIndex = np.argmin(npCostMatrixUnit, axis = 0)\n",
    "minIndex = list(npMinIndex)\n",
    "npCombMinValue = np.zeros(len(npMinValue))\n",
    "combMinIndex = [0]*len(npMinValue)\n",
    "\n",
    "for imin in range(len(npMinValue)):\n",
    "    npCombMinValue[imin] = npMinValue + npPreMinValue[npMinIndex[imin]]\n",
    "    combMinIndex[imin] = preMinIndex[npMinIndex[imin]]\n",
    "    combMinIndex[imin].append(npMinIndex[imin])\n",
    "    \n"
   ]
  },
  {
   "cell_type": "code",
   "execution_count": 6,
   "metadata": {},
   "outputs": [],
   "source": [
    "\n",
    "# costStretch between finger1 and finger2\n",
    "def funcCostFinger(pos0, pos1, plot=False):\n",
    "    finger0 = pos0[2]\n",
    "    finger1 = pos1[2]\n",
    "    fret0 = pos0[1]\n",
    "    fret1 = pos1[1]\n",
    "    sign = -1 if finger0 > finger1 else 1\n",
    "\n",
    "    deltaFret = fret1 - fret0\n",
    "    absDeltaFinger = abs(finger0-finger1)\n",
    "    \n",
    "    if (finger0 == 0 or finger1 == 0):\n",
    "        costStretch = 0.5\n",
    "    else:\n",
    "        #  ********** PWL parameter ***********\n",
    "        # pwl = [[-1,1,2], [5, 0.5, 2]]\n",
    "#         pwl = [[-1,absDeltaFinger,absDeltaFinger+1], [5, 0.5, 2]]\n",
    "        pwl = [[-10, -1,absDeltaFinger,absDeltaFinger+1, 10], [10, 5, 0.5, 2, 5]]\n",
    "        pwl = np.array(pwl)\n",
    "        pwl[0,:] = pwl[0,:]*sign\n",
    "        pwl = pwl[:,pwl[0,:].argsort()] # sorting by x value\n",
    "\n",
    "        costStretch = np.interp(deltaFret, pwl[0,:], pwl[1,:], left=pwl[1,0], right=pwl[1,-1])\n",
    "        \n",
    "        \n",
    "    if plot:\n",
    "        x = np.linspace(-5, 5, 11)\n",
    "        if (finger0 == 0 or finger1 == 0):\n",
    "            plt.plot(x, [0.5]*len(x))\n",
    "        else:\n",
    "            y = np.interp(x, pwl[0,:], pwl[1,:], left=pwl[1,0], right=pwl[1,-1])\n",
    "            plt.plot(x,y)\n",
    "            \n",
    "        plt.title(\"Finger\" + str(finger0) + \" to Finger\" + str(finger1))\n",
    "        plt.xlabel(\"delta fret\")\n",
    "        plt.ylabel(\"cost\")\n",
    "        plt.xticks(np.arange(min(x), max(x)+1, 1.0))\n",
    "        plt.grid(True)\n",
    "        plt.ylim(0,11)\n",
    "    return costStretch\n",
    "\n"
   ]
  }
 ],
 "metadata": {
  "kernelspec": {
   "display_name": "Python 3",
   "language": "python",
   "name": "python3"
  },
  "language_info": {
   "codemirror_mode": {
    "name": "ipython",
    "version": 3
   },
   "file_extension": ".py",
   "mimetype": "text/x-python",
   "name": "python",
   "nbconvert_exporter": "python",
   "pygments_lexer": "ipython3",
   "version": "3.6.8"
  }
 },
 "nbformat": 4,
 "nbformat_minor": 2
}
