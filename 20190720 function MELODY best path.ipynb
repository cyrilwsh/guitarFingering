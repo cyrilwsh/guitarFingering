{
 "cells": [
  {
   "cell_type": "code",
   "execution_count": 1,
   "metadata": {},
   "outputs": [
    {
     "name": "stdout",
     "output_type": "stream",
     "text": [
      "Track 0: Steel Guitar\n"
     ]
    },
    {
     "data": {
      "text/plain": [
       "[[57, 0, 240, 'MEL', 0],\n",
       " [60, 240, 480, 'MEL', 1],\n",
       " [62, 480, 720, 'MEL', 2],\n",
       " [63, 720, 960, 'MEL', 3],\n",
       " [62, 960, 1200, 'MEL', 4],\n",
       " [60, 1200, 1440, 'MEL', 5],\n",
       " [57, 1440, 1680, 'MEL', 6],\n",
       " [55, 1680, 1920, 'MEL', 7],\n",
       " [0, 2919, 2920, 'dummy line', 8]]"
      ]
     },
     "execution_count": 1,
     "metadata": {},
     "output_type": "execute_result"
    }
   ],
   "source": [
    "# from mido import MidiFile\n",
    "from funcMidi import * # create by SH\n",
    "\n",
    "MidiFileName = 'p20190719 melody.mid'\n",
    "\n",
    "\n",
    "(midiArray, dicEvent) = MidiCategorize(MidiFileName)\n",
    "midiArray\n"
   ]
  },
  {
   "cell_type": "code",
   "execution_count": 2,
   "metadata": {},
   "outputs": [
    {
     "data": {
      "text/plain": [
       "[['MEL', [57, 0, 240]],\n",
       " ['MEL', [60, 240, 480]],\n",
       " ['MEL', [62, 480, 720]],\n",
       " ['MEL', [63, 720, 960]],\n",
       " ['MEL', [62, 960, 1200]],\n",
       " ['MEL', [60, 1200, 1440]],\n",
       " ['MEL', [57, 1440, 1680]],\n",
       " ['MEL', [55, 1680, 1920]]]"
      ]
     },
     "execution_count": 2,
     "metadata": {},
     "output_type": "execute_result"
    }
   ],
   "source": [
    "noteEvent = 0\n",
    "events = []\n",
    "\n",
    "while noteEvent in range(len(midiArray)-1):\n",
    "    events.append([midiArray[noteEvent][3],midiArray[noteEvent][0:3]])\n",
    "    noteEvent = noteEvent + 1\n",
    "    while midiArray[noteEvent][4] == midiArray[noteEvent -1][4] and noteEvent in range(len(midiArray)):\n",
    "        events[midiArray[noteEvent][4]].append(midiArray[noteEvent][0:3])\n",
    "        noteEvent = noteEvent + 1\n",
    "events\n"
   ]
  },
  {
   "cell_type": "code",
   "execution_count": 3,
   "metadata": {
    "collapsed": true
   },
   "outputs": [
    {
     "name": "stdout",
     "output_type": "stream",
     "text": [
      "capo = 0\n",
      "tuning = [64, 59, 55, 50, 45, 40]\n",
      "Notes in Finger board:\n",
      "[64, 65, 66, 67, 68, 69, 70, 71, 72, 73, 74, 75, 76]\n",
      "[59, 60, 61, 62, 63, 64, 65, 66, 67, 68, 69, 70, 71]\n",
      "[55, 56, 57, 58, 59, 60, 61, 62, 63, 64, 65, 66, 67]\n",
      "[50, 51, 52, 53, 54, 55, 56, 57, 58, 59, 60, 61, 62]\n",
      "[45, 46, 47, 48, 49, 50, 51, 52, 53, 54, 55, 56, 57]\n",
      "[40, 41, 42, 43, 44, 45, 46, 47, 48, 49, 50, 51, 52]\n"
     ]
    },
    {
     "data": {
      "text/plain": [
       "[[[3, 2, 1],\n",
       "  [3, 2, 2],\n",
       "  [3, 2, 3],\n",
       "  [3, 2, 4],\n",
       "  [4, 7, 1],\n",
       "  [4, 7, 2],\n",
       "  [4, 7, 3],\n",
       "  [4, 7, 4],\n",
       "  [5, 12, 1],\n",
       "  [5, 12, 2],\n",
       "  [5, 12, 3],\n",
       "  [5, 12, 4]],\n",
       " [[2, 1, 1],\n",
       "  [2, 1, 2],\n",
       "  [2, 1, 3],\n",
       "  [2, 1, 4],\n",
       "  [3, 5, 1],\n",
       "  [3, 5, 2],\n",
       "  [3, 5, 3],\n",
       "  [3, 5, 4],\n",
       "  [4, 10, 1],\n",
       "  [4, 10, 2],\n",
       "  [4, 10, 3],\n",
       "  [4, 10, 4]],\n",
       " [[2, 3, 1],\n",
       "  [2, 3, 2],\n",
       "  [2, 3, 3],\n",
       "  [2, 3, 4],\n",
       "  [3, 7, 1],\n",
       "  [3, 7, 2],\n",
       "  [3, 7, 3],\n",
       "  [3, 7, 4],\n",
       "  [4, 12, 1],\n",
       "  [4, 12, 2],\n",
       "  [4, 12, 3],\n",
       "  [4, 12, 4]],\n",
       " [[2, 4, 1],\n",
       "  [2, 4, 2],\n",
       "  [2, 4, 3],\n",
       "  [2, 4, 4],\n",
       "  [3, 8, 1],\n",
       "  [3, 8, 2],\n",
       "  [3, 8, 3],\n",
       "  [3, 8, 4]],\n",
       " [[2, 3, 1],\n",
       "  [2, 3, 2],\n",
       "  [2, 3, 3],\n",
       "  [2, 3, 4],\n",
       "  [3, 7, 1],\n",
       "  [3, 7, 2],\n",
       "  [3, 7, 3],\n",
       "  [3, 7, 4],\n",
       "  [4, 12, 1],\n",
       "  [4, 12, 2],\n",
       "  [4, 12, 3],\n",
       "  [4, 12, 4]],\n",
       " [[2, 1, 1],\n",
       "  [2, 1, 2],\n",
       "  [2, 1, 3],\n",
       "  [2, 1, 4],\n",
       "  [3, 5, 1],\n",
       "  [3, 5, 2],\n",
       "  [3, 5, 3],\n",
       "  [3, 5, 4],\n",
       "  [4, 10, 1],\n",
       "  [4, 10, 2],\n",
       "  [4, 10, 3],\n",
       "  [4, 10, 4]],\n",
       " [[3, 2, 1],\n",
       "  [3, 2, 2],\n",
       "  [3, 2, 3],\n",
       "  [3, 2, 4],\n",
       "  [4, 7, 1],\n",
       "  [4, 7, 2],\n",
       "  [4, 7, 3],\n",
       "  [4, 7, 4],\n",
       "  [5, 12, 1],\n",
       "  [5, 12, 2],\n",
       "  [5, 12, 3],\n",
       "  [5, 12, 4]],\n",
       " [[3, 0, 0],\n",
       "  [4, 5, 1],\n",
       "  [4, 5, 2],\n",
       "  [4, 5, 3],\n",
       "  [4, 5, 4],\n",
       "  [5, 10, 1],\n",
       "  [5, 10, 2],\n",
       "  [5, 10, 3],\n",
       "  [5, 10, 4]]]"
      ]
     },
     "execution_count": 3,
     "metadata": {},
     "output_type": "execute_result"
    }
   ],
   "source": [
    "dicNoteOnFingerBoard = funcCreatNoteDic()\n",
    "\n",
    "# 6666666666666666\n",
    "# need to set a function to extract continous MELODY\n",
    "contMel = [x[1][0] for x in events]\n",
    "\n",
    "possible = [] # possible positions\n",
    "for note in contMel: # continuous melody\n",
    "    possible.append(funcNote2Domain(note, dicNoteOnFingerBoard))\n",
    "\n",
    "possible\n"
   ]
  },
  {
   "cell_type": "code",
   "execution_count": 31,
   "metadata": {},
   "outputs": [],
   "source": [
    "# Calculate melody transition cost\n",
    "def funcCalMelCost(event0Possible, event1Possible):\n",
    "    costMatrixUnit = []\n",
    "    for pos0 in event0Possible:\n",
    "        pos0beg =[]\n",
    "        for pos1 in event1Possible:\n",
    "            \n",
    "            # cost is putting here\n",
    "            # initialise cost\n",
    "            costStretch = float(\"inf\")\n",
    "            costLocal = float(\"inf\")\n",
    "            # maybe write a function, input is pos0 and pos1\n",
    "            costAlong  = funcCalCostAlong(pos0, pos1)\n",
    "            costAcross = funcCalCostAcross(pos0, pos1)\n",
    "            cost = costAlong + costAcross\n",
    "\n",
    "            pos0beg.append(cost)\n",
    "        costMatrixUnit.append(pos0beg)\n",
    "    return costMatrixUnit"
   ]
  },
  {
   "cell_type": "code",
   "execution_count": 82,
   "metadata": {},
   "outputs": [
    {
     "data": {
      "text/plain": [
       "array([[ 1.75,  1.75,  1.75,  6.  ,  4.  ,  4.  ,  4.25,  2.5 ,  6.5 ,\n",
       "         5.5 ,  5.5 ,  5.  ],\n",
       "       [ 1.  ,  2.  ,  3.  ,  1.  ,  6.  ,  7.  ,  0.  ,  0.  , 10.  ,\n",
       "         0.  ,  0.  ,  4.  ]])"
      ]
     },
     "execution_count": 82,
     "metadata": {},
     "output_type": "execute_result"
    }
   ],
   "source": [
    "# 這個先保留用np array來儲存的方式 \n",
    "# 現在先用下面那個list的來測試\n",
    "event0Possible = possible[2]\n",
    "event1Possible = possible[3]\n",
    "\n",
    "costBest = []\n",
    "for i in range(len(possible)-1):\n",
    "    event0Possible = possible[i]\n",
    "    event1Possible = possible[i+1]\n",
    "    \n",
    "    costMatrixUnit = funcCalMelCost(event0Possible, event1Possible)\n",
    "    \n",
    "    npCostMatrixUnit = np.array(costMatrixUnit)\n",
    "    minValue = np.min(npCostMatrixUnit, axis = 0)\n",
    "    minIndex = np.argmin(npCostMatrixUnit, axis = 0)\n",
    "#     minSummary = np.vstack\n",
    "    costBest.append(np.vstack([minValue,minIndex]))\n",
    "costBest[0]"
   ]
  },
  {
   "cell_type": "code",
   "execution_count": 17,
   "metadata": {},
   "outputs": [
    {
     "data": {
      "text/plain": [
       "(2, 9)"
      ]
     },
     "execution_count": 17,
     "metadata": {},
     "output_type": "execute_result"
    }
   ],
   "source": [
    "for i in range(np.shape(costBest[-1])[1]) :\n",
    "    "
   ]
  },
  {
   "cell_type": "code",
   "execution_count": 108,
   "metadata": {},
   "outputs": [],
   "source": [
    "# event0Possible = possible[2]\n",
    "# event1Possible = possible[3]\n",
    "\n",
    "costBest = []\n",
    "iniSize = len(possible[0])\n",
    "npPreMinValue = np.zeros(iniSize)\n",
    "preMinIndex = [[0] for i in range(iniSize)]\n",
    "# for i in range(1):\n",
    "for i in range(len(possible)-1):\n",
    "    event0Possible = possible[i]\n",
    "    event1Possible = possible[i+1]\n",
    "    \n",
    "    costMatrixUnit = funcCalMelCost(event0Possible, event1Possible)\n",
    "    \n",
    "    npCostMatrixUnit = np.array(costMatrixUnit)\n",
    "    npMinValue = np.min(npCostMatrixUnit, axis = 0)\n",
    "        \n",
    "    npMinIndex = np.argmin(npCostMatrixUnit, axis = 0)\n",
    "    minIndex = list(npMinIndex)\n",
    "    \n",
    "    \n",
    "    npCombMinValue = np.zeros(len(npMinValue))\n",
    "#     combMinIndex = [0]*len(npMinValue)\n",
    "    combMinIndex = [0 for icmi in range(len(npMinValue))]\n",
    "#     print(combMinIndex)\n",
    "    for imin in range(len(npMinValue)):\n",
    "        npCombMinValue[imin] = npMinValue[imin] + npPreMinValue[npMinIndex[imin]]\n",
    "        combMinIndex[imin] = copy.deepcopy(preMinIndex[npMinIndex[imin]])\n",
    "        combMinIndex[imin].append(copy.deepcopy(minIndex[imin]))\n",
    "    npPreMinValue = npCombMinValue\n",
    "    preMinIndex = combMinIndex\n",
    "\n",
    "#     minSummary = np.vstack\n",
    "    costBest.append(copy.deepcopy([npCombMinValue,combMinIndex]))\n",
    "# costBest"
   ]
  },
  {
   "cell_type": "code",
   "execution_count": 109,
   "metadata": {},
   "outputs": [
    {
     "name": "stdout",
     "output_type": "stream",
     "text": [
      "cost=13.25[[3, 2, 2], [2, 1, 1], [2, 3, 3], [2, 4, 4], [2, 3, 3], [2, 1, 1], [3, 2, 2], [3, 0, 0]]\n",
      "cost=28.25[[4, 7, 3], [3, 5, 1], [3, 7, 3], [3, 8, 4], [3, 7, 3], [3, 5, 1], [4, 7, 3], [4, 5, 1]]\n",
      "cost=26.75[[4, 7, 4], [3, 5, 2], [3, 7, 4], [2, 4, 1], [3, 7, 4], [3, 5, 2], [4, 7, 4], [4, 5, 2]]\n",
      "cost=20.25[[3, 2, 1], [3, 5, 4], [2, 3, 2], [2, 4, 3], [2, 3, 2], [3, 5, 4], [3, 2, 1], [4, 5, 3]]\n",
      "cost=18.75[[3, 2, 1], [3, 5, 4], [2, 3, 2], [2, 4, 3], [2, 3, 2], [3, 5, 4], [3, 2, 1], [4, 5, 4]]\n",
      "cost=22.25[[3, 2, 2], [2, 1, 1], [2, 3, 3], [2, 4, 4], [2, 3, 3], [2, 1, 1], [5, 12, 3], [5, 10, 1]]\n",
      "cost=21.5[[3, 2, 1], [3, 5, 4], [2, 3, 2], [2, 4, 3], [2, 3, 2], [3, 5, 4], [3, 2, 1], [5, 10, 2]]\n",
      "cost=21.5[[3, 2, 1], [3, 5, 4], [2, 3, 2], [2, 4, 3], [2, 3, 2], [3, 5, 4], [3, 2, 1], [5, 10, 3]]\n",
      "cost=34.75[[4, 7, 1], [4, 10, 4], [3, 7, 1], [3, 8, 2], [3, 7, 1], [4, 10, 4], [4, 7, 1], [5, 10, 4]]\n"
     ]
    }
   ],
   "source": [
    "for choose in range(len(costBest[-1][1])):\n",
    "#     choose = -1\n",
    "    bestPathNumber = costBest[-1][1][choose][1:]\n",
    "    bestPath = []\n",
    "    for i in range(len(bestPathNumber)):\n",
    "        bestPath.append(possible[i][bestPathNumber[i]])\n",
    "    bestPath.append(possible[-1][choose])\n",
    "    print(\"cost=\" + str(costBest[-1][0][choose]) + str(bestPath))\n",
    "# bestPathNumber\n",
    "# bestPath\n"
   ]
  },
  {
   "cell_type": "code",
   "execution_count": null,
   "metadata": {},
   "outputs": [],
   "source": []
  },
  {
   "cell_type": "code",
   "execution_count": 53,
   "metadata": {},
   "outputs": [
    {
     "name": "stdout",
     "output_type": "stream",
     "text": [
      "1\n",
      "2\n",
      "3\n",
      "1\n",
      "6\n",
      "7\n",
      "0\n",
      "0\n",
      "10\n",
      "0\n",
      "0\n",
      "4\n"
     ]
    },
    {
     "data": {
      "text/plain": [
       "[0, 0, 0, 0, 0, 0, 0, 0, 0, 0, 0, 0]"
      ]
     },
     "execution_count": 53,
     "metadata": {},
     "output_type": "execute_result"
    }
   ],
   "source": [
    "npMinIndex = np.argmin(npCostMatrixUnit, axis = 0)\n",
    "minIndex = list(npMinIndex)\n",
    "npCombMinValue = np.zeros(len(npMinValue))\n",
    "combMinIndex = [0]*len(npMinValue)\n",
    "\n",
    "for imin in range(len(npMinValue)):\n",
    "    npCombMinValue[imin] = npMinValue + npPreMinValue[npMinIndex[imin]]\n",
    "    combMinIndex[imin] = preMinIndex[npMinIndex[imin]]\n",
    "    combMinIndex[imin].append(npMinIndex[imin])\n",
    "    \n"
   ]
  }
 ],
 "metadata": {
  "kernelspec": {
   "display_name": "Python 3",
   "language": "python",
   "name": "python3"
  },
  "language_info": {
   "codemirror_mode": {
    "name": "ipython",
    "version": 3
   },
   "file_extension": ".py",
   "mimetype": "text/x-python",
   "name": "python",
   "nbconvert_exporter": "python",
   "pygments_lexer": "ipython3",
   "version": "3.6.8"
  }
 },
 "nbformat": 4,
 "nbformat_minor": 2
}
