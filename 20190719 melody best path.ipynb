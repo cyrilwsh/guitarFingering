{
 "cells": [
  {
   "cell_type": "code",
   "execution_count": 10,
   "metadata": {},
   "outputs": [
    {
     "name": "stdout",
     "output_type": "stream",
     "text": [
      "Track 0: Steel Guitar\n"
     ]
    },
    {
     "data": {
      "text/plain": [
       "[[57, 0, 240, 'MEL', 0],\n",
       " [60, 240, 480, 'MEL', 1],\n",
       " [62, 480, 720, 'MEL', 2],\n",
       " [63, 720, 960, 'MEL', 3],\n",
       " [62, 960, 1200, 'MEL', 4],\n",
       " [60, 1200, 1440, 'MEL', 5],\n",
       " [57, 1440, 1680, 'MEL', 6],\n",
       " [55, 1680, 1920, 'MEL', 7],\n",
       " [0, 2919, 2920, 'dummy line', 8]]"
      ]
     },
     "execution_count": 10,
     "metadata": {},
     "output_type": "execute_result"
    }
   ],
   "source": [
    "# from mido import MidiFile\n",
    "from funcMidi import * # create by SH\n",
    "\n",
    "MidiFileName = 'p20190719 melody.mid'\n",
    "\n",
    "\n",
    "(midiArray, dicEvent) = MidiCategorize(MidiFileName)\n",
    "midiArray"
   ]
  },
  {
   "cell_type": "code",
   "execution_count": 11,
   "metadata": {},
   "outputs": [
    {
     "data": {
      "text/plain": [
       "[['MEL', [57, 0, 240]],\n",
       " ['MEL', [60, 240, 480]],\n",
       " ['MEL', [62, 480, 720]],\n",
       " ['MEL', [63, 720, 960]],\n",
       " ['MEL', [62, 960, 1200]],\n",
       " ['MEL', [60, 1200, 1440]],\n",
       " ['MEL', [57, 1440, 1680]],\n",
       " ['MEL', [55, 1680, 1920]]]"
      ]
     },
     "execution_count": 11,
     "metadata": {},
     "output_type": "execute_result"
    }
   ],
   "source": [
    "noteEvent = 0\n",
    "events = []\n",
    "\n",
    "while noteEvent in range(len(midiArray)-1):\n",
    "    events.append([midiArray[noteEvent][3],midiArray[noteEvent][0:3]])\n",
    "    noteEvent = noteEvent + 1\n",
    "    while midiArray[noteEvent][4] == midiArray[noteEvent -1][4] and noteEvent in range(len(midiArray)):\n",
    "        events[midiArray[noteEvent][4]].append(midiArray[noteEvent][0:3])\n",
    "        noteEvent = noteEvent + 1\n",
    "events"
   ]
  },
  {
   "cell_type": "code",
   "execution_count": 16,
   "metadata": {},
   "outputs": [
    {
     "name": "stdout",
     "output_type": "stream",
     "text": [
      "capo = 0\n",
      "tuning = [64, 59, 55, 50, 45, 40]\n",
      "Notes in Finger board:\n",
      "[64, 65, 66, 67, 68, 69, 70, 71, 72, 73, 74, 75, 76]\n",
      "[59, 60, 61, 62, 63, 64, 65, 66, 67, 68, 69, 70, 71]\n",
      "[55, 56, 57, 58, 59, 60, 61, 62, 63, 64, 65, 66, 67]\n",
      "[50, 51, 52, 53, 54, 55, 56, 57, 58, 59, 60, 61, 62]\n",
      "[45, 46, 47, 48, 49, 50, 51, 52, 53, 54, 55, 56, 57]\n",
      "[40, 41, 42, 43, 44, 45, 46, 47, 48, 49, 50, 51, 52]\n"
     ]
    },
    {
     "data": {
      "text/plain": [
       "[[[3, 2], [4, 7], [5, 12]],\n",
       " [[2, 1], [3, 5], [4, 10]],\n",
       " [[2, 3], [3, 7], [4, 12]],\n",
       " [[2, 4], [3, 8]],\n",
       " [[2, 3], [3, 7], [4, 12]],\n",
       " [[2, 1], [3, 5], [4, 10]],\n",
       " [[3, 2], [4, 7], [5, 12]],\n",
       " [[3, 0], [4, 5], [5, 10]]]"
      ]
     },
     "execution_count": 16,
     "metadata": {},
     "output_type": "execute_result"
    }
   ],
   "source": [
    "dicNoteOnFingerBoard = funcCreatNoteDic()\n",
    "\n",
    "contMel = [x[1][0] for x in events]\n",
    "\n",
    "candidates = []\n",
    "for note in contMel:\n",
    "    candidates.append(dicNoteOnFingerBoard[note])\n",
    "\n",
    "candidates"
   ]
  },
  {
   "cell_type": "code",
   "execution_count": 23,
   "metadata": {},
   "outputs": [
    {
     "data": {
      "text/plain": [
       "[[1, 1], [1, 1], [1, 1]]"
      ]
     },
     "execution_count": 23,
     "metadata": {},
     "output_type": "execute_result"
    }
   ],
   "source": [
    "note0 = candidates[2]\n",
    "note1 = candidates[3]\n",
    "\n",
    "costMetrixUnit = []\n",
    "for pos0 in note0:\n",
    "    pos0beg =[]\n",
    "    for pos1 in note1:\n",
    "        # cost is putting here\n",
    "        # maybe write a function, input is pos0 and pos1\n",
    "        cost = 1\n",
    "        pos0beg.append(cost)\n",
    "    costMetrixUnit.append(pos0beg)\n",
    "\n",
    "costMetrixUnit\n"
   ]
  },
  {
   "cell_type": "code",
   "execution_count": 24,
   "metadata": {},
   "outputs": [
    {
     "data": {
      "text/plain": [
       "[4, 12]"
      ]
     },
     "execution_count": 24,
     "metadata": {},
     "output_type": "execute_result"
    }
   ],
   "source": [
    "pos0\n"
   ]
  },
  {
   "cell_type": "code",
   "execution_count": 26,
   "metadata": {},
   "outputs": [],
   "source": [
    "dicNoteOnFingerBoard[62]\n",
    "choNote=[45, 56]\n"
   ]
  },
  {
   "cell_type": "code",
   "execution_count": 29,
   "metadata": {},
   "outputs": [
    {
     "name": "stdout",
     "output_type": "stream",
     "text": [
      "[[]]\n",
      "[[[5, 0, 0], [6, 5, 1], [6, 5, 2], [6, 5, 3], [6, 5, 4]], []]\n"
     ]
    },
    {
     "data": {
      "text/plain": [
       "[[[5, 0, 0], [6, 5, 1], [6, 5, 2], [6, 5, 3], [6, 5, 4]],\n",
       " [[3, 1, 1],\n",
       "  [3, 1, 2],\n",
       "  [3, 1, 3],\n",
       "  [3, 1, 4],\n",
       "  [4, 6, 1],\n",
       "  [4, 6, 2],\n",
       "  [4, 6, 3],\n",
       "  [4, 6, 4],\n",
       "  [5, 11, 1],\n",
       "  [5, 11, 2],\n",
       "  [5, 11, 3],\n",
       "  [5, 11, 4]]]"
      ]
     },
     "execution_count": 29,
     "metadata": {},
     "output_type": "execute_result"
    }
   ],
   "source": [
    "# def funcNoteDomains(choNote, dicNoteOnFingerBoard):\n",
    "domains = []\n",
    "x = 0 # variable\n",
    "for x in range(len(choNote)):\n",
    "    # x = 41\n",
    "    domains.append([])\n",
    "#     print(domains)\n",
    "    fingerings = dicNoteOnFingerBoard[choNote[x]]\n",
    "    # fingerings = [[5, 2], [6, 7]]\n",
    "    for fingering in fingerings:\n",
    "        # fingering = [5,2]\n",
    "        if fingering[1] == 0: # if fret=0, no need swap all fingers\n",
    "            domains[x].append(fingering + [0])\n",
    "        else: # if fret !=0, swap all fingers 1~4\n",
    "            for finger1234 in range (1,5):\n",
    "#                 print(finger1234)\n",
    "                domains[x].append(fingering + [finger1234])\n",
    "# return domains\n",
    "domains\n"
   ]
  },
  {
   "cell_type": "code",
   "execution_count": 31,
   "metadata": {},
   "outputs": [],
   "source": [
    "# input note, output domain\n",
    "def funcNote2Domain(note, dicNoteOnFingerBoard):\n",
    "    fingerings = dicNoteOnFingerBoard[note]\n",
    "    domain = []\n",
    "    for fingering in fingerings:\n",
    "        # fingering = [5,2]\n",
    "        if fingering[1] == 0: # if fret=0, no need swap all fingers\n",
    "            domain.append(fingering + [0])\n",
    "        else: # if fret !=0, swap all fingers 1~4\n",
    "            for finger1234 in range (1,5):\n",
    "    #                 print(finger1234)\n",
    "                domain.append(fingering + [finger1234])\n",
    "    return domain\n",
    "\n"
   ]
  },
  {
   "cell_type": "code",
   "execution_count": 33,
   "metadata": {},
   "outputs": [],
   "source": [
    "# input choNote, output domains\n",
    "# funcNoteDomains\n",
    "def funcNoteDomains(choNote, dicNoteOnFingerBoard):\n",
    "    domains = []\n",
    "    for note in choNote:\n",
    "        domain = funcNote2Domain(note, dicNoteOnFingerBoard)\n",
    "        domains.append(domain)\n",
    "    return domains"
   ]
  },
  {
   "cell_type": "code",
   "execution_count": 34,
   "metadata": {},
   "outputs": [
    {
     "data": {
      "text/plain": [
       "[[[5, 0, 0], [6, 5, 1], [6, 5, 2], [6, 5, 3], [6, 5, 4]],\n",
       " [[3, 1, 1],\n",
       "  [3, 1, 2],\n",
       "  [3, 1, 3],\n",
       "  [3, 1, 4],\n",
       "  [4, 6, 1],\n",
       "  [4, 6, 2],\n",
       "  [4, 6, 3],\n",
       "  [4, 6, 4],\n",
       "  [5, 11, 1],\n",
       "  [5, 11, 2],\n",
       "  [5, 11, 3],\n",
       "  [5, 11, 4]]]"
      ]
     },
     "execution_count": 34,
     "metadata": {},
     "output_type": "execute_result"
    }
   ],
   "source": [
    "funcNoteDomains(choNote, dicNoteOnFingerBoard)"
   ]
  }
 ],
 "metadata": {
  "kernelspec": {
   "display_name": "Python 3",
   "language": "python",
   "name": "python3"
  },
  "language_info": {
   "codemirror_mode": {
    "name": "ipython",
    "version": 3
   },
   "file_extension": ".py",
   "mimetype": "text/x-python",
   "name": "python",
   "nbconvert_exporter": "python",
   "pygments_lexer": "ipython3",
   "version": "3.6.8"
  }
 },
 "nbformat": 4,
 "nbformat_minor": 2
}
