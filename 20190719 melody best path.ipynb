{
 "cells": [
  {
   "cell_type": "code",
   "execution_count": 10,
   "metadata": {},
   "outputs": [
    {
     "name": "stdout",
     "output_type": "stream",
     "text": [
      "Track 0: Steel Guitar\n"
     ]
    },
    {
     "data": {
      "text/plain": [
       "[[57, 0, 240, 'MEL', 0],\n",
       " [60, 240, 480, 'MEL', 1],\n",
       " [62, 480, 720, 'MEL', 2],\n",
       " [63, 720, 960, 'MEL', 3],\n",
       " [62, 960, 1200, 'MEL', 4],\n",
       " [60, 1200, 1440, 'MEL', 5],\n",
       " [57, 1440, 1680, 'MEL', 6],\n",
       " [55, 1680, 1920, 'MEL', 7],\n",
       " [0, 2919, 2920, 'dummy line', 8]]"
      ]
     },
     "execution_count": 10,
     "metadata": {},
     "output_type": "execute_result"
    }
   ],
   "source": [
    "# from mido import MidiFile\n",
    "from funcMidi import * # create by SH\n",
    "\n",
    "MidiFileName = 'p20190719 melody.mid'\n",
    "\n",
    "\n",
    "(midiArray, dicEvent) = MidiCategorize(MidiFileName)\n",
    "midiArray\n"
   ]
  },
  {
   "cell_type": "code",
   "execution_count": 11,
   "metadata": {},
   "outputs": [
    {
     "data": {
      "text/plain": [
       "[['MEL', [57, 0, 240]],\n",
       " ['MEL', [60, 240, 480]],\n",
       " ['MEL', [62, 480, 720]],\n",
       " ['MEL', [63, 720, 960]],\n",
       " ['MEL', [62, 960, 1200]],\n",
       " ['MEL', [60, 1200, 1440]],\n",
       " ['MEL', [57, 1440, 1680]],\n",
       " ['MEL', [55, 1680, 1920]]]"
      ]
     },
     "execution_count": 11,
     "metadata": {},
     "output_type": "execute_result"
    }
   ],
   "source": [
    "noteEvent = 0\n",
    "events = []\n",
    "\n",
    "while noteEvent in range(len(midiArray)-1):\n",
    "    events.append([midiArray[noteEvent][3],midiArray[noteEvent][0:3]])\n",
    "    noteEvent = noteEvent + 1\n",
    "    while midiArray[noteEvent][4] == midiArray[noteEvent -1][4] and noteEvent in range(len(midiArray)):\n",
    "        events[midiArray[noteEvent][4]].append(midiArray[noteEvent][0:3])\n",
    "        noteEvent = noteEvent + 1\n",
    "events\n"
   ]
  },
  {
   "cell_type": "code",
   "execution_count": 26,
   "metadata": {},
   "outputs": [],
   "source": [
    "dicNoteOnFingerBoard[62]\n",
    "choNote=[45, 56]\n"
   ]
  },
  {
   "cell_type": "code",
   "execution_count": 31,
   "metadata": {},
   "outputs": [],
   "source": [
    "# input note, output domain\n",
    "def funcNote2Domain(note, dicNoteOnFingerBoard):\n",
    "    fingerings = dicNoteOnFingerBoard[note]\n",
    "    domain = []\n",
    "    for fingering in fingerings:\n",
    "        # fingering = [5,2]\n",
    "        if fingering[1] == 0: # if fret=0, no need swap all fingers\n",
    "            domain.append(fingering + [0])\n",
    "        else: # if fret !=0, swap all fingers 1~4\n",
    "            for finger1234 in range (1,5):\n",
    "    #                 print(finger1234)\n",
    "                domain.append(fingering + [finger1234])\n",
    "    return domain\n",
    "\n"
   ]
  },
  {
   "cell_type": "code",
   "execution_count": 224,
   "metadata": {
    "collapsed": true
   },
   "outputs": [
    {
     "name": "stdout",
     "output_type": "stream",
     "text": [
      "capo = 0\n",
      "tuning = [64, 59, 55, 50, 45, 40]\n",
      "Notes in Finger board:\n",
      "[64, 65, 66, 67, 68, 69, 70, 71, 72, 73, 74, 75, 76]\n",
      "[59, 60, 61, 62, 63, 64, 65, 66, 67, 68, 69, 70, 71]\n",
      "[55, 56, 57, 58, 59, 60, 61, 62, 63, 64, 65, 66, 67]\n",
      "[50, 51, 52, 53, 54, 55, 56, 57, 58, 59, 60, 61, 62]\n",
      "[45, 46, 47, 48, 49, 50, 51, 52, 53, 54, 55, 56, 57]\n",
      "[40, 41, 42, 43, 44, 45, 46, 47, 48, 49, 50, 51, 52]\n"
     ]
    },
    {
     "data": {
      "text/plain": [
       "[[[3, 2, 1],\n",
       "  [3, 2, 2],\n",
       "  [3, 2, 3],\n",
       "  [3, 2, 4],\n",
       "  [4, 7, 1],\n",
       "  [4, 7, 2],\n",
       "  [4, 7, 3],\n",
       "  [4, 7, 4],\n",
       "  [5, 12, 1],\n",
       "  [5, 12, 2],\n",
       "  [5, 12, 3],\n",
       "  [5, 12, 4]],\n",
       " [[2, 1, 1],\n",
       "  [2, 1, 2],\n",
       "  [2, 1, 3],\n",
       "  [2, 1, 4],\n",
       "  [3, 5, 1],\n",
       "  [3, 5, 2],\n",
       "  [3, 5, 3],\n",
       "  [3, 5, 4],\n",
       "  [4, 10, 1],\n",
       "  [4, 10, 2],\n",
       "  [4, 10, 3],\n",
       "  [4, 10, 4]],\n",
       " [[2, 3, 1],\n",
       "  [2, 3, 2],\n",
       "  [2, 3, 3],\n",
       "  [2, 3, 4],\n",
       "  [3, 7, 1],\n",
       "  [3, 7, 2],\n",
       "  [3, 7, 3],\n",
       "  [3, 7, 4],\n",
       "  [4, 12, 1],\n",
       "  [4, 12, 2],\n",
       "  [4, 12, 3],\n",
       "  [4, 12, 4]],\n",
       " [[2, 4, 1],\n",
       "  [2, 4, 2],\n",
       "  [2, 4, 3],\n",
       "  [2, 4, 4],\n",
       "  [3, 8, 1],\n",
       "  [3, 8, 2],\n",
       "  [3, 8, 3],\n",
       "  [3, 8, 4]],\n",
       " [[2, 3, 1],\n",
       "  [2, 3, 2],\n",
       "  [2, 3, 3],\n",
       "  [2, 3, 4],\n",
       "  [3, 7, 1],\n",
       "  [3, 7, 2],\n",
       "  [3, 7, 3],\n",
       "  [3, 7, 4],\n",
       "  [4, 12, 1],\n",
       "  [4, 12, 2],\n",
       "  [4, 12, 3],\n",
       "  [4, 12, 4]],\n",
       " [[2, 1, 1],\n",
       "  [2, 1, 2],\n",
       "  [2, 1, 3],\n",
       "  [2, 1, 4],\n",
       "  [3, 5, 1],\n",
       "  [3, 5, 2],\n",
       "  [3, 5, 3],\n",
       "  [3, 5, 4],\n",
       "  [4, 10, 1],\n",
       "  [4, 10, 2],\n",
       "  [4, 10, 3],\n",
       "  [4, 10, 4]],\n",
       " [[3, 2, 1],\n",
       "  [3, 2, 2],\n",
       "  [3, 2, 3],\n",
       "  [3, 2, 4],\n",
       "  [4, 7, 1],\n",
       "  [4, 7, 2],\n",
       "  [4, 7, 3],\n",
       "  [4, 7, 4],\n",
       "  [5, 12, 1],\n",
       "  [5, 12, 2],\n",
       "  [5, 12, 3],\n",
       "  [5, 12, 4]],\n",
       " [[3, 0, 0],\n",
       "  [4, 5, 1],\n",
       "  [4, 5, 2],\n",
       "  [4, 5, 3],\n",
       "  [4, 5, 4],\n",
       "  [5, 10, 1],\n",
       "  [5, 10, 2],\n",
       "  [5, 10, 3],\n",
       "  [5, 10, 4]]]"
      ]
     },
     "execution_count": 224,
     "metadata": {},
     "output_type": "execute_result"
    }
   ],
   "source": [
    "dicNoteOnFingerBoard = funcCreatNoteDic()\n",
    "\n",
    "# 6666666666666666\n",
    "# need to set a function to extract continous MELODY\n",
    "contMel = [x[1][0] for x in events]\n",
    "\n",
    "possible = [] # possible positions\n",
    "for note in contMel: # continuous melody\n",
    "    \n",
    "    possible.append(funcNote2Domain(note, dicNoteOnFingerBoard))\n",
    "\n",
    "possible\n"
   ]
  },
  {
   "cell_type": "code",
   "execution_count": 212,
   "metadata": {},
   "outputs": [
    {
     "name": "stdout",
     "output_type": "stream",
     "text": [
      "[[2, 4, 1], [2, 4, 2], [2, 4, 3], [2, 4, 4], [3, 8, 1], [3, 8, 2], [3, 8, 3], [3, 8, 4]]\n"
     ]
    },
    {
     "data": {
      "text/plain": [
       "[[4.25, 2.5, 4.25, 5.0, 13.25, 5.25, 5.25, 5.25],\n",
       " [7.0, 6.25, 2.5, 4.25, 8.25, 13.25, 5.25, 5.25],\n",
       " [7.25, 7.0, 6.25, 2.5, 8.25, 8.25, 13.25, 5.25],\n",
       " [7.25, 7.25, 7.0, 12.25, 8.25, 8.25, 8.25, 13.25],\n",
       " [13.25, 8.25, 8.25, 8.25, 6.25, 4.5, 6.25, 7.0],\n",
       " [5.25, 13.25, 8.25, 8.25, 9.0, 8.25, 4.5, 6.25],\n",
       " [5.25, 5.25, 13.25, 8.25, 9.25, 9.0, 8.25, 4.5],\n",
       " [3.75, 5.25, 5.25, 13.25, 9.25, 9.25, 9.0, 14.25],\n",
       " [14.5, 9.5, 9.5, 9.5, 15.5, 10.5, 10.5, 10.5],\n",
       " [6.5, 14.5, 9.5, 9.5, 7.5, 15.5, 10.5, 10.5],\n",
       " [6.5, 6.5, 14.5, 9.5, 7.5, 7.5, 15.5, 10.5],\n",
       " [6.5, 6.5, 6.5, 14.5, 7.5, 7.5, 7.5, 15.5]]"
      ]
     },
     "execution_count": 212,
     "metadata": {},
     "output_type": "execute_result"
    }
   ],
   "source": [
    "event0Possible = possible[2]\n",
    "event1Possible = possible[3]\n",
    "print(note1)\n",
    "\n",
    "costMatrixUnit = []\n",
    "for pos0 in event0Possible:\n",
    "    pos0beg =[]\n",
    "    for pos1 in event1Possible:\n",
    "#         print(\"Combination =\" + str(pos0) + \" and \" + str(pos1))\n",
    "        # cost is putting here\n",
    "\n",
    "        # initialise cost\n",
    "        costStretch = float(\"inf\")\n",
    "        costLocal = float(\"inf\")\n",
    "        # maybe write a function, input is pos0 and pos1\n",
    "        costAlong  = funcCalCostAlong(pos0, pos1)\n",
    "        costAcross = funcCalCostAcross(pos0, pos1)\n",
    "        cost = costAlong + costAcross\n",
    "\n",
    "        pos0beg.append(cost)\n",
    "    costMatrixUnit.append(pos0beg)\n",
    "\n",
    "costMatrixUnit\n"
   ]
  },
  {
   "cell_type": "code",
   "execution_count": 214,
   "metadata": {},
   "outputs": [
    {
     "data": {
      "text/plain": [
       "array([[ 4.25,  2.5 ,  4.25,  5.  , 13.25,  5.25,  5.25,  5.25],\n",
       "       [ 7.  ,  6.25,  2.5 ,  4.25,  8.25, 13.25,  5.25,  5.25],\n",
       "       [ 7.25,  7.  ,  6.25,  2.5 ,  8.25,  8.25, 13.25,  5.25],\n",
       "       [ 7.25,  7.25,  7.  , 12.25,  8.25,  8.25,  8.25, 13.25],\n",
       "       [13.25,  8.25,  8.25,  8.25,  6.25,  4.5 ,  6.25,  7.  ],\n",
       "       [ 5.25, 13.25,  8.25,  8.25,  9.  ,  8.25,  4.5 ,  6.25],\n",
       "       [ 5.25,  5.25, 13.25,  8.25,  9.25,  9.  ,  8.25,  4.5 ],\n",
       "       [ 3.75,  5.25,  5.25, 13.25,  9.25,  9.25,  9.  , 14.25],\n",
       "       [14.5 ,  9.5 ,  9.5 ,  9.5 , 15.5 , 10.5 , 10.5 , 10.5 ],\n",
       "       [ 6.5 , 14.5 ,  9.5 ,  9.5 ,  7.5 , 15.5 , 10.5 , 10.5 ],\n",
       "       [ 6.5 ,  6.5 , 14.5 ,  9.5 ,  7.5 ,  7.5 , 15.5 , 10.5 ],\n",
       "       [ 6.5 ,  6.5 ,  6.5 , 14.5 ,  7.5 ,  7.5 ,  7.5 , 15.5 ]])"
      ]
     },
     "execution_count": 214,
     "metadata": {},
     "output_type": "execute_result"
    }
   ],
   "source": [
    "costMatrixUnit = np.array(costMatrixUnit)\n",
    "costMatrixUnit"
   ]
  },
  {
   "cell_type": "code",
   "execution_count": 223,
   "metadata": {},
   "outputs": [
    {
     "name": "stdout",
     "output_type": "stream",
     "text": [
      "[3.75 2.5  2.5  2.5  6.25 4.5  4.5  4.5 ]\n",
      "[7 0 1 2 4 4 5 6]\n",
      "Cost = 3.75, Note0 =[3, 7, 4] + Note1 =[2, 4, 1]\n",
      "Cost = 2.5, Note0 =[2, 3, 1] + Note1 =[2, 4, 2]\n",
      "Cost = 2.5, Note0 =[2, 3, 2] + Note1 =[2, 4, 3]\n",
      "Cost = 2.5, Note0 =[2, 3, 3] + Note1 =[2, 4, 4]\n",
      "Cost = 6.25, Note0 =[3, 7, 1] + Note1 =[3, 8, 1]\n",
      "Cost = 4.5, Note0 =[3, 7, 1] + Note1 =[3, 8, 2]\n",
      "Cost = 4.5, Note0 =[3, 7, 2] + Note1 =[3, 8, 3]\n",
      "Cost = 4.5, Note0 =[3, 7, 3] + Note1 =[3, 8, 4]\n"
     ]
    }
   ],
   "source": [
    "minValue = np.min(costMatrixUnit, axis = 0)\n",
    "minIndex = np.argmin(costMatrixUnit, axis = 0)\n",
    "print(minValue)\n",
    "print(minIndex)\n",
    "np.shape(costMatrixUnit)\n",
    "for i in range(np.shape(costMatrixUnit)[1]):\n",
    "    print(\"Cost = \" +str(minValue[i]) + \", Note0 =\" + str(note0[minIndex[i]]) + \" + Note1 =\" + str(note1[i]))"
   ]
  },
  {
   "cell_type": "code",
   "execution_count": 204,
   "metadata": {},
   "outputs": [],
   "source": [
    "# pos0\n",
    "# pos1\n",
    "\n",
    "\"\"\"\n",
    "Theorism\n",
    "Weight(p,q) = ALONG(p,q) + ACROSS(p,q)\n",
    "ALONG(p,q) = fret_stretch(p,q) + locality(p,q)\n",
    "\n",
    "Code:\n",
    "cost = costAlong + costAcross\n",
    "costAlong = costStretch + costLocal\n",
    "\"\"\"\n",
    "\n",
    "# cost parameters\n",
    "costSamePosition = 0\n",
    "\n",
    "costFinger1SameFret   = 5\n",
    "costFinger234SameFret = 10\n",
    "\n",
    "costFinger1SlideDown  = 3\n",
    "costFinger1SlideUp    = 2\n",
    "costFinger23SlideDown = 2\n",
    "costFinger23SlideUp   = 4\n",
    "costFinger4SlideDown  = 5\n",
    "costFinger4SlideUp    = 10\n",
    "costFingerShiftSlide  =10\n",
    "\n",
    "costLocalWeight = 0.25\n",
    "\n",
    "costAcrossMeet = 0.25\n",
    "costAcrossOut  = 0.5\n",
    "\n",
    "\n",
    "\n",
    "\n"
   ]
  },
  {
   "cell_type": "code",
   "execution_count": 209,
   "metadata": {},
   "outputs": [],
   "source": [
    "# cost Stretch\n",
    "\n",
    "def funcCalCostAlong(pos0, pos1):\n",
    "    finger0 = pos0[2]\n",
    "    finger1 = pos1[2]\n",
    "    fret0   = pos0[1]\n",
    "    fret1   = pos1[1]\n",
    "    string0 = pos0[0]\n",
    "    string1 = pos1[0]\n",
    "    \n",
    "    # The same position\n",
    "    if pos0 == pos1:\n",
    "        costStretch = costSamePosition\n",
    "    # same finger same string, \"slide\"\n",
    "    elif finger0 == finger1 and string0 == string1:\n",
    "\n",
    "        if fret0 == fret1: # string different (if string the same, it is the first condition)\n",
    "            if finger0 ==1:\n",
    "                costStretch = costFinger1SameFret\n",
    "            else:\n",
    "                costStretch = costFinger234SameFret\n",
    "\n",
    "        # ----- fret different -----\n",
    "        # finger1 is easy to slide upward\n",
    "        # but not as much as finger2 & 3 to slide downward    \n",
    "        elif finger0 == 1:\n",
    "            if fret0 > fret1:\n",
    "                costStretch = costFinger1SlideDown\n",
    "            else:\n",
    "                costStretch = costFinger1SlideUp\n",
    "        elif finger0 == 2 or finger0 ==3:\n",
    "            if fret0 > fret1:\n",
    "                costStretch = costFinger23SlideDown\n",
    "            else:\n",
    "                costStretch = costFinger23SlideUp\n",
    "        elif finger0 == 4:\n",
    "            if fret0 > fret1:\n",
    "                costStretch = costFinger4SlideDown\n",
    "            else:\n",
    "                costStretch = costFinger4SlideUp\n",
    "    elif finger0 == finger1 and string0 != string1:\n",
    "        costStretch = costFingerShiftSlide\n",
    "    # Other combinations    \n",
    "    else:\n",
    "        costStretch = funcCostFinger(pos0, pos1, plot=False)\n",
    "        \n",
    "    # cost Along = costStretch + costLocality\n",
    "    costAlong = costStretch + costLocalWeight*(pos0[1]+pos1[1])\n",
    "    return costAlong\n"
   ]
  },
  {
   "cell_type": "code",
   "execution_count": 210,
   "metadata": {},
   "outputs": [],
   "source": [
    "def funcCalCostAcross(pos0, pos1):\n",
    "    finger0 = pos0[2]\n",
    "    finger1 = pos1[2]\n",
    "    fret0   = pos0[1]\n",
    "    fret1   = pos1[1]\n",
    "    string0 = pos0[0]\n",
    "    string1 = pos1[0]\n",
    "\n",
    "    deltaPhysical = abs(string0 -string1) + abs(fret0 - fret1)\n",
    "    costAcross = costAcrossMeet if abs(finger0-finger1) == deltaPhysical else costAcrossOut\n",
    "    return costAcross\n",
    "        "
   ]
  },
  {
   "cell_type": "code",
   "execution_count": 166,
   "metadata": {},
   "outputs": [],
   "source": [
    "import matplotlib.pyplot as plt\n",
    "import numpy as np\n",
    "\n",
    "# costStretch between finger1 and finger2\n",
    "def funcCostFinger(pos0, pos1, plot=False):\n",
    "    finger0 = pos0[2]\n",
    "    finger1 = pos1[2]\n",
    "    fret0 = pos0[1]\n",
    "    fret1 = pos1[1]\n",
    "    sign = -1 if finger0 > finger1 else 1\n",
    "\n",
    "    deltaFret = fret1 - fret0\n",
    "    absDeltaFinger = abs(finger0-finger1)\n",
    "    \n",
    "    #  ********** PWL parameter ***********\n",
    "#     pwl = [[-1,1,2], [5, 0.5, 2]]\n",
    "    pwl = [[-1,absDeltaFinger,absDeltaFinger+1], [5, 0.5, 2]]\n",
    "    pwl = np.array(pwl)\n",
    "    pwl[0,:] = pwl[0,:]*sign\n",
    "    pwl = pwl[:,pwl[0,:].argsort()] # sorting by x value\n",
    "    \n",
    "    costStretch = np.interp(deltaFret, pwl[0,:], pwl[1,:], left=pwl[1,0], right=pwl[1,-1])\n",
    "    \n",
    "    if plot:\n",
    "        x = np.linspace(-5, 5, 11)\n",
    "        y = np.interp(x, pwl[0,:], pwl[1,:], left=pwl[1,0], right=pwl[1,-1])\n",
    "#         plt.subplot(2,1,1)\n",
    "        plt.plot(x,y)\n",
    "        plt.title(\"Finger\" + str(finger0) + \" to Finger\" + str(finger1))\n",
    "        plt.xlabel(\"delta fret\")\n",
    "        plt.ylabel(\"cost\")\n",
    "        plt.xticks(np.arange(min(x), max(x)+1, 1.0))\n",
    "        plt.grid(True)\n",
    "    return costStretch\n",
    "\n",
    "\n",
    "\n"
   ]
  },
  {
   "cell_type": "code",
   "execution_count": 198,
   "metadata": {},
   "outputs": [
    {
     "data": {
      "image/png": "[encoded data removed]",
      "text/plain": [
       "<Figure size 1152x720 with 16 Axes>"
      ]
     },
     "metadata": {
      "needs_background": "light"
     },
     "output_type": "display_data"
    },
    {
     "data": {
      "text/plain": [
       "<Figure size 2880x1440 with 0 Axes>"
      ]
     },
     "metadata": {},
     "output_type": "display_data"
    }
   ],
   "source": [
    "# Draw Cost of Stretch Figure\n",
    "pos0 = [3,5,4]\n",
    "pos1 = [3,6,1]\n",
    "plt.subplots(figsize=(16, 10))\n",
    "plt.tight_layout()\n",
    "# plt.subplots_adjust(left=0.2, bottom=0.1, right=0.8, top=0.8,hspace=0.5)\n",
    "plt.subplots_adjust(left=0.1, bottom=0.1, right=0.9, top=0.9,hspace=0.5)\n",
    "for i in range(4):\n",
    "    for j in range(4):\n",
    "#         print((i % 4)*4 + ( j % 4) + 1)\n",
    "        plt.subplot(4,4, (i % 4)*4 + ( j % 4) + 1)\n",
    "        funcCostFinger([3,5, i], [3, 5, j], plot=True)\n",
    "fig = plt.gcf()\n",
    "plt.figure(figsize=(40,20))\n",
    "fig.savefig('cost_of_stretching.png', dpi=100)"
   ]
  },
  {
   "cell_type": "code",
   "execution_count": 180,
   "metadata": {},
   "outputs": [
    {
     "data": {
      "text/plain": [
       "<Figure size 432x288 with 0 Axes>"
      ]
     },
     "metadata": {},
     "output_type": "display_data"
    },
    {
     "data": {
      "text/plain": [
       "<Figure size 1440x720 with 0 Axes>"
      ]
     },
     "metadata": {},
     "output_type": "display_data"
    }
   ],
   "source": [
    "fig = plt.gcf()\n",
    "plt.figure(figsize=(20,10))\n",
    "plt.show()"
   ]
  }
 ],
 "metadata": {
  "kernelspec": {
   "display_name": "Python 3",
   "language": "python",
   "name": "python3"
  },
  "language_info": {
   "codemirror_mode": {
    "name": "ipython",
    "version": 3
   },
   "file_extension": ".py",
   "mimetype": "text/x-python",
   "name": "python",
   "nbconvert_exporter": "python",
   "pygments_lexer": "ipython3",
   "version": "3.6.8"
  }
 },
 "nbformat": 4,
 "nbformat_minor": 2
}
