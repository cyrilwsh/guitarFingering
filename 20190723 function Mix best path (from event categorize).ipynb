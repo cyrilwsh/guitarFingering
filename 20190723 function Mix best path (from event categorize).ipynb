{
 "cells": [
  {
   "cell_type": "code",
   "execution_count": 1,
   "metadata": {},
   "outputs": [
    {
     "name": "stdout",
     "output_type": "stream",
     "text": [
      "Track 0: Steel Guitar\n"
     ]
    },
    {
     "data": {
      "text/plain": [
       "[[43, 0, 1920, 'MIX', 0],\n",
       " [59, 0, 240, 'MIX', 0],\n",
       " [55, 0, 240, 'MIX', 0],\n",
       " [50, 240, 480, 'MIX', 0],\n",
       " [59, 480, 720, 'MIX', 0],\n",
       " [55, 480, 720, 'MIX', 0],\n",
       " [59, 720, 960, 'MIX', 0],\n",
       " [62, 720, 960, 'MIX', 0],\n",
       " [57, 960, 1440, 'MIX', 0],\n",
       " [59, 1200, 1440, 'MIX', 0],\n",
       " [57, 1440, 1680, 'MIX', 0],\n",
       " [50, 1680, 1920, 'MIX', 0],\n",
       " [0, 2919, 2920, 'dummy line', 1]]"
      ]
     },
     "execution_count": 1,
     "metadata": {},
     "output_type": "execute_result"
    }
   ],
   "source": [
    "# from mido import MidiFile\n",
    "from funcMidi import * # create by SH\n",
    "# MidiFileName = 'p20190612_midi_test_mix.mid'\n",
    "# MidiFileName = 'p20190716_midi_test.mid'\n",
    "MidiFileName = 'p20190818 mix from TMD.mid'\n",
    "# MidiFileName = 'Fleck, Bela - Daybreak.mid'\n",
    "# MidiFileName = 'Aguado_12valses_Op1_No1.mid'\n",
    "\n",
    "# midiArray = MidiCategorize(MidiFileName)\n",
    "(midiArray, dicEvent) = MidiCategorize(MidiFileName)\n",
    "midiArray"
   ]
  },
  {
   "cell_type": "code",
   "execution_count": 2,
   "metadata": {},
   "outputs": [],
   "source": [
    "noteEvent = 0\n",
    "events = []\n",
    "\n",
    "while noteEvent in range(len(midiArray)-1):\n",
    "    events.append([midiArray[noteEvent][3],midiArray[noteEvent][0:3]])\n",
    "    noteEvent = noteEvent + 1\n",
    "    while midiArray[noteEvent][4] == midiArray[noteEvent -1][4] and noteEvent in range(len(midiArray)):\n",
    "        events[midiArray[noteEvent][4]].append(midiArray[noteEvent][0:3])\n",
    "        noteEvent = noteEvent + 1\n"
   ]
  },
  {
   "cell_type": "code",
   "execution_count": 3,
   "metadata": {},
   "outputs": [
    {
     "data": {
      "text/plain": [
       "[['MIX',\n",
       "  [43, 0, 1920],\n",
       "  [59, 0, 240],\n",
       "  [55, 0, 240],\n",
       "  [50, 240, 480],\n",
       "  [59, 480, 720],\n",
       "  [55, 480, 720],\n",
       "  [59, 720, 960],\n",
       "  [62, 720, 960],\n",
       "  [57, 960, 1440],\n",
       "  [59, 1200, 1440],\n",
       "  [57, 1440, 1680],\n",
       "  [50, 1680, 1920]]]"
      ]
     },
     "execution_count": 3,
     "metadata": {},
     "output_type": "execute_result"
    }
   ],
   "source": [
    "events"
   ]
  },
  {
   "cell_type": "code",
   "execution_count": 4,
   "metadata": {},
   "outputs": [
    {
     "name": "stdout",
     "output_type": "stream",
     "text": [
      "capo = 0\n",
      "tuning = [64, 59, 55, 50, 45, 40]\n",
      "Notes in Finger board:\n",
      "[64, 65, 66, 67, 68, 69, 70, 71, 72, 73, 74, 75, 76]\n",
      "[59, 60, 61, 62, 63, 64, 65, 66, 67, 68, 69, 70, 71]\n",
      "[55, 56, 57, 58, 59, 60, 61, 62, 63, 64, 65, 66, 67]\n",
      "[50, 51, 52, 53, 54, 55, 56, 57, 58, 59, 60, 61, 62]\n",
      "[45, 46, 47, 48, 49, 50, 51, 52, 53, 54, 55, 56, 57]\n",
      "[40, 41, 42, 43, 44, 45, 46, 47, 48, 49, 50, 51, 52]\n"
     ]
    },
    {
     "data": {
      "text/plain": [
       "[]"
      ]
     },
     "execution_count": 4,
     "metadata": {},
     "output_type": "execute_result"
    }
   ],
   "source": [
    "dicNoteOnFingerBoard = funcCreatNoteDic()\n",
    "\n",
    "\n",
    "pathCandidates = []\n",
    "for event in events:\n",
    "    if event[0] == 'CHO':\n",
    "        choNote = [x[0] for x in event[1:]]\n",
    "        chordSolution = funcChordSolution(choNote, dicNoteOnFingerBoard)\n",
    "        pathCandidates.append(chordSolution)\n",
    "pathCandidates"
   ]
  },
  {
   "cell_type": "code",
   "execution_count": 5,
   "metadata": {},
   "outputs": [
    {
     "data": {
      "text/plain": [
       "['MIX',\n",
       " [43, 0, 1920],\n",
       " [59, 0, 240],\n",
       " [55, 0, 240],\n",
       " [50, 240, 480],\n",
       " [59, 480, 720],\n",
       " [55, 480, 720],\n",
       " [59, 720, 960],\n",
       " [62, 720, 960],\n",
       " [57, 960, 1440],\n",
       " [59, 1200, 1440],\n",
       " [57, 1440, 1680],\n",
       " [50, 1680, 1920]]"
      ]
     },
     "execution_count": 5,
     "metadata": {},
     "output_type": "execute_result"
    }
   ],
   "source": [
    "\n",
    "# 他媽的前奏\n",
    "mixEvent = ['MIX',\n",
    "  [43, 0, 1920],\n",
    "  [59, 0, 240],\n",
    "  [55, 0, 240],\n",
    "  [50, 240, 480],\n",
    "  [59, 480, 720],\n",
    "  [55, 480, 720],\n",
    "  [59, 720, 960],\n",
    "  [62, 720, 960],\n",
    "  [57, 960, 1440],\n",
    "  [59, 1200, 1440],\n",
    "  [57, 1440, 1680],\n",
    "  [50, 1680, 1920]]\n",
    "\n",
    "mixEvent"
   ]
  },
  {
   "cell_type": "code",
   "execution_count": 6,
   "metadata": {},
   "outputs": [
    {
     "name": "stdout",
     "output_type": "stream",
     "text": [
      "[43, 50, 55, 57, 59, 62]\n",
      "Nothing found in chordSolution\n"
     ]
    },
    {
     "data": {
      "text/plain": [
       "[43]"
      ]
     },
     "execution_count": 6,
     "metadata": {},
     "output_type": "execute_result"
    }
   ],
   "source": [
    "import numpy as np\n",
    "\n",
    "\n",
    "# 判斷是否所有因都能夠排成chord\n",
    "# 可以的話直接輸出chord\n",
    "choNote = [x[0] for x in mixEvent[1:]]\n",
    "choNote = list(set(choNote)) # unique key\n",
    "print(choNote)\n",
    "chordSolution = []\n",
    "try:\n",
    "    chordSolution = funcChordSolution(choNote, dicNoteOnFingerBoard)\n",
    "    if len(chordSolution) != 0:\n",
    "        print(\"chordSolution =\" + str(chordSolution))\n",
    "    else:\n",
    "        print(\"Nothing found in chordSolution\")\n",
    "except:\n",
    "    print(\"chordSolution has got an error, there is no chord solution so go to Mix evaluation\")\n",
    "    chordSolution = []\n",
    "\n",
    "    \n",
    "# ****** 好像也不需要先決定哪個是CHORD base了\n",
    "# 如果不能以一個chord表示，進入Mix判斷\n",
    "# 先決定哪個是chord base\n",
    "if len(chordSolution) == 0:\n",
    "    npMixEvent = np.array(mixEvent[1:])\n",
    "    # npMixEventT = np.swapaxes(npMixEvent,0,1)\n",
    "    startT = min(npMixEvent[:,1])\n",
    "    endT = max(npMixEvent[:,2])\n",
    "    chordBase =[]\n",
    "    for note in mixEvent[1:]:\n",
    "#         print(note)\n",
    "        if note[1:] == [startT, endT]:\n",
    "            chordBase.append(note[0])\n",
    "            \n",
    "    if len(chordBase)==0: # should have chordBase. This algo doesn't provide solution to this condition\n",
    "        print(\"Mix doesn't have any permanent note, need to deal with this condition\")\n",
    "        print(\"Mix matrix: \" + str(mixEvent))\n",
    "\n",
    "# categorize subevent\n",
    "\n",
    "\n",
    "\n",
    "# for note in mixEvent[1:]:\n",
    "    \n",
    "\n",
    "\n",
    "chordBase"
   ]
  },
  {
   "cell_type": "code",
   "execution_count": 7,
   "metadata": {},
   "outputs": [
    {
     "name": "stdout",
     "output_type": "stream",
     "text": [
      "[43, 59, 55]\n",
      "[-43, 50]\n",
      "[-43, 59, 55]\n",
      "[-43, 59, 62]\n",
      "[-43, 57]\n",
      "[-43, -57, 59]\n",
      "[-43, 57]\n",
      "[-43, 50]\n",
      "[[43, 59, 55], [-43, 50], [-43, 59, 55], [-43, 59, 62], [-43, 57], [-43, -57, 59], [-43, 57], [-43, 50]]\n"
     ]
    }
   ],
   "source": [
    "# Divide Mix into subEvents\n",
    "# from funcMidi import *\n",
    "\n",
    "# input: mixEvent\n",
    "\n",
    "allTime = [x[1:] for x in mixEvent[1:]]\n",
    "flatAllTime = sum(allTime, [])\n",
    "uniqTime = list(set(flatAllTime))\n",
    "uniqTime.sort()\n",
    "# print(\"unniqTime =\" + str(uniqTime))\n",
    "\n",
    "subEventNotes = []\n",
    "tempNotes = []\n",
    "for time in uniqTime[:-1]:\n",
    "    for note in mixEvent[1:]:\n",
    "        if note[1] < time < note[2]:\n",
    "            try: \n",
    "                tempNotes[tempNotes.index(note[0])] = -note[0]\n",
    "            except:\n",
    "                pass\n",
    "        elif note[1] == time:\n",
    "            tempNotes.append(note[0])\n",
    "        elif note[2] == time:\n",
    "            try:\n",
    "                tempNotes.remove(note[0])\n",
    "            except:\n",
    "                tempNotes.remove(-note[0])    \n",
    "    print(tempNotes)\n",
    "    subEventNotes.append(copy.deepcopy(tempNotes)) # should use deepcopy instead of copy\n",
    "print(subEventNotes)\n",
    "\n"
   ]
  },
  {
   "cell_type": "code",
   "execution_count": 8,
   "metadata": {},
   "outputs": [
    {
     "data": {
      "text/plain": [
       "'\\n如果是從前一個就start, 還沒結束的NOte, 改為 -Note (如-55)\\n當作一個標記flag\\n算chord solution時要拿abs\\n可是算path的時候\\n有看到負號就只能抓前一組相同的note position\\n'"
      ]
     },
     "execution_count": 8,
     "metadata": {},
     "output_type": "execute_result"
    }
   ],
   "source": [
    "# run chordSolution for each subEvents\n",
    "candidate = []\n",
    "for choNote in subEventNotes:\n",
    "    subCandidate = funcChordSolution(list(map(abs, choNote)), dicNoteOnFingerBoard)\n",
    "    candidate.append(subCandidate)\n",
    "\"\"\"\n",
    "如果是從前一個就start, 還沒結束的NOte, 改為 -Note (如-55)\n",
    "當作一個標記flag\n",
    "算chord solution時要拿abs\n",
    "可是算path的時候\n",
    "有看到負號就只能抓前一組相同的note position\n",
    "\"\"\""
   ]
  },
  {
   "cell_type": "code",
   "execution_count": 9,
   "metadata": {},
   "outputs": [
    {
     "name": "stdout",
     "output_type": "stream",
     "text": [
      "[[43, 59, 55], [-43, 50], [-43, 59, 55], [-43, 59, 62], [-43, 57], [-43, -57, 59], [-43, 57], [-43, 50]]\n"
     ]
    },
    {
     "data": {
      "text/plain": [
       "[[[[6, 3, 1], [3, 4, 3], [4, 5, 4]],\n",
       "  [[6, 3, 1], [3, 4, 2], [4, 5, 4]],\n",
       "  [[6, 3, 1], [3, 4, 2], [4, 5, 3]],\n",
       "  [[6, 3, 1], [2, 0, 0], [4, 5, 2]],\n",
       "  [[6, 3, 1], [2, 0, 0], [3, 0, 0]],\n",
       "  [[6, 3, 1], [2, 0, 0], [4, 5, 4]],\n",
       "  [[6, 3, 1], [2, 0, 0], [4, 5, 3]]],\n",
       " [[[6, 3, 1], [5, 5, 3]],\n",
       "  [[6, 3, 1], [5, 5, 4]],\n",
       "  [[6, 3, 1], [5, 5, 2]],\n",
       "  [[6, 3, 1], [4, 0, 0]]],\n",
       " [[[6, 3, 1], [3, 4, 3], [4, 5, 4]],\n",
       "  [[6, 3, 1], [3, 4, 2], [4, 5, 4]],\n",
       "  [[6, 3, 1], [3, 4, 2], [4, 5, 3]],\n",
       "  [[6, 3, 1], [2, 0, 0], [4, 5, 2]],\n",
       "  [[6, 3, 1], [2, 0, 0], [3, 0, 0]],\n",
       "  [[6, 3, 1], [2, 0, 0], [4, 5, 4]],\n",
       "  [[6, 3, 1], [2, 0, 0], [4, 5, 3]]],\n",
       " [[[6, 3, 1], [3, 4, 4], [2, 3, 3]],\n",
       "  [[6, 3, 1], [3, 4, 4], [2, 3, 2]],\n",
       "  [[6, 3, 1], [3, 4, 4], [2, 3, 1]],\n",
       "  [[6, 3, 1], [3, 4, 3], [2, 3, 2]],\n",
       "  [[6, 3, 1], [3, 4, 3], [2, 3, 1]],\n",
       "  [[6, 3, 1], [3, 4, 2], [2, 3, 1]],\n",
       "  [[6, 3, 1], [2, 0, 0], [3, 7, 4]]],\n",
       " [[[6, 3, 2], [3, 2, 1]],\n",
       "  [[6, 3, 1], [4, 7, 4]],\n",
       "  [[6, 3, 4], [3, 2, 1]],\n",
       "  [[6, 3, 3], [3, 2, 1]]],\n",
       " [[[6, 3, 2], [3, 2, 1], [2, 0, 0]],\n",
       "  [[6, 3, 1], [4, 7, 4], [3, 4, 2]],\n",
       "  [[6, 3, 1], [4, 7, 4], [2, 0, 0]],\n",
       "  [[6, 3, 4], [3, 2, 1], [2, 0, 0]],\n",
       "  [[6, 3, 3], [3, 2, 1], [2, 0, 0]]],\n",
       " [[[6, 3, 2], [3, 2, 1]],\n",
       "  [[6, 3, 1], [4, 7, 4]],\n",
       "  [[6, 3, 4], [3, 2, 1]],\n",
       "  [[6, 3, 3], [3, 2, 1]]],\n",
       " [[[6, 3, 1], [5, 5, 3]],\n",
       "  [[6, 3, 1], [5, 5, 4]],\n",
       "  [[6, 3, 1], [5, 5, 2]],\n",
       "  [[6, 3, 1], [4, 0, 0]]]]"
      ]
     },
     "execution_count": 9,
     "metadata": {},
     "output_type": "execute_result"
    }
   ],
   "source": [
    "print(subEventNotes)\n",
    "candidate"
   ]
  },
  {
   "cell_type": "code",
   "execution_count": 13,
   "metadata": {},
   "outputs": [],
   "source": [
    "costChordWeight = 0.5"
   ]
  },
  {
   "cell_type": "code",
   "execution_count": 14,
   "metadata": {},
   "outputs": [],
   "source": [
    "# 這應該算是funcCalMixCostUnit\n",
    "# 因為這只算了一個unit\n",
    "# 真的funCalMixCost 需要產出costMatrixUnit, 這個unit是event event之間的unit\n",
    "# def funcCalMixCostUnit(mixPos0, mixPos1,mixNote0, mixNote1):\n",
    "def funcCalMixCostUnit(mixPos0, mixPos1,mixNotes0, mixNotes1):\n",
    "\n",
    "    costMixTotal = 0\n",
    "    for ipos0 in range(len(mixPos0)):\n",
    "#         print(\"ipos0=\" + str(ipos0))\n",
    "        for ipos1 in range(len(mixPos1)):\n",
    "#             print(\"ipos1=\" + str(ipos1))\n",
    "            if mixNotes1[ipos1] < 0:\n",
    "                try:\n",
    "                    relativeNote0Index = mixNotes0.index(abs(mixNotes1[ipos1]))\n",
    "                except:\n",
    "                    relativeNote0Index = mixNotes0.index(   (mixNotes1[ipos1]))\n",
    "#                 print(\"relativeNote0Index = \" + str(relativeNote0Index))\n",
    "                if mixPos1[ipos1] != mixPos0[ relativeNote0Index]:\n",
    "#                     print(\"negative and !=\")\n",
    "                    costMixTotal = float(\"inf\")\n",
    "                    break\n",
    "                # 可以走到這代表前次和這次的position相同\n",
    "                # costAlong = 0, 所以不用做任何相加\n",
    "            else:\n",
    "#                 print(\"pass\")\n",
    "                costAlong    = funcCalCostAlong(mixPos0[ipos0], mixPos1[ipos1])\n",
    "                costAcross   = funcCalCostAcross(mixPos0[ipos0], mixPos1[ipos1])\n",
    "\n",
    "#                 print(mixPos0[ipos0])\n",
    "                costMixTotal = costMixTotal + costAlong + costAcross\n",
    "    ##### debug use #####\n",
    "#     if mixPos0 == [[6, 3, 1], [2, 0, 0], [3, 0, 0]] and mixPos1 ==[[6, 3, 1], [4, 0, 0]] :\n",
    "        \n",
    "#                 print(\"costAlong = \" + str(costAlong))\n",
    "#                 print(\"costAcross = \" + str(costAcross))\n",
    "#                 print(\"costMixTotal = \" + str(costMixTotal))\n",
    "    costChord0   = funcCalChordCost(mixPos0)\n",
    "    costChord1   = funcCalChordCost(mixPos1)\n",
    "    costChord = (costChord0 + costChord1)* costChordWeight\n",
    "    costMixTotal = costMixTotal+ costChord\n",
    "#     print(costChord)\n",
    "    return costMixTotal, costChord\n",
    "        \n",
    "# costMixTotal"
   ]
  },
  {
   "cell_type": "code",
   "execution_count": 142,
   "metadata": {},
   "outputs": [
    {
     "name": "stdout",
     "output_type": "stream",
     "text": [
      "[[6, 3, 1], [2, 0, 0], [3, 0, 0]]\n",
      "[[6, 3, 1], [4, 0, 0]]\n"
     ]
    },
    {
     "data": {
      "text/plain": [
       "(13.549999999999999, 6.1)"
      ]
     },
     "execution_count": 142,
     "metadata": {},
     "output_type": "execute_result"
    }
   ],
   "source": [
    "# debug use, 計算特定chord之間的cost\n",
    "mixPos0 = possible[0][4]\n",
    "mixPos1 = possible[1][3]\n",
    "print(mixPos0)\n",
    "print(mixPos1)\n",
    "mixNotes0 = [43, 59, 55]\n",
    "mixNotes1 = [-43, 50]\n",
    "# funcCalMixCostMatrix(event0Possible, event1Possible, mixNotes0, mixNotes1)\n",
    "funcCalMixCostUnit(mixPos0, mixPos1,mixNotes0, mixNotes1)"
   ]
  },
  {
   "cell_type": "code",
   "execution_count": 15,
   "metadata": {},
   "outputs": [],
   "source": [
    "# Calculate MIX transition cost\n",
    "\n",
    "def funcCalMixCostMatrix(event0Possible, event1Possible, mixNotes0, mixNotes1):\n",
    "    costMatrixUnit = []\n",
    "    costMatrixUnitChord = []\n",
    "    for mixPos0 in event0Possible:\n",
    "        pos0beg =[]\n",
    "        pos0begChord = []\n",
    "        for mixPos1 in event1Possible:\n",
    "\n",
    "            # cost is putting here\n",
    "            costMixTotal, costChord = funcCalMixCostUnit(mixPos0, mixPos1,mixNotes0, mixNotes1)\n",
    "            \n",
    "#             ######### debug #########\n",
    "#             if mixPos0 == [[6, 3, 1], [2, 0, 0], [3, 0, 0]] and mixPos1 ==[[6, 3, 1], [4, 0, 0]] :\n",
    "#                 costMixTotal, costChord = funcCalMixCostUnit(mixPos0, mixPos1,mixNotes0, mixNotes1)\n",
    "\n",
    "            pos0beg.append(costMixTotal)\n",
    "            pos0begChord.append(costChord)\n",
    "        costMatrixUnit.append(pos0beg)\n",
    "        costMatrixUnitChord.append(pos0begChord)\n",
    "    return costMatrixUnit, costMatrixUnitChord"
   ]
  },
  {
   "cell_type": "code",
   "execution_count": 18,
   "metadata": {},
   "outputs": [],
   "source": [
    "# @@@@@@@@@ MIX 的版本 @@@@@@@@@\n",
    "# 從MELODY 摳過來的\n",
    "# 這邊不能合成function\n",
    "# 因為要跟MEL 和 CHO 一起混著做\n",
    "# 這邊只是確定funcCalMixCostMatrix 正確\n",
    "costBest = []\n",
    "possible = candidate\n",
    "\n",
    "\n",
    "\n",
    "iniSize = len(possible[0])\n",
    "npPreMinValue = np.zeros(iniSize)\n",
    "preMinIndex = [[0] for i in range(iniSize)]\n",
    "# for i in range(3,4):\n",
    "#     for i in range(1):\n",
    "for i in range(len(possible)-1):\n",
    "    event0Possible = possible[i]\n",
    "    event1Possible = possible[i+1]\n",
    "    mixNotes0 = subEventNotes[i]\n",
    "    mixNotes1 = subEventNotes[i+1]\n",
    "    # calculate MIX cost\n",
    "    costMatrixUnit, costMatrixUnitChord = funcCalMixCostMatrix(event0Possible, event1Possible, mixNotes0, mixNotes1)    \n",
    "    npCostMatrixUnit = np.array(costMatrixUnit)\n",
    "    \n",
    "    npMinValue = np.min(npCostMatrixUnit, axis = 0)    \n",
    "    npMinIndex = np.argmin(npCostMatrixUnit, axis = 0)\n",
    "    minIndex = list(npMinIndex)\n",
    "    \n",
    "    npCombMinValue = np.zeros(len(npMinValue))\n",
    "    combMinIndex = [0 for icmi in range(len(npMinValue))]\n",
    "\n",
    "    # minValue \n",
    "    for imin in range(len(npMinValue)):\n",
    "        npCombMinValue[imin] = npMinValue[imin] + npPreMinValue[npMinIndex[imin]]\n",
    "        combMinIndex[imin] = copy.deepcopy(preMinIndex[npMinIndex[imin]])\n",
    "        combMinIndex[imin].append(copy.deepcopy(minIndex[imin]))\n",
    "    npPreMinValue = npCombMinValue\n",
    "    preMinIndex = combMinIndex\n",
    "\n",
    "#     minSummary = np.vstack\n",
    "    costBest.append(copy.deepcopy([npCombMinValue,combMinIndex]))\n",
    "# costBest"
   ]
  },
  {
   "cell_type": "code",
   "execution_count": 17,
   "metadata": {},
   "outputs": [
    {
     "data": {
      "text/plain": [
       "[array([101.40357143, 110.77857143, 101.40357143,  96.70357143]),\n",
       " [[0, 4, 3, 4, 3, 1, 2, 1],\n",
       "  [0, 4, 3, 4, 3, 1, 2, 1],\n",
       "  [0, 4, 3, 4, 3, 1, 2, 1],\n",
       "  [0, 4, 3, 4, 3, 1, 2, 1]]]"
      ]
     },
     "execution_count": 17,
     "metadata": {},
     "output_type": "execute_result"
    }
   ],
   "source": [
    "# see the final proposed value\n",
    "costBest[-1]\n",
    "# costBest[0]\n",
    "# costBest\n",
    "# possible[1]\n",
    "# costMatrixUnit\n",
    "# costMatrixUnitChord\n",
    "\n"
   ]
  },
  {
   "cell_type": "code",
   "execution_count": 19,
   "metadata": {},
   "outputs": [
    {
     "name": "stdout",
     "output_type": "stream",
     "text": [
      "[4, 3, 4, 3, 1, 2, 1]\n",
      "cost=101.40 [[[6, 3, 1], [2, 0, 0], [3, 0, 0]], [[6, 3, 1], [4, 0, 0]], [[6, 3, 1], [2, 0, 0], [3, 0, 0]], [[6, 3, 1], [3, 4, 3], [2, 3, 2]], [[6, 3, 1], [4, 7, 4]], [[6, 3, 1], [4, 7, 4], [2, 0, 0]], [[6, 3, 1], [4, 7, 4]], [[6, 3, 1], [5, 5, 3]]]\n",
      "[4, 3, 4, 3, 1, 2, 1]\n",
      "cost=110.78 [[[6, 3, 1], [2, 0, 0], [3, 0, 0]], [[6, 3, 1], [4, 0, 0]], [[6, 3, 1], [2, 0, 0], [3, 0, 0]], [[6, 3, 1], [3, 4, 3], [2, 3, 2]], [[6, 3, 1], [4, 7, 4]], [[6, 3, 1], [4, 7, 4], [2, 0, 0]], [[6, 3, 1], [4, 7, 4]], [[6, 3, 1], [5, 5, 4]]]\n",
      "[4, 3, 4, 3, 1, 2, 1]\n",
      "cost=101.40 [[[6, 3, 1], [2, 0, 0], [3, 0, 0]], [[6, 3, 1], [4, 0, 0]], [[6, 3, 1], [2, 0, 0], [3, 0, 0]], [[6, 3, 1], [3, 4, 3], [2, 3, 2]], [[6, 3, 1], [4, 7, 4]], [[6, 3, 1], [4, 7, 4], [2, 0, 0]], [[6, 3, 1], [4, 7, 4]], [[6, 3, 1], [5, 5, 2]]]\n",
      "[4, 3, 4, 3, 1, 2, 1]\n",
      "cost=96.70 [[[6, 3, 1], [2, 0, 0], [3, 0, 0]], [[6, 3, 1], [4, 0, 0]], [[6, 3, 1], [2, 0, 0], [3, 0, 0]], [[6, 3, 1], [3, 4, 3], [2, 3, 2]], [[6, 3, 1], [4, 7, 4]], [[6, 3, 1], [4, 7, 4], [2, 0, 0]], [[6, 3, 1], [4, 7, 4]], [[6, 3, 1], [4, 0, 0]]]\n"
     ]
    }
   ],
   "source": [
    "Solution = []\n",
    "for choose in range(len(costBest[-1][1])):\n",
    "#     choose = -1\n",
    "    bestPathNumber = costBest[-1][1][choose][1:]\n",
    "    print(bestPathNumber)\n",
    "    bestPath = []\n",
    "    for i in range(len(bestPathNumber)):\n",
    "        bestPath.append(possible[i][bestPathNumber[i]])\n",
    "    bestPath.append(possible[-1][choose])\n",
    "#     print(\"cost=\" + str(costBest[-1][0][choose]) +\" \" + str(bestPath))\n",
    "    print(\"cost=\" + '%.2f' % costBest[-1][0][choose] +\" \" + str(bestPath))\n",
    "    Solution.append([\"cost =\", costBest[-1][0][choose], bestPath ])\n",
    "# bestPathNumber\n",
    "# bestPath\n"
   ]
  },
  {
   "cell_type": "code",
   "execution_count": 20,
   "metadata": {},
   "outputs": [
    {
     "data": {
      "text/plain": [
       "[['cost =',\n",
       "  101.40357142857142,\n",
       "  [[[6, 3, 1], [2, 0, 0], [3, 0, 0]],\n",
       "   [[6, 3, 1], [4, 0, 0]],\n",
       "   [[6, 3, 1], [2, 0, 0], [3, 0, 0]],\n",
       "   [[6, 3, 1], [3, 4, 3], [2, 3, 2]],\n",
       "   [[6, 3, 1], [4, 7, 4]],\n",
       "   [[6, 3, 1], [4, 7, 4], [2, 0, 0]],\n",
       "   [[6, 3, 1], [4, 7, 4]],\n",
       "   [[6, 3, 1], [5, 5, 3]]]],\n",
       " ['cost =',\n",
       "  110.77857142857142,\n",
       "  [[[6, 3, 1], [2, 0, 0], [3, 0, 0]],\n",
       "   [[6, 3, 1], [4, 0, 0]],\n",
       "   [[6, 3, 1], [2, 0, 0], [3, 0, 0]],\n",
       "   [[6, 3, 1], [3, 4, 3], [2, 3, 2]],\n",
       "   [[6, 3, 1], [4, 7, 4]],\n",
       "   [[6, 3, 1], [4, 7, 4], [2, 0, 0]],\n",
       "   [[6, 3, 1], [4, 7, 4]],\n",
       "   [[6, 3, 1], [5, 5, 4]]]],\n",
       " ['cost =',\n",
       "  101.40357142857142,\n",
       "  [[[6, 3, 1], [2, 0, 0], [3, 0, 0]],\n",
       "   [[6, 3, 1], [4, 0, 0]],\n",
       "   [[6, 3, 1], [2, 0, 0], [3, 0, 0]],\n",
       "   [[6, 3, 1], [3, 4, 3], [2, 3, 2]],\n",
       "   [[6, 3, 1], [4, 7, 4]],\n",
       "   [[6, 3, 1], [4, 7, 4], [2, 0, 0]],\n",
       "   [[6, 3, 1], [4, 7, 4]],\n",
       "   [[6, 3, 1], [5, 5, 2]]]],\n",
       " ['cost =',\n",
       "  96.70357142857142,\n",
       "  [[[6, 3, 1], [2, 0, 0], [3, 0, 0]],\n",
       "   [[6, 3, 1], [4, 0, 0]],\n",
       "   [[6, 3, 1], [2, 0, 0], [3, 0, 0]],\n",
       "   [[6, 3, 1], [3, 4, 3], [2, 3, 2]],\n",
       "   [[6, 3, 1], [4, 7, 4]],\n",
       "   [[6, 3, 1], [4, 7, 4], [2, 0, 0]],\n",
       "   [[6, 3, 1], [4, 7, 4]],\n",
       "   [[6, 3, 1], [4, 0, 0]]]]]"
      ]
     },
     "execution_count": 20,
     "metadata": {},
     "output_type": "execute_result"
    }
   ],
   "source": [
    "Solution"
   ]
  }
 ],
 "metadata": {
  "kernelspec": {
   "display_name": "Python 3",
   "language": "python",
   "name": "python3"
  },
  "language_info": {
   "codemirror_mode": {
    "name": "ipython",
    "version": 3
   },
   "file_extension": ".py",
   "mimetype": "text/x-python",
   "name": "python",
   "nbconvert_exporter": "python",
   "pygments_lexer": "ipython3",
   "version": "3.6.8"
  }
 },
 "nbformat": 4,
 "nbformat_minor": 2
}
