{
 "cells": [
  {
   "cell_type": "code",
   "execution_count": 1,
   "metadata": {},
   "outputs": [],
   "source": [
    "import copy"
   ]
  },
  {
   "cell_type": "code",
   "execution_count": 2,
   "metadata": {},
   "outputs": [
    {
     "data": {
      "text/plain": [
       "{'A': [2, 3, 4], 'B': [2, 6, 7, 8], 'C': [4]}"
      ]
     },
     "execution_count": 2,
     "metadata": {},
     "output_type": "execute_result"
    }
   ],
   "source": [
    "dict1 = {\n",
    "    'A':[2, 3, 4],\n",
    "    'B':[2, 6, 7, 8],\n",
    "    'C':[4]\n",
    "}\n",
    "dict1"
   ]
  },
  {
   "cell_type": "code",
   "execution_count": 3,
   "metadata": {},
   "outputs": [
    {
     "name": "stdout",
     "output_type": "stream",
     "text": [
      "['A', 'B', 'C']\n"
     ]
    },
    {
     "data": {
      "text/plain": [
       "[[2, 3, 4], [2, 6, 7, 8], [4]]"
      ]
     },
     "execution_count": 3,
     "metadata": {},
     "output_type": "execute_result"
    }
   ],
   "source": [
    "listKey = []\n",
    "listVal = []\n",
    "\n",
    "dictNew = copy.deepcopy(dict1)\n",
    "\n",
    "for key, value in dictNew.items():\n",
    "    listKey.append(key)\n",
    "    listVal.append(value)\n",
    "\n",
    "# dict1['A']\n",
    "# for (key, value) in enumerate(zip(dict1.keys(), dict1.values())):\n",
    "# for key, value in dicCombination.items():\n",
    "#     key1 = key\n",
    "#     value1 = value\n",
    "#     listKey.append(key)\n",
    "#     listVal.append(value)\n",
    "print (listKey)\n",
    "listVal"
   ]
  },
  {
   "cell_type": "code",
   "execution_count": 4,
   "metadata": {},
   "outputs": [
    {
     "data": {
      "text/plain": [
       "[[3, 4], [2, 6, 7, 8], [4]]"
      ]
     },
     "execution_count": 4,
     "metadata": {},
     "output_type": "execute_result"
    }
   ],
   "source": [
    "listVal[0].remove(2)\n",
    "listVal"
   ]
  },
  {
   "cell_type": "code",
   "execution_count": 14,
   "metadata": {},
   "outputs": [
    {
     "data": {
      "text/plain": [
       "{'A': [3, 4], 'B': [2, 6, 7, 8], 'C': [4], 'D': (3, 2)}"
      ]
     },
     "execution_count": 14,
     "metadata": {},
     "output_type": "execute_result"
    }
   ],
   "source": [
    "dict1"
   ]
  },
  {
   "cell_type": "code",
   "execution_count": 15,
   "metadata": {},
   "outputs": [],
   "source": [
    "# dict1['A'].remove(2)\n",
    "dict1['D']=(3,2)\n"
   ]
  },
  {
   "cell_type": "code",
   "execution_count": 23,
   "metadata": {},
   "outputs": [
    {
     "ename": "KeyError",
     "evalue": "'D'",
     "output_type": "error",
     "traceback": [
      "\u001b[0;31m---------------------------------------------------------------------------\u001b[0m",
      "\u001b[0;31mKeyError\u001b[0m                                  Traceback (most recent call last)",
      "\u001b[0;32m<ipython-input-23-eea447939775>\u001b[0m in \u001b[0;36m<module>\u001b[0;34m\u001b[0m\n\u001b[0;32m----> 1\u001b[0;31m \u001b[0;32mdel\u001b[0m \u001b[0mdict1\u001b[0m\u001b[0;34m[\u001b[0m\u001b[0;34m'D'\u001b[0m\u001b[0;34m]\u001b[0m\u001b[0;34m\u001b[0m\u001b[0;34m\u001b[0m\u001b[0m\n\u001b[0m",
      "\u001b[0;31mKeyError\u001b[0m: 'D'"
     ]
    }
   ],
   "source": [
    "del dict1['D']"
   ]
  },
  {
   "cell_type": "code",
   "execution_count": 19,
   "metadata": {},
   "outputs": [],
   "source": [
    "ll=[[([6, 1, 1], [5, 3, 3]), ([6, 1, 1], [5, 3, 4]), ([6, 1, 2], [5, 3, 4])],\n",
    " [([6, 1, 1], [4, 2, 2]), ([6, 1, 1], [4, 2, 3]), ([6, 1, 2], [4, 2, 3])],\n",
    " [([6, 1, 1], [3, 1, 1]), ([6, 1, 1], [3, 1, 2])],\n",
    " [([5, 3, 3], [3, 1, 1]), ([5, 3, 4], [3, 1, 1]), ([5, 3, 4], [3, 1, 2])],\n",
    " [([5, 3, 3], [4, 2, 2]), ([5, 3, 4], [4, 2, 2]), ([5, 3, 4], [4, 2, 3])],\n",
    " [([4, 2, 2], [3, 1, 1]), ([4, 2, 3], [3, 1, 1]), ([4, 2, 3], [3, 1, 2])]]"
   ]
  },
  {
   "cell_type": "code",
   "execution_count": 27,
   "metadata": {},
   "outputs": [
    {
     "data": {
      "text/plain": [
       "[[([6, 1, 2], [4, 2, 3])],\n",
       " [([6, 1, 1], [3, 1, 1]), ([6, 1, 1], [3, 1, 2])],\n",
       " [([5, 3, 3], [3, 1, 1]), ([5, 3, 4], [3, 1, 1]), ([5, 3, 4], [3, 1, 2])],\n",
       " [([5, 3, 3], [4, 2, 2]), ([5, 3, 4], [4, 2, 2]), ([5, 3, 4], [4, 2, 3])],\n",
       " [([4, 2, 2], [3, 1, 1]), ([4, 2, 3], [3, 1, 1]), ([4, 2, 3], [3, 1, 2])]]"
      ]
     },
     "execution_count": 27,
     "metadata": {},
     "output_type": "execute_result"
    }
   ],
   "source": [
    "del ll[0][0]\n",
    "ll"
   ]
  },
  {
   "cell_type": "code",
   "execution_count": null,
   "metadata": {},
   "outputs": [],
   "source": []
  }
 ],
 "metadata": {
  "kernelspec": {
   "display_name": "Python 3",
   "language": "python",
   "name": "python3"
  },
  "language_info": {
   "codemirror_mode": {
    "name": "ipython",
    "version": 3
   },
   "file_extension": ".py",
   "mimetype": "text/x-python",
   "name": "python",
   "nbconvert_exporter": "python",
   "pygments_lexer": "ipython3",
   "version": "3.6.8"
  }
 },
 "nbformat": 4,
 "nbformat_minor": 2
}
