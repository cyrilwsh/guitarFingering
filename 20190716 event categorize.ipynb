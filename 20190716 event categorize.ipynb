{
 "cells": [
  {
   "cell_type": "code",
   "execution_count": 24,
   "metadata": {},
   "outputs": [
    {
     "name": "stdout",
     "output_type": "stream",
     "text": [
      "Track 0: Electric Guitar\n"
     ]
    },
    {
     "data": {
      "text/plain": [
       "[[45, 0, 240, 'MEL', 0],\n",
       " [53, 240, 480, 'MEL', 1],\n",
       " [57, 480, 1440, 'MEL', 2],\n",
       " [57, 1920, 2400, 'MIX', 3],\n",
       " [40, 1920, 3840, 'MIX', 3],\n",
       " [62, 2400, 2880, 'MIX', 3],\n",
       " [60, 2880, 3360, 'MIX', 3],\n",
       " [55, 3360, 3840, 'MIX', 3],\n",
       " [48, 3840, 4800, 'CHO', 4],\n",
       " [52, 3840, 4800, 'CHO', 4],\n",
       " [60, 3840, 4800, 'CHO', 4],\n",
       " [55, 3840, 4800, 'CHO', 4],\n",
       " [64, 3840, 4800, 'CHO', 4],\n",
       " [50, 4800, 5760, 'CHO', 5],\n",
       " [57, 4800, 5760, 'CHO', 5],\n",
       " [62, 4800, 5760, 'CHO', 5],\n",
       " [66, 4800, 5760, 'CHO', 5],\n",
       " [55, 5760, 6240, 'MIX', 6],\n",
       " [59, 5760, 6240, 'MIX', 6],\n",
       " [43, 5760, 7680, 'MIX', 6],\n",
       " [50, 6240, 6720, 'MIX', 6],\n",
       " [60, 6720, 7200, 'MIX', 6],\n",
       " [55, 6720, 7200, 'MIX', 6],\n",
       " [62, 7200, 7680, 'MIX', 6],\n",
       " [59, 7200, 7680, 'MIX', 6],\n",
       " [0, 8679, 8680, 'dummy line', 7]]"
      ]
     },
     "execution_count": 24,
     "metadata": {},
     "output_type": "execute_result"
    }
   ],
   "source": [
    "# from mido import MidiFile\n",
    "from funcMidi import * # create by SH\n",
    "# MidiFileName = 'p20190612_midi_test_mix.mid'\n",
    "MidiFileName = 'p20190716_midi_test.mid'\n",
    "# MidiFileName = 'Fleck, Bela - Daybreak.mid'\n",
    "# MidiFileName = 'Aguado_12valses_Op1_No1.mid'\n",
    "\n",
    "# midiArray = MidiCategorize(MidiFileName)\n",
    "(midiArray, dicEvent) = MidiCategorize(MidiFileName)\n",
    "midiArray"
   ]
  },
  {
   "cell_type": "code",
   "execution_count": 25,
   "metadata": {},
   "outputs": [],
   "source": [
    "noteEvent = 0\n",
    "events = []\n",
    "\n",
    "while noteEvent in range(len(midiArray)-1):\n",
    "    events.append([midiArray[noteEvent][3],midiArray[noteEvent][0:3]])\n",
    "    noteEvent = noteEvent + 1\n",
    "    while midiArray[noteEvent][4] == midiArray[noteEvent -1][4] and noteEvent in range(len(midiArray)):\n",
    "        events[midiArray[noteEvent][4]].append(midiArray[noteEvent][0:3])\n",
    "        noteEvent = noteEvent + 1\n"
   ]
  },
  {
   "cell_type": "code",
   "execution_count": 26,
   "metadata": {},
   "outputs": [
    {
     "data": {
      "text/plain": [
       "[['MEL', [45, 0, 240]],\n",
       " ['MEL', [53, 240, 480]],\n",
       " ['MEL', [57, 480, 1440]],\n",
       " ['MIX',\n",
       "  [57, 1920, 2400],\n",
       "  [40, 1920, 3840],\n",
       "  [62, 2400, 2880],\n",
       "  [60, 2880, 3360],\n",
       "  [55, 3360, 3840]],\n",
       " ['CHO',\n",
       "  [48, 3840, 4800],\n",
       "  [52, 3840, 4800],\n",
       "  [60, 3840, 4800],\n",
       "  [55, 3840, 4800],\n",
       "  [64, 3840, 4800]],\n",
       " ['CHO',\n",
       "  [50, 4800, 5760],\n",
       "  [57, 4800, 5760],\n",
       "  [62, 4800, 5760],\n",
       "  [66, 4800, 5760]],\n",
       " ['MIX',\n",
       "  [55, 5760, 6240],\n",
       "  [59, 5760, 6240],\n",
       "  [43, 5760, 7680],\n",
       "  [50, 6240, 6720],\n",
       "  [60, 6720, 7200],\n",
       "  [55, 6720, 7200],\n",
       "  [62, 7200, 7680],\n",
       "  [59, 7200, 7680]]]"
      ]
     },
     "execution_count": 26,
     "metadata": {},
     "output_type": "execute_result"
    }
   ],
   "source": [
    "events"
   ]
  },
  {
   "cell_type": "code",
   "execution_count": 27,
   "metadata": {},
   "outputs": [
    {
     "name": "stdout",
     "output_type": "stream",
     "text": [
      "capo = 0\n",
      "tuning = [64, 59, 55, 50, 45, 40]\n",
      "Notes in Finger board:\n",
      "[64, 65, 66, 67, 68, 69, 70, 71, 72, 73, 74, 75, 76]\n",
      "[59, 60, 61, 62, 63, 64, 65, 66, 67, 68, 69, 70, 71]\n",
      "[55, 56, 57, 58, 59, 60, 61, 62, 63, 64, 65, 66, 67]\n",
      "[50, 51, 52, 53, 54, 55, 56, 57, 58, 59, 60, 61, 62]\n",
      "[45, 46, 47, 48, 49, 50, 51, 52, 53, 54, 55, 56, 57]\n",
      "[40, 41, 42, 43, 44, 45, 46, 47, 48, 49, 50, 51, 52]\n"
     ]
    },
    {
     "data": {
      "text/plain": [
       "[[[[6, 8, 3], [5, 7, 2], [3, 5, 1], [4, 5, 1], [2, 5, 1]],\n",
       "  [[5, 3, 4], [4, 2, 2], [2, 1, 1], [3, 0, 0], [1, 0, 0]],\n",
       "  [[5, 3, 4], [4, 2, 3], [2, 1, 1], [3, 0, 0], [1, 0, 0]],\n",
       "  [[5, 3, 4], [4, 2, 3], [2, 1, 2], [3, 0, 0], [1, 0, 0]],\n",
       "  [[6, 8, 2], [5, 7, 1], [4, 10, 4], [3, 0, 0], [1, 0, 0]],\n",
       "  [[5, 3, 3], [4, 2, 2], [2, 1, 1], [3, 0, 0], [1, 0, 0]],\n",
       "  [[6, 8, 4], [5, 7, 3], [3, 5, 1], [4, 5, 1], [2, 5, 1]],\n",
       "  [[6, 8, 4], [5, 7, 2], [3, 5, 1], [4, 5, 1], [2, 5, 1]]],\n",
       " [[[6, 10, 1], [5, 12, 3], [4, 12, 4], [3, 11, 2]],\n",
       "  [[4, 0, 0], [3, 2, 1], [2, 3, 2], [1, 2, 1]],\n",
       "  [[4, 0, 0], [3, 2, 1], [2, 3, 3], [1, 2, 1]],\n",
       "  [[4, 0, 0], [3, 2, 1], [2, 3, 3], [1, 2, 2]],\n",
       "  [[4, 0, 0], [3, 2, 1], [2, 3, 4], [1, 2, 1]],\n",
       "  [[4, 0, 0], [3, 2, 1], [2, 3, 4], [1, 2, 2]],\n",
       "  [[4, 0, 0], [3, 2, 1], [2, 3, 4], [1, 2, 3]],\n",
       "  [[4, 0, 0], [3, 2, 2], [2, 3, 4], [1, 2, 3]],\n",
       "  [[6, 10, 4], [4, 7, 1], [3, 7, 1], [2, 7, 1]],\n",
       "  [[5, 5, 1], [4, 7, 2], [3, 7, 3], [2, 7, 4]],\n",
       "  [[5, 5, 4], [3, 2, 1], [2, 3, 2], [1, 2, 1]],\n",
       "  [[6, 10, 3], [4, 7, 1], [3, 7, 1], [2, 7, 1]]]]"
      ]
     },
     "execution_count": 27,
     "metadata": {},
     "output_type": "execute_result"
    }
   ],
   "source": [
    "dicNoteOnFingerBoard = funcCreatNoteDic()\n",
    "\n",
    "\n",
    "pathCandidates = []\n",
    "for event in events:\n",
    "    if event[0] == 'CHO':\n",
    "        choNote = [x[0] for x in event[1:]]\n",
    "        chordSolution = funcChordSolution(choNote, dicNoteOnFingerBoard)\n",
    "        pathCandidates.append(chordSolution)\n",
    "pathCandidates"
   ]
  },
  {
   "cell_type": "code",
   "execution_count": 5,
   "metadata": {
    "collapsed": true
   },
   "outputs": [
    {
     "ename": "NameError",
     "evalue": "name 'mixEvent' is not defined",
     "output_type": "error",
     "traceback": [
      "\u001b[0;31m---------------------------------------------------------------------------\u001b[0m",
      "\u001b[0;31mNameError\u001b[0m                                 Traceback (most recent call last)",
      "\u001b[0;32m<ipython-input-5-289a38157779>\u001b[0m in \u001b[0;36m<module>\u001b[0;34m\u001b[0m\n\u001b[1;32m      1\u001b[0m \u001b[0;31m# 忘了在幹嘛\u001b[0m\u001b[0;34m\u001b[0m\u001b[0;34m\u001b[0m\u001b[0;34m\u001b[0m\u001b[0m\n\u001b[0;32m----> 2\u001b[0;31m \u001b[0mmixTemp\u001b[0m \u001b[0;34m=\u001b[0m \u001b[0mmap\u001b[0m\u001b[0;34m(\u001b[0m\u001b[0mlist\u001b[0m\u001b[0;34m,\u001b[0m \u001b[0mzip\u001b[0m\u001b[0;34m(\u001b[0m\u001b[0;34m*\u001b[0m\u001b[0mmixEvent\u001b[0m\u001b[0;34m[\u001b[0m\u001b[0;36m1\u001b[0m\u001b[0;34m:\u001b[0m\u001b[0;34m]\u001b[0m\u001b[0;34m)\u001b[0m\u001b[0;34m)\u001b[0m\u001b[0;34m\u001b[0m\u001b[0;34m\u001b[0m\u001b[0m\n\u001b[0m\u001b[1;32m      3\u001b[0m \u001b[0mmixEventT\u001b[0m \u001b[0;34m=\u001b[0m \u001b[0;34m[\u001b[0m\u001b[0;34m]\u001b[0m\u001b[0;34m\u001b[0m\u001b[0;34m\u001b[0m\u001b[0m\n\u001b[1;32m      4\u001b[0m \u001b[0;32mfor\u001b[0m \u001b[0mi\u001b[0m \u001b[0;32min\u001b[0m \u001b[0mmixTemp\u001b[0m\u001b[0;34m:\u001b[0m\u001b[0;34m\u001b[0m\u001b[0;34m\u001b[0m\u001b[0m\n\u001b[1;32m      5\u001b[0m     \u001b[0mmixEventT\u001b[0m\u001b[0;34m.\u001b[0m\u001b[0mappend\u001b[0m\u001b[0;34m(\u001b[0m\u001b[0mlist\u001b[0m\u001b[0;34m(\u001b[0m\u001b[0mi\u001b[0m\u001b[0;34m)\u001b[0m\u001b[0;34m)\u001b[0m\u001b[0;34m\u001b[0m\u001b[0;34m\u001b[0m\u001b[0m\n",
      "\u001b[0;31mNameError\u001b[0m: name 'mixEvent' is not defined"
     ]
    }
   ],
   "source": [
    "# 忘了在幹嘛\n",
    "mixTemp = map(list, zip(*mixEvent[1:]))\n",
    "mixEventT = []\n",
    "for i in mixTemp:\n",
    "    mixEventT.append(list(i))\n",
    "mixEventT\n",
    "\n"
   ]
  },
  {
   "cell_type": "code",
   "execution_count": 29,
   "metadata": {},
   "outputs": [
    {
     "data": {
      "text/plain": [
       "['MIX',\n",
       " [55, 5760, 6240],\n",
       " [59, 5760, 6240],\n",
       " [43, 5760, 7680],\n",
       " [50, 6240, 6720],\n",
       " [60, 6720, 7200],\n",
       " [55, 6720, 7200],\n",
       " [62, 7200, 7680],\n",
       " [59, 7200, 7680]]"
      ]
     },
     "execution_count": 29,
     "metadata": {},
     "output_type": "execute_result"
    }
   ],
   "source": [
    "# # mixEvent = ['MIX',\n",
    "# mixEvent = [\n",
    "#   [57, 1920, 2400],\n",
    "#   [40, 1920, 3840],\n",
    "#   [62, 2400, 2880],\n",
    "#   [60, 2880, 3360],\n",
    "#   [55, 3360, 3840],\n",
    "#   [56, 3360, 3840]]\n",
    "# mixEvent = ['MIX',\n",
    "#   [57, 1152, 1248],\n",
    "#   [45, 1152, 1408],\n",
    "#   [61, 1248, 1280],\n",
    "#   [52, 1280, 1536],\n",
    "#   [40, 1408, 1536]]\n",
    "mixEvent = ['MIX',\n",
    "  [55, 5760, 6240],\n",
    "  [59, 5760, 6240],\n",
    "  [43, 5760, 7680],\n",
    "  [50, 6240, 6720],\n",
    "  [60, 6720, 7200],\n",
    "  [55, 6720, 7200],\n",
    "  [62, 7200, 7680],\n",
    "  [59, 7200, 7680]]\n",
    "\n",
    "mixEvent"
   ]
  },
  {
   "cell_type": "code",
   "execution_count": 37,
   "metadata": {},
   "outputs": [
    {
     "name": "stdout",
     "output_type": "stream",
     "text": [
      "[43, 50, 55, 59, 60, 62]\n",
      "chordSolution has got an error, there is no chord solution so go to Mix evaluation\n",
      "[55, 5760, 6240]\n",
      "[59, 5760, 6240]\n",
      "[43, 5760, 7680]\n",
      "[50, 6240, 6720]\n",
      "[60, 6720, 7200]\n",
      "[55, 6720, 7200]\n",
      "[62, 7200, 7680]\n",
      "[59, 7200, 7680]\n"
     ]
    }
   ],
   "source": [
    "import numpy as np\n",
    "\n",
    "# 判斷是否所有因都能夠排成chord\n",
    "# 可以的話直接輸出chord\n",
    "choNote = [x[0] for x in mixEvent[1:]]\n",
    "choNote = list(set(choNote)) # unique key\n",
    "print(choNote)\n",
    "try:\n",
    "    chordSolution = funcChordSolution(choNote, dicNoteOnFingerBoard)\n",
    "    print(\"chordSolution =\" + str(chordSolution))\n",
    "except:\n",
    "    print(\"chordSolution has got an error, there is no chord solution so go to Mix evaluation\")\n",
    "    chordSolution = []\n",
    "\n",
    "    \n",
    "# 如果不能以一個chord表示，進入Mix判斷\n",
    "if len(chordSolution) == 0:\n",
    "    npMixEvent = np.array(mixEvent[1:])\n",
    "    # npMixEventT = np.swapaxes(npMixEvent,0,1)\n",
    "    startT = min(npMixEvent[:,1])\n",
    "    endT = max(npMixEvent[:,2])\n",
    "    chordBase =[]\n",
    "    for note in mixEvent:\n",
    "#         print(note)\n",
    "        if note[1:] == [startT, endT]:\n",
    "            chordBase.append(note[0])\n",
    "    if len(chordBase)==0: # should have chordBase. This algo doesn't provide solution to this condition\n",
    "        print(\"Mix doesn't have any permanent note, need to deal with this condition\")\n",
    "        print(\"Mix matrix: \" + str(mixEvent))\n",
    "\n",
    "# categorize subevent\n",
    "\n",
    "\n",
    "\n",
    "# for note in mixEvent[1:]:\n",
    "    \n",
    "\n",
    "\n",
    "#     chordBase"
   ]
  },
  {
   "cell_type": "code",
   "execution_count": 87,
   "metadata": {},
   "outputs": [
    {
     "name": "stdout",
     "output_type": "stream",
     "text": [
      "uniqStart = [5760, 6240, 6720, 7200]\n",
      "uniqEnd = [6240, 6720, 7200, 7680]\n",
      "unniqTime =[5760, 6240, 6720, 7200, 7680]\n",
      "[55, 59, 43]\n",
      "[[55, 59, 43]]\n",
      "[43, 50]\n",
      "[[55, 59, 43], [43, 50]]\n",
      "[43, 60, 55]\n",
      "[[55, 59, 43], [43, 50], [43, 60, 55]]\n",
      "[43, 62, 59]\n",
      "[[55, 59, 43], [43, 50], [43, 60, 55], [43, 62, 59]]\n"
     ]
    }
   ],
   "source": [
    "# Mix subevent\n",
    "chordSolution\n",
    "npMixEvent\n",
    "# mixEvent\n",
    "# chordBase\n",
    "# find(npMixEvent)\n",
    "\n",
    "\n",
    "\n",
    "uniqStart = list(set(npMixEvent[:,1]))\n",
    "uniqStart.sort()\n",
    "uniqEnd = list(set(npMixEvent[:,2]))\n",
    "uniqEnd.sort()\n",
    "\n",
    "allTime = [x[1:] for x in mixEvent[1:]]\n",
    "flatAllTime = sum(allTime, [])\n",
    "uniqTime = list(set(flatAllTime))\n",
    "uniqTime.sort()\n",
    "\n",
    "\n",
    "print(\"uniqStart = \" + str(uniqStart))\n",
    "print(\"uniqEnd = \" + str(uniqEnd))\n",
    "print(\"unniqTime =\" + str(uniqTime))\n",
    "\n",
    "subEventNotes = []\n",
    "tempNotes = []\n",
    "for time in uniqTime[:-1]:\n",
    "    for note in mixEvent[1:]:\n",
    "        if note[1] == time:\n",
    "            tempNotes.append(note[0])\n",
    "        elif note[2] == time:\n",
    "            tempNotes.remove(note[0])\n",
    "    print(tempNotes)\n",
    "    subEventNotes.append(copy.deepcopy(tempNotes))\n",
    "    print(subEventNotes)\n",
    "\n",
    "# for start in uniqStart:\n",
    "#     # 找最近的stop\n",
    "#     min([x for x in npMixEvent[:,2]])\n",
    "    \n",
    "#     print(np.where(npMixEvent[:,1]==start))"
   ]
  },
  {
   "cell_type": "code",
   "execution_count": 88,
   "metadata": {},
   "outputs": [
    {
     "data": {
      "text/plain": [
       "[[55, 59, 43], [43, 50], [43, 60, 55], [43, 62, 59]]"
      ]
     },
     "execution_count": 88,
     "metadata": {},
     "output_type": "execute_result"
    }
   ],
   "source": [
    "# subEventNotes = []\n",
    "# subEventNotes.append([43,50])\n",
    "# # mixEvent\n",
    "subEventNotes"
   ]
  }
 ],
 "metadata": {
  "kernelspec": {
   "display_name": "Python 3",
   "language": "python",
   "name": "python3"
  },
  "language_info": {
   "codemirror_mode": {
    "name": "ipython",
    "version": 3
   },
   "file_extension": ".py",
   "mimetype": "text/x-python",
   "name": "python",
   "nbconvert_exporter": "python",
   "pygments_lexer": "ipython3",
   "version": "3.6.8"
  }
 },
 "nbformat": 4,
 "nbformat_minor": 2
}
