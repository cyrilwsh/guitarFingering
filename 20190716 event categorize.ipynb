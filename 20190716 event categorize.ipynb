{
 "cells": [
  {
   "cell_type": "code",
   "execution_count": 1,
   "metadata": {},
   "outputs": [
    {
     "name": "stdout",
     "output_type": "stream",
     "text": [
      "Track 0: Steel Guitar\n"
     ]
    },
    {
     "data": {
      "text/plain": [
       "[[43, 0, 1920, 'MIX', 0],\n",
       " [59, 0, 240, 'MIX', 0],\n",
       " [55, 0, 240, 'MIX', 0],\n",
       " [50, 240, 480, 'MIX', 0],\n",
       " [59, 480, 720, 'MIX', 0],\n",
       " [55, 480, 720, 'MIX', 0],\n",
       " [59, 720, 960, 'MIX', 0],\n",
       " [62, 720, 960, 'MIX', 0],\n",
       " [57, 960, 1440, 'MIX', 0],\n",
       " [59, 1200, 1440, 'MIX', 0],\n",
       " [57, 1440, 1680, 'MIX', 0],\n",
       " [50, 1680, 1920, 'MIX', 0],\n",
       " [0, 2919, 2920, 'dummy line', 1]]"
      ]
     },
     "execution_count": 1,
     "metadata": {},
     "output_type": "execute_result"
    }
   ],
   "source": [
    "# from mido import MidiFile\n",
    "from funcMidi import * # create by SH\n",
    "# MidiFileName = 'p20190612_midi_test_mix.mid'\n",
    "# MidiFileName = 'p20190716_midi_test.mid'\n",
    "MidiFileName = 'p20190818 mix from TMD.mid'\n",
    "# MidiFileName = 'Fleck, Bela - Daybreak.mid'\n",
    "# MidiFileName = 'Aguado_12valses_Op1_No1.mid'\n",
    "\n",
    "# midiArray = MidiCategorize(MidiFileName)\n",
    "(midiArray, dicEvent) = MidiCategorize(MidiFileName)\n",
    "midiArray"
   ]
  },
  {
   "cell_type": "code",
   "execution_count": 2,
   "metadata": {},
   "outputs": [],
   "source": [
    "noteEvent = 0\n",
    "events = []\n",
    "\n",
    "while noteEvent in range(len(midiArray)-1):\n",
    "    events.append([midiArray[noteEvent][3],midiArray[noteEvent][0:3]])\n",
    "    noteEvent = noteEvent + 1\n",
    "    while midiArray[noteEvent][4] == midiArray[noteEvent -1][4] and noteEvent in range(len(midiArray)):\n",
    "        events[midiArray[noteEvent][4]].append(midiArray[noteEvent][0:3])\n",
    "        noteEvent = noteEvent + 1\n"
   ]
  },
  {
   "cell_type": "code",
   "execution_count": 3,
   "metadata": {},
   "outputs": [
    {
     "data": {
      "text/plain": [
       "[['MIX',\n",
       "  [43, 0, 1920],\n",
       "  [59, 0, 240],\n",
       "  [55, 0, 240],\n",
       "  [50, 240, 480],\n",
       "  [59, 480, 720],\n",
       "  [55, 480, 720],\n",
       "  [59, 720, 960],\n",
       "  [62, 720, 960],\n",
       "  [57, 960, 1440],\n",
       "  [59, 1200, 1440],\n",
       "  [57, 1440, 1680],\n",
       "  [50, 1680, 1920]]]"
      ]
     },
     "execution_count": 3,
     "metadata": {},
     "output_type": "execute_result"
    }
   ],
   "source": [
    "events"
   ]
  },
  {
   "cell_type": "code",
   "execution_count": 4,
   "metadata": {},
   "outputs": [
    {
     "name": "stdout",
     "output_type": "stream",
     "text": [
      "capo = 0\n",
      "tuning = [64, 59, 55, 50, 45, 40]\n",
      "Notes in Finger board:\n",
      "[64, 65, 66, 67, 68, 69, 70, 71, 72, 73, 74, 75, 76]\n",
      "[59, 60, 61, 62, 63, 64, 65, 66, 67, 68, 69, 70, 71]\n",
      "[55, 56, 57, 58, 59, 60, 61, 62, 63, 64, 65, 66, 67]\n",
      "[50, 51, 52, 53, 54, 55, 56, 57, 58, 59, 60, 61, 62]\n",
      "[45, 46, 47, 48, 49, 50, 51, 52, 53, 54, 55, 56, 57]\n",
      "[40, 41, 42, 43, 44, 45, 46, 47, 48, 49, 50, 51, 52]\n"
     ]
    },
    {
     "data": {
      "text/plain": [
       "[]"
      ]
     },
     "execution_count": 4,
     "metadata": {},
     "output_type": "execute_result"
    }
   ],
   "source": [
    "dicNoteOnFingerBoard = funcCreatNoteDic()\n",
    "\n",
    "\n",
    "pathCandidates = []\n",
    "for event in events:\n",
    "    if event[0] == 'CHO':\n",
    "        choNote = [x[0] for x in event[1:]]\n",
    "        chordSolution = funcChordSolution(choNote, dicNoteOnFingerBoard)\n",
    "        pathCandidates.append(chordSolution)\n",
    "pathCandidates"
   ]
  },
  {
   "cell_type": "code",
   "execution_count": 5,
   "metadata": {},
   "outputs": [],
   "source": [
    "# # 忘了在幹嘛\n",
    "# mixTemp = map(list, zip(*mixEvent[1:]))\n",
    "# mixEventT = []\n",
    "# for i in mixTemp:\n",
    "#     mixEventT.append(list(i))\n",
    "# mixEventT\n",
    "\n"
   ]
  },
  {
   "cell_type": "code",
   "execution_count": 15,
   "metadata": {},
   "outputs": [
    {
     "data": {
      "text/plain": [
       "['MIX',\n",
       " [43, 0, 1920],\n",
       " [59, 0, 240],\n",
       " [55, 0, 240],\n",
       " [50, 240, 480],\n",
       " [59, 480, 720],\n",
       " [55, 480, 720],\n",
       " [59, 720, 960],\n",
       " [62, 720, 960],\n",
       " [57, 960, 1440],\n",
       " [59, 1200, 1440],\n",
       " [57, 1440, 1680],\n",
       " [50, 1680, 1920]]"
      ]
     },
     "execution_count": 15,
     "metadata": {},
     "output_type": "execute_result"
    }
   ],
   "source": [
    "# # mixEvent = ['MIX',\n",
    "# mixEvent = [\n",
    "#   [57, 1920, 2400],\n",
    "#   [40, 1920, 3840],\n",
    "#   [62, 2400, 2880],\n",
    "#   [60, 2880, 3360],\n",
    "#   [55, 3360, 3840],\n",
    "#   [56, 3360, 3840]]\n",
    "# mixEvent = ['MIX',\n",
    "#   [57, 1152, 1248],\n",
    "#   [45, 1152, 1408],\n",
    "#   [61, 1248, 1280],\n",
    "#   [52, 1280, 1536],\n",
    "#   [40, 1408, 1536]]\n",
    "# mixEvent = ['MIX',\n",
    "#   [55, 5760, 6240],\n",
    "#   [59, 5760, 6240],\n",
    "#   [43, 5760, 7680],\n",
    "#   [50, 6240, 6720],\n",
    "#   [60, 6720, 7200],\n",
    "#   [55, 6720, 7200],\n",
    "#   [62, 7200, 7680],\n",
    "#   [59, 7200, 7680]]\n",
    "# 他媽的前奏\n",
    "mixEvent = ['MIX',\n",
    "  [43, 0, 1920],\n",
    "  [59, 0, 240],\n",
    "  [55, 0, 240],\n",
    "  [50, 240, 480],\n",
    "  [59, 480, 720],\n",
    "  [55, 480, 720],\n",
    "  [59, 720, 960],\n",
    "  [62, 720, 960],\n",
    "  [57, 960, 1440],\n",
    "  [59, 1200, 1440],\n",
    "  [57, 1440, 1680],\n",
    "  [50, 1680, 1920]]\n",
    "\n",
    "mixEvent"
   ]
  },
  {
   "cell_type": "code",
   "execution_count": 20,
   "metadata": {},
   "outputs": [
    {
     "name": "stdout",
     "output_type": "stream",
     "text": [
      "[43, 50, 55, 57, 59, 62]\n",
      "Nothing found in chordSolution\n"
     ]
    },
    {
     "data": {
      "text/plain": [
       "[43]"
      ]
     },
     "execution_count": 20,
     "metadata": {},
     "output_type": "execute_result"
    }
   ],
   "source": [
    "import numpy as np\n",
    "\n",
    "# 判斷是否所有因都能夠排成chord\n",
    "# 可以的話直接輸出chord\n",
    "choNote = [x[0] for x in mixEvent[1:]]\n",
    "choNote = list(set(choNote)) # unique key\n",
    "print(choNote)\n",
    "chordSolution = []\n",
    "try:\n",
    "    chordSolution = funcChordSolution(choNote, dicNoteOnFingerBoard)\n",
    "    if len(chordSolution) != 0:\n",
    "        print(\"chordSolution =\" + str(chordSolution))\n",
    "    else:\n",
    "        print(\"Nothing found in chordSolution\")\n",
    "except:\n",
    "    print(\"chordSolution has got an error, there is no chord solution so go to Mix evaluation\")\n",
    "    chordSolution = []\n",
    "\n",
    "    \n",
    "# 如果不能以一個chord表示，進入Mix判斷\n",
    "if len(chordSolution) == 0:\n",
    "    npMixEvent = np.array(mixEvent[1:])\n",
    "    # npMixEventT = np.swapaxes(npMixEvent,0,1)\n",
    "    startT = min(npMixEvent[:,1])\n",
    "    endT = max(npMixEvent[:,2])\n",
    "    chordBase =[]\n",
    "    for note in mixEvent[1:]:\n",
    "#         print(note)\n",
    "        if note[1:] == [startT, endT]:\n",
    "            chordBase.append(note[0])\n",
    "            \n",
    "    if len(chordBase)==0: # should have chordBase. This algo doesn't provide solution to this condition\n",
    "        print(\"Mix doesn't have any permanent note, need to deal with this condition\")\n",
    "        print(\"Mix matrix: \" + str(mixEvent))\n",
    "\n",
    "# categorize subevent\n",
    "\n",
    "\n",
    "\n",
    "# for note in mixEvent[1:]:\n",
    "    \n",
    "\n",
    "\n",
    "chordBase"
   ]
  },
  {
   "cell_type": "code",
   "execution_count": 26,
   "metadata": {},
   "outputs": [
    {
     "name": "stdout",
     "output_type": "stream",
     "text": [
      "[43, 59, 55]\n",
      "[-43, 50]\n",
      "[-43, 59, 55]\n",
      "[-43, 59, 62]\n",
      "[-43, 57]\n",
      "[-43, -57, 59]\n",
      "[-43, 57]\n",
      "[-43, 50]\n",
      "[[43, 59, 55], [-43, 50], [-43, 59, 55], [-43, 59, 62], [-43, 57], [-43, -57, 59], [-43, 57], [-43, 50]]\n"
     ]
    }
   ],
   "source": [
    "# Divide Mix into subEvents\n",
    "# from funcMidi import *\n",
    "\n",
    "allTime = [x[1:] for x in mixEvent[1:]]\n",
    "flatAllTime = sum(allTime, [])\n",
    "uniqTime = list(set(flatAllTime))\n",
    "uniqTime.sort()\n",
    "# print(\"unniqTime =\" + str(uniqTime))\n",
    "\n",
    "subEventNotes = []\n",
    "tempNotes = []\n",
    "for time in uniqTime[:-1]:\n",
    "    for note in mixEvent[1:]:\n",
    "        if note[1] < time < note[2]:\n",
    "            try: \n",
    "                tempNotes[tempNotes.index(note[0])] = -note[0]\n",
    "            except:\n",
    "                pass\n",
    "        elif note[1] == time:\n",
    "            tempNotes.append(note[0])\n",
    "        elif note[2] == time:\n",
    "            try:\n",
    "                tempNotes.remove(note[0])\n",
    "            except:\n",
    "                tempNotes.remove(-note[0])    \n",
    "    print(tempNotes)\n",
    "    subEventNotes.append(copy.deepcopy(tempNotes)) # should use deepcopy instead of copy\n",
    "print(subEventNotes)\n",
    "\n"
   ]
  },
  {
   "cell_type": "code",
   "execution_count": 36,
   "metadata": {},
   "outputs": [
    {
     "data": {
      "text/plain": [
       "'\\n如果是從前一個就start, 還沒結束的NOte, 改為 -Note (如-55)\\n當作一個標記flag\\n算chord solution時要拿abs\\n可是算path的時候\\n有看到負號就只能抓前一組相同的note position\\n'"
      ]
     },
     "execution_count": 36,
     "metadata": {},
     "output_type": "execute_result"
    }
   ],
   "source": [
    "# run chordSolution for each subEvents\n",
    "candidate = []\n",
    "for choNote in subEventNotes:\n",
    "    subCandidate = funcChordSolution(list(map(abs, choNote)), dicNoteOnFingerBoard)\n",
    "    candidate.append(subCandidate)\n",
    "# for start in uniqStart:\n",
    "#     # 找最近的stop\n",
    "#     min([x for x in npMixEvent[:,2]])\n",
    "    \n",
    "#     print(np.where(npMixEvent[:,1]==start))\n",
    "\"\"\"\n",
    "如果是從前一個就start, 還沒結束的NOte, 改為 -Note (如-55)\n",
    "當作一個標記flag\n",
    "算chord solution時要拿abs\n",
    "可是算path的時候\n",
    "有看到負號就只能抓前一組相同的note position\n",
    "\"\"\""
   ]
  },
  {
   "cell_type": "code",
   "execution_count": 41,
   "metadata": {},
   "outputs": [
    {
     "name": "stdout",
     "output_type": "stream",
     "text": [
      "[[43, 59, 55], [-43, 50], [-43, 59, 55], [-43, 59, 62], [-43, 57], [-43, -57, 59], [-43, 57], [-43, 50]]\n",
      "number of candidate = 7\n",
      "[[[6, 3, 1], [3, 4, 3], [4, 5, 4]], [[6, 3, 1], [3, 4, 2], [4, 5, 4]], [[6, 3, 1], [3, 4, 2], [4, 5, 3]], [[6, 3, 1], [2, 0, 0], [4, 5, 2]], [[6, 3, 1], [2, 0, 0], [3, 0, 0]], [[6, 3, 1], [2, 0, 0], [4, 5, 4]], [[6, 3, 1], [2, 0, 0], [4, 5, 3]]]\n",
      "number of candidate = 4\n",
      "[[[6, 3, 1], [5, 5, 3]], [[6, 3, 1], [5, 5, 4]], [[6, 3, 1], [5, 5, 2]], [[6, 3, 1], [4, 0, 0]]]\n",
      "number of candidate = 7\n",
      "[[[6, 3, 1], [3, 4, 3], [4, 5, 4]], [[6, 3, 1], [3, 4, 2], [4, 5, 4]], [[6, 3, 1], [3, 4, 2], [4, 5, 3]], [[6, 3, 1], [2, 0, 0], [4, 5, 2]], [[6, 3, 1], [2, 0, 0], [3, 0, 0]], [[6, 3, 1], [2, 0, 0], [4, 5, 4]], [[6, 3, 1], [2, 0, 0], [4, 5, 3]]]\n",
      "number of candidate = 7\n",
      "[[[6, 3, 1], [3, 4, 4], [2, 3, 3]], [[6, 3, 1], [3, 4, 4], [2, 3, 2]], [[6, 3, 1], [3, 4, 4], [2, 3, 1]], [[6, 3, 1], [3, 4, 3], [2, 3, 2]], [[6, 3, 1], [3, 4, 3], [2, 3, 1]], [[6, 3, 1], [3, 4, 2], [2, 3, 1]], [[6, 3, 1], [2, 0, 0], [3, 7, 4]]]\n",
      "number of candidate = 4\n",
      "[[[6, 3, 2], [3, 2, 1]], [[6, 3, 1], [4, 7, 4]], [[6, 3, 4], [3, 2, 1]], [[6, 3, 3], [3, 2, 1]]]\n",
      "number of candidate = 5\n",
      "[[[6, 3, 2], [3, 2, 1], [2, 0, 0]], [[6, 3, 1], [4, 7, 4], [3, 4, 2]], [[6, 3, 1], [4, 7, 4], [2, 0, 0]], [[6, 3, 4], [3, 2, 1], [2, 0, 0]], [[6, 3, 3], [3, 2, 1], [2, 0, 0]]]\n",
      "number of candidate = 4\n",
      "[[[6, 3, 2], [3, 2, 1]], [[6, 3, 1], [4, 7, 4]], [[6, 3, 4], [3, 2, 1]], [[6, 3, 3], [3, 2, 1]]]\n",
      "number of candidate = 4\n",
      "[[[6, 3, 1], [5, 5, 3]], [[6, 3, 1], [5, 5, 4]], [[6, 3, 1], [5, 5, 2]], [[6, 3, 1], [4, 0, 0]]]\n"
     ]
    },
    {
     "data": {
      "text/plain": [
       "[[[[6, 3, 1], [3, 4, 3], [4, 5, 4]],\n",
       "  [[6, 3, 1], [3, 4, 2], [4, 5, 4]],\n",
       "  [[6, 3, 1], [3, 4, 2], [4, 5, 3]],\n",
       "  [[6, 3, 1], [2, 0, 0], [4, 5, 2]],\n",
       "  [[6, 3, 1], [2, 0, 0], [3, 0, 0]],\n",
       "  [[6, 3, 1], [2, 0, 0], [4, 5, 4]],\n",
       "  [[6, 3, 1], [2, 0, 0], [4, 5, 3]]],\n",
       " [[[6, 3, 1], [5, 5, 3]],\n",
       "  [[6, 3, 1], [5, 5, 4]],\n",
       "  [[6, 3, 1], [5, 5, 2]],\n",
       "  [[6, 3, 1], [4, 0, 0]]],\n",
       " [[[6, 3, 1], [3, 4, 3], [4, 5, 4]],\n",
       "  [[6, 3, 1], [3, 4, 2], [4, 5, 4]],\n",
       "  [[6, 3, 1], [3, 4, 2], [4, 5, 3]],\n",
       "  [[6, 3, 1], [2, 0, 0], [4, 5, 2]],\n",
       "  [[6, 3, 1], [2, 0, 0], [3, 0, 0]],\n",
       "  [[6, 3, 1], [2, 0, 0], [4, 5, 4]],\n",
       "  [[6, 3, 1], [2, 0, 0], [4, 5, 3]]],\n",
       " [[[6, 3, 1], [3, 4, 4], [2, 3, 3]],\n",
       "  [[6, 3, 1], [3, 4, 4], [2, 3, 2]],\n",
       "  [[6, 3, 1], [3, 4, 4], [2, 3, 1]],\n",
       "  [[6, 3, 1], [3, 4, 3], [2, 3, 2]],\n",
       "  [[6, 3, 1], [3, 4, 3], [2, 3, 1]],\n",
       "  [[6, 3, 1], [3, 4, 2], [2, 3, 1]],\n",
       "  [[6, 3, 1], [2, 0, 0], [3, 7, 4]]],\n",
       " [[[6, 3, 2], [3, 2, 1]],\n",
       "  [[6, 3, 1], [4, 7, 4]],\n",
       "  [[6, 3, 4], [3, 2, 1]],\n",
       "  [[6, 3, 3], [3, 2, 1]]],\n",
       " [[[6, 3, 2], [3, 2, 1], [2, 0, 0]],\n",
       "  [[6, 3, 1], [4, 7, 4], [3, 4, 2]],\n",
       "  [[6, 3, 1], [4, 7, 4], [2, 0, 0]],\n",
       "  [[6, 3, 4], [3, 2, 1], [2, 0, 0]],\n",
       "  [[6, 3, 3], [3, 2, 1], [2, 0, 0]]],\n",
       " [[[6, 3, 2], [3, 2, 1]],\n",
       "  [[6, 3, 1], [4, 7, 4]],\n",
       "  [[6, 3, 4], [3, 2, 1]],\n",
       "  [[6, 3, 3], [3, 2, 1]]],\n",
       " [[[6, 3, 1], [5, 5, 3]],\n",
       "  [[6, 3, 1], [5, 5, 4]],\n",
       "  [[6, 3, 1], [5, 5, 2]],\n",
       "  [[6, 3, 1], [4, 0, 0]]]]"
      ]
     },
     "execution_count": 41,
     "metadata": {},
     "output_type": "execute_result"
    }
   ],
   "source": [
    "# subEventNotes = []\n",
    "# subEventNotes.append([43,50])\n",
    "# # mixEvent\n",
    "print(subEventNotes)\n",
    "for subCandidate in candidate:\n",
    "    print(\"number of candidate = \" + str(len(subCandidate)))\n",
    "    print(subCandidate)\n",
    "candidate\n"
   ]
  },
  {
   "cell_type": "code",
   "execution_count": 69,
   "metadata": {},
   "outputs": [
    {
     "data": {
      "text/plain": [
       "array([[[ 0.,  0.,  0.,  0.,  0.,  0.,  0.],\n",
       "        [ 0.,  0.,  0.,  0.,  0.,  0.,  0.],\n",
       "        [ 0.,  0.,  0.,  0.,  0.,  0.,  0.],\n",
       "        [ 0.,  0.,  0.,  0.,  0.,  0.,  0.],\n",
       "        [ 0.,  0.,  0.,  0.,  0.,  0.,  0.],\n",
       "        [ 0.,  0.,  0.,  0.,  0.,  0.,  0.],\n",
       "        [ 0.,  0.,  0.,  0.,  0.,  0.,  0.]],\n",
       "\n",
       "       [[inf, inf, inf, inf, inf, inf, inf],\n",
       "        [inf, inf, inf, inf, inf, inf, inf],\n",
       "        [inf, inf, inf, inf, inf, inf, inf],\n",
       "        [inf, inf, inf, inf, inf, inf, inf],\n",
       "        [inf, inf, inf, inf, inf, inf, inf],\n",
       "        [inf, inf, inf, inf, inf, inf, inf],\n",
       "        [inf, inf, inf, inf, inf, inf, inf]],\n",
       "\n",
       "       [[inf, inf, inf, inf, inf, inf, inf],\n",
       "        [inf, inf, inf, inf, inf, inf, inf],\n",
       "        [inf, inf, inf, inf, inf, inf, inf],\n",
       "        [inf, inf, inf, inf, inf, inf, inf],\n",
       "        [inf, inf, inf, inf, inf, inf, inf],\n",
       "        [inf, inf, inf, inf, inf, inf, inf],\n",
       "        [inf, inf, inf, inf, inf, inf, inf]],\n",
       "\n",
       "       [[inf, inf, inf, inf, inf, inf, inf],\n",
       "        [inf, inf, inf, inf, inf, inf, inf],\n",
       "        [inf, inf, inf, inf, inf, inf, inf],\n",
       "        [inf, inf, inf, inf, inf, inf, inf],\n",
       "        [inf, inf, inf, inf, inf, inf, inf],\n",
       "        [inf, inf, inf, inf, inf, inf, inf],\n",
       "        [inf, inf, inf, inf, inf, inf, inf]],\n",
       "\n",
       "       [[inf, inf, inf, inf, inf, inf, inf],\n",
       "        [inf, inf, inf, inf, inf, inf, inf],\n",
       "        [inf, inf, inf, inf, inf, inf, inf],\n",
       "        [inf, inf, inf, inf, inf, inf, inf],\n",
       "        [inf, inf, inf, inf, inf, inf, inf],\n",
       "        [inf, inf, inf, inf, inf, inf, inf],\n",
       "        [inf, inf, inf, inf, inf, inf, inf]],\n",
       "\n",
       "       [[inf, inf, inf, inf, inf, inf, inf],\n",
       "        [inf, inf, inf, inf, inf, inf, inf],\n",
       "        [inf, inf, inf, inf, inf, inf, inf],\n",
       "        [inf, inf, inf, inf, inf, inf, inf],\n",
       "        [inf, inf, inf, inf, inf, inf, inf],\n",
       "        [inf, inf, inf, inf, inf, inf, inf],\n",
       "        [inf, inf, inf, inf, inf, inf, inf]],\n",
       "\n",
       "       [[inf, inf, inf, inf, inf, inf, inf],\n",
       "        [inf, inf, inf, inf, inf, inf, inf],\n",
       "        [inf, inf, inf, inf, inf, inf, inf],\n",
       "        [inf, inf, inf, inf, inf, inf, inf],\n",
       "        [inf, inf, inf, inf, inf, inf, inf],\n",
       "        [inf, inf, inf, inf, inf, inf, inf],\n",
       "        [inf, inf, inf, inf, inf, inf, inf]],\n",
       "\n",
       "       [[inf, inf, inf, inf, inf, inf, inf],\n",
       "        [inf, inf, inf, inf, inf, inf, inf],\n",
       "        [inf, inf, inf, inf, inf, inf, inf],\n",
       "        [inf, inf, inf, inf, inf, inf, inf],\n",
       "        [inf, inf, inf, inf, inf, inf, inf],\n",
       "        [inf, inf, inf, inf, inf, inf, inf],\n",
       "        [inf, inf, inf, inf, inf, inf, inf]]])"
      ]
     },
     "execution_count": 69,
     "metadata": {},
     "output_type": "execute_result"
    }
   ],
   "source": [
    "# build cost matrix\n",
    "\n",
    "lenCand = [len(x) for x in candidate]\n",
    "# initialise a cost matrix to inf\n",
    "costMatrix = np.ones([len(lenCand), max(lenCand), max(lenCand)])*float(\"inf\")\n",
    "costMatrix[0,:,:] = 0\n",
    "\n",
    "npa = np.ones([8,7, 7])*float(\"inf\")\n",
    "# npb = np.zeros([4,5])\n",
    "costMatrix"
   ]
  },
  {
   "cell_type": "code",
   "execution_count": 73,
   "metadata": {},
   "outputs": [
    {
     "data": {
      "text/plain": [
       "nan"
      ]
     },
     "execution_count": 73,
     "metadata": {},
     "output_type": "execute_result"
    }
   ],
   "source": [
    "a = float(\"inf\")\n",
    "b = a - float(\"inf\")\n",
    "b"
   ]
  }
 ],
 "metadata": {
  "kernelspec": {
   "display_name": "Python 3",
   "language": "python",
   "name": "python3"
  },
  "language_info": {
   "codemirror_mode": {
    "name": "ipython",
    "version": 3
   },
   "file_extension": ".py",
   "mimetype": "text/x-python",
   "name": "python",
   "nbconvert_exporter": "python",
   "pygments_lexer": "ipython3",
   "version": "3.6.8"
  }
 },
 "nbformat": 4,
 "nbformat_minor": 2
}
