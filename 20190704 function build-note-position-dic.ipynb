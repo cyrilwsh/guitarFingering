{
 "cells": [
  {
   "cell_type": "markdown",
   "metadata": {},
   "source": [
    "Function - build note-position dictionary"
   ]
  },
  {
   "cell_type": "code",
   "execution_count": 2,
   "metadata": {},
   "outputs": [],
   "source": [
    "\n",
    "def funcCreatNoteDic (capo=0 , tuning = [64, 59, 55, 50, 45, 40], maxAvailableFret = 12):\n",
    "\n",
    "    \"\"\" for normal guitar tuning. (E4, B3, G3, D3, A2, E2)\n",
    "                          string    1   2   3   4   5   6\n",
    "    in real world physical way, it looks like left-right-reversed\n",
    "    capo = 1\n",
    "    \"\"\"\n",
    "    # set 0 fret initial note -- AKA guitar tuning\n",
    "    arrayFingerBoard = [tuning] \n",
    "    arrayFingerBoard = [[string+capo for string in arrayFingerBoard[0]]]\n",
    "\n",
    "    for fret in range (maxAvailableFret - capo):\n",
    "        arrayFingerBoard.append([string+1 for string in arrayFingerBoard[-1]])\n",
    "\n",
    "    # print out Finger Board\n",
    "    print(\"Notes in Finger board:\")\n",
    "    print(\"string 1 to 6\")\n",
    "    for fret in arrayFingerBoard:\n",
    "        print(fret) \n",
    "    \n",
    "    # create a dictionary: note - position\n",
    "    # input : note number, ex: 66\n",
    "    # output: position, ex: [[1, 1], [2, 6], [3, 10]]\n",
    "    # def funCreatNoteDic (arrayFingerBoard):\n",
    "    dicNoteOnFingerBoard = {}\n",
    "    for fret in range(len(arrayFingerBoard)):\n",
    "        for string in range(6):\n",
    "            note = arrayFingerBoard[fret][string]\n",
    "            if note not in dicNoteOnFingerBoard:\n",
    "                dicNoteOnFingerBoard[note] = [[string+1, fret]] # let string = 1~6\n",
    "            else:\n",
    "                dicNoteOnFingerBoard[note].append([string+1, fret]) # let string = 1~6\n",
    "    return dicNoteOnFingerBoard"
   ]
  },
  {
   "cell_type": "code",
   "execution_count": 3,
   "metadata": {},
   "outputs": [
    {
     "name": "stdout",
     "output_type": "stream",
     "text": [
      "Notes in Finger board:\n",
      "string 1 to 6\n",
      "[64, 59, 55, 50, 45, 40]\n",
      "[65, 60, 56, 51, 46, 41]\n",
      "[66, 61, 57, 52, 47, 42]\n",
      "[67, 62, 58, 53, 48, 43]\n",
      "[68, 63, 59, 54, 49, 44]\n",
      "[69, 64, 60, 55, 50, 45]\n",
      "[70, 65, 61, 56, 51, 46]\n",
      "[71, 66, 62, 57, 52, 47]\n",
      "[72, 67, 63, 58, 53, 48]\n",
      "[73, 68, 64, 59, 54, 49]\n",
      "[74, 69, 65, 60, 55, 50]\n",
      "[75, 70, 66, 61, 56, 51]\n",
      "[76, 71, 67, 62, 57, 52]\n"
     ]
    }
   ],
   "source": [
    "dicNoteOnFingerBoard = funcCreatNoteDic()\n",
    "# funcCreatNoteDic(2, [64, 59, 55, 50, 45, 30])\n"
   ]
  },
  {
   "cell_type": "code",
   "execution_count": 8,
   "metadata": {},
   "outputs": [
    {
     "name": "stdout",
     "output_type": "stream",
     "text": [
      "[[6, 3]]\n",
      "[[5, 2], [6, 7]]\n"
     ]
    }
   ],
   "source": [
    "print(dicNoteOnFingerBoard[43]) # G2\n",
    "print(dicNoteOnFingerBoard[47]) # B2"
   ]
  }
 ],
 "metadata": {
  "kernelspec": {
   "display_name": "Python 3",
   "language": "python",
   "name": "python3"
  },
  "language_info": {
   "codemirror_mode": {
    "name": "ipython",
    "version": 3
   },
   "file_extension": ".py",
   "mimetype": "text/x-python",
   "name": "python",
   "nbconvert_exporter": "python",
   "pygments_lexer": "ipython3",
   "version": "3.6.8"
  }
 },
 "nbformat": 4,
 "nbformat_minor": 2
}
