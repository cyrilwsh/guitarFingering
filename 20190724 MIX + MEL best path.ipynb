{
 "cells": [
  {
   "cell_type": "code",
   "execution_count": 18,
   "metadata": {},
   "outputs": [
    {
     "name": "stdout",
     "output_type": "stream",
     "text": [
      "Track 0: Electric Guitar\n",
      "capo = 0\n",
      "tuning = [64, 59, 55, 50, 45, 40]\n",
      "Notes in Finger board:\n",
      "[64, 65, 66, 67, 68, 69, 70, 71, 72, 73, 74, 75, 76]\n",
      "[59, 60, 61, 62, 63, 64, 65, 66, 67, 68, 69, 70, 71]\n",
      "[55, 56, 57, 58, 59, 60, 61, 62, 63, 64, 65, 66, 67]\n",
      "[50, 51, 52, 53, 54, 55, 56, 57, 58, 59, 60, 61, 62]\n",
      "[45, 46, 47, 48, 49, 50, 51, 52, 53, 54, 55, 56, 57]\n",
      "[40, 41, 42, 43, 44, 45, 46, 47, 48, 49, 50, 51, 52]\n"
     ]
    },
    {
     "data": {
      "text/plain": [
       "[[45, 0, 240, 'MEL', 0],\n",
       " [53, 240, 480, 'MEL', 1],\n",
       " [57, 480, 1440, 'MEL', 2],\n",
       " [57, 1920, 2400, 'MIX', 3],\n",
       " [40, 1920, 3840, 'MIX', 3],\n",
       " [62, 2400, 2880, 'MIX', 3],\n",
       " [60, 2880, 3360, 'MIX', 3],\n",
       " [55, 3360, 3840, 'MIX', 3],\n",
       " [48, 3840, 4800, 'CHO', 4],\n",
       " [52, 3840, 4800, 'CHO', 4],\n",
       " [60, 3840, 4800, 'CHO', 4],\n",
       " [55, 3840, 4800, 'CHO', 4],\n",
       " [64, 3840, 4800, 'CHO', 4],\n",
       " [50, 4800, 5760, 'CHO', 5],\n",
       " [57, 4800, 5760, 'CHO', 5],\n",
       " [62, 4800, 5760, 'CHO', 5],\n",
       " [66, 4800, 5760, 'CHO', 5],\n",
       " [0, 6759, 6760, 'dummy line', 6]]"
      ]
     },
     "execution_count": 18,
     "metadata": {},
     "output_type": "execute_result"
    }
   ],
   "source": [
    "# from mido import MidiFile\n",
    "from funcMidi import * # create by SH\n",
    "MidiFileName = 'p20190612_midi_test_mix.mid'\n",
    "# MidiFileName = 'p20190716_midi_test.mid'\n",
    "# MidiFileName = 'p20190818 mix from TMD.mid'\n",
    "# MidiFileName = 'Fleck, Bela - Daybreak.mid'\n",
    "# MidiFileName = 'Aguado_12valses_Op1_No1.mid'\n",
    "\n",
    "# midiArray = MidiCategorize(MidiFileName)\n",
    "(midiArray, dicEvent) = MidiCategorize(MidiFileName)\n",
    "dicNoteOnFingerBoard = funcCreatNoteDic()\n",
    "midiArray"
   ]
  },
  {
   "cell_type": "code",
   "execution_count": 65,
   "metadata": {},
   "outputs": [
    {
     "data": {
      "text/plain": [
       "[[48, 3840, 4800, 'CHO', 4],\n",
       " [52, 3840, 4800, 'CHO', 4],\n",
       " [60, 3840, 4800, 'CHO', 4],\n",
       " [55, 3840, 4800, 'CHO', 4],\n",
       " [64, 3840, 4800, 'CHO', 4],\n",
       " [50, 4800, 5760, 'CHO', 5],\n",
       " [57, 4800, 5760, 'CHO', 5],\n",
       " [62, 4800, 5760, 'CHO', 5],\n",
       " [66, 4800, 5760, 'CHO', 5],\n",
       " [0, 6759, 6760, 'dummy line', 6]]"
      ]
     },
     "execution_count": 65,
     "metadata": {},
     "output_type": "execute_result"
    }
   ],
   "source": [
    "# midiArray = midiArray[3:9]\n",
    "midiArray = [ [48, 3840, 4800, 'CHO', 4],\n",
    " [52, 3840, 4800, 'CHO', 4],\n",
    " [60, 3840, 4800, 'CHO', 4],\n",
    " [55, 3840, 4800, 'CHO', 4],\n",
    " [64, 3840, 4800, 'CHO', 4],\n",
    " [50, 4800, 5760, 'CHO', 5],\n",
    " [57, 4800, 5760, 'CHO', 5],\n",
    " [62, 4800, 5760, 'CHO', 5],\n",
    " [66, 4800, 5760, 'CHO', 5],\n",
    " [0, 6759, 6760, 'dummy line', 6]]\n",
    "midiArray"
   ]
  },
  {
   "cell_type": "code",
   "execution_count": 66,
   "metadata": {},
   "outputs": [
    {
     "data": {
      "text/plain": [
       "[[[48, 3840, 4800, 'CHO'],\n",
       "  [52, 3840, 4800, 'CHO'],\n",
       "  [60, 3840, 4800, 'CHO'],\n",
       "  [55, 3840, 4800, 'CHO'],\n",
       "  [64, 3840, 4800, 'CHO']],\n",
       " [[50, 4800, 5760, 'CHO'],\n",
       "  [57, 4800, 5760, 'CHO'],\n",
       "  [62, 4800, 5760, 'CHO'],\n",
       "  [66, 4800, 5760, 'CHO']]]"
      ]
     },
     "execution_count": 66,
     "metadata": {},
     "output_type": "execute_result"
    }
   ],
   "source": [
    "# list by event\n",
    "events = []\n",
    "nn = 0\n",
    "while nn < len(midiArray):\n",
    "    if midiArray[nn][3] == 'MEL':\n",
    "        events.append([midiArray[nn][:-1]])\n",
    "        nn = nn + 1\n",
    "    elif midiArray[nn][3] == 'MIX' or midiArray[nn][3] == 'CHO':\n",
    "        subEvents = []\n",
    "        currentEvent = midiArray[nn][4]\n",
    "        while midiArray[nn][4] == currentEvent:\n",
    "            subEvents.append(midiArray[nn][:-1])\n",
    "            nn = nn + 1\n",
    "        events.append(subEvents)\n",
    "    else:\n",
    "        break\n",
    "\n",
    "events\n",
    "# subEvents"
   ]
  },
  {
   "cell_type": "code",
   "execution_count": 67,
   "metadata": {},
   "outputs": [
    {
     "data": {
      "text/plain": [
       "[3840, 4800, 5760]"
      ]
     },
     "execution_count": 67,
     "metadata": {},
     "output_type": "execute_result"
    }
   ],
   "source": [
    "# unique time\n",
    "allTime = [x[1:3] for x in midiArray[:-1] ] # ignore dummy line\n",
    "flatAllTime = sum(allTime, [])\n",
    "uniqTime = list(set(flatAllTime))\n",
    "uniqTime.sort()\n",
    "\n",
    "uniqTime"
   ]
  },
  {
   "cell_type": "code",
   "execution_count": 68,
   "metadata": {},
   "outputs": [
    {
     "data": {
      "text/plain": [
       "[[48, 52, 60, 55, 64], [50, 57, 62, 66]]"
      ]
     },
     "execution_count": 68,
     "metadata": {},
     "output_type": "execute_result"
    }
   ],
   "source": [
    "# 依照時間 產生出note 包含tied note\n",
    "eventsNotes = []\n",
    "for event in events:\n",
    "    if len(event) == 1:\n",
    "        eventsNotes.append([event[0][0]])\n",
    "    elif event[0][-1] =='CHO':\n",
    "        choNotes = [x[0] for x in event]\n",
    "        eventsNotes.append(choNotes)\n",
    "    elif event[0][-1] == 'MIX':\n",
    "        allTime = [x[1:3] for x in event]\n",
    "        flatAllTime = sum(allTime, [])\n",
    "        uniqTime = list(set(flatAllTime))\n",
    "        uniqTime.sort()\n",
    "\n",
    "        subEventNotes = []\n",
    "        tempNotes = []\n",
    "        for time in uniqTime[:-1]:\n",
    "\n",
    "            for note in event:\n",
    "                if note[1] < time < note[2]:\n",
    "                    try: \n",
    "                        tempNotes[tempNotes.index(note[0])] = -note[0]\n",
    "                    except:\n",
    "                        pass\n",
    "                elif note[1] == time:\n",
    "                    tempNotes.append(note[0])\n",
    "                elif note[2] == time:\n",
    "                    try:\n",
    "                        tempNotes.remove(note[0])\n",
    "                    except:\n",
    "                        tempNotes.remove(-note[0])    \n",
    "            subEventNotes.append(copy.deepcopy(tempNotes)) # should use deepcopy instead of copy\n",
    "        for x in subEventNotes:\n",
    "            eventsNotes.append(x) \n",
    "        \n",
    "eventsNotes"
   ]
  },
  {
   "cell_type": "code",
   "execution_count": 104,
   "metadata": {},
   "outputs": [
    {
     "name": "stdout",
     "output_type": "stream",
     "text": [
      "16.6[[6, 8, 3], [5, 7, 2], [3, 5, 1], [4, 5, 1], [1, 0, 0]]\n",
      "11.6[[6, 8, 3], [5, 7, 2], [3, 5, 1], [4, 5, 1], [2, 5, 1]]\n",
      "9.6[[5, 3, 4], [4, 2, 2], [2, 1, 1], [3, 0, 0], [1, 0, 0]]\n",
      "9.6[[5, 3, 4], [4, 2, 3], [2, 1, 1], [3, 0, 0], [1, 0, 0]]\n",
      "9.6[[5, 3, 4], [4, 2, 3], [2, 1, 2], [3, 0, 0], [1, 0, 0]]\n",
      "18.0[[6, 8, 2], [5, 7, 1], [4, 10, 4], [3, 0, 0], [1, 0, 0]]\n",
      "8.6[[5, 3, 3], [4, 2, 2], [2, 1, 1], [3, 0, 0], [1, 0, 0]]\n",
      "17.6[[6, 8, 4], [5, 7, 3], [3, 5, 1], [4, 5, 1], [1, 0, 0]]\n",
      "12.6[[6, 8, 4], [5, 7, 3], [3, 5, 1], [4, 5, 1], [2, 5, 1]]\n",
      "17.6[[6, 8, 4], [5, 7, 2], [3, 5, 1], [4, 5, 1], [1, 0, 0]]\n",
      "12.6[[6, 8, 4], [5, 7, 2], [3, 5, 1], [4, 5, 1], [2, 5, 1]]\n",
      "\n",
      "16.6[[6, 8, 3], [5, 7, 2], [3, 5, 1], [4, 5, 1], [1, 0, 0]]\n",
      "11.6[[6, 8, 3], [5, 7, 2], [3, 5, 1], [4, 5, 1], [2, 5, 1]]\n",
      "9.6[[5, 3, 4], [4, 2, 2], [2, 1, 1], [3, 0, 0], [1, 0, 0]]\n",
      "9.6[[5, 3, 4], [4, 2, 3], [2, 1, 1], [3, 0, 0], [1, 0, 0]]\n",
      "9.6[[5, 3, 4], [4, 2, 3], [2, 1, 2], [3, 0, 0], [1, 0, 0]]\n",
      "18.0[[6, 8, 2], [5, 7, 1], [4, 10, 4], [3, 0, 0], [1, 0, 0]]\n",
      "8.6[[5, 3, 3], [4, 2, 2], [2, 1, 1], [3, 0, 0], [1, 0, 0]]\n",
      "17.6[[6, 8, 4], [5, 7, 3], [3, 5, 1], [4, 5, 1], [1, 0, 0]]\n",
      "12.6[[6, 8, 4], [5, 7, 3], [3, 5, 1], [4, 5, 1], [2, 5, 1]]\n",
      "17.6[[6, 8, 4], [5, 7, 2], [3, 5, 1], [4, 5, 1], [1, 0, 0]]\n",
      "12.6[[6, 8, 4], [5, 7, 2], [3, 5, 1], [4, 5, 1], [2, 5, 1]]\n",
      "\n",
      "16.6[[6, 8, 3], [5, 7, 2], [3, 5, 1], [4, 5, 1], [1, 0, 0]]\n",
      "11.6[[6, 8, 3], [5, 7, 2], [3, 5, 1], [4, 5, 1], [2, 5, 1]]\n",
      "9.6[[5, 3, 4], [4, 2, 2], [2, 1, 1], [3, 0, 0], [1, 0, 0]]\n",
      "9.6[[5, 3, 4], [4, 2, 3], [2, 1, 1], [3, 0, 0], [1, 0, 0]]\n",
      "9.6[[5, 3, 4], [4, 2, 3], [2, 1, 2], [3, 0, 0], [1, 0, 0]]\n",
      "18.0[[6, 8, 2], [5, 7, 1], [4, 10, 4], [3, 0, 0], [1, 0, 0]]\n",
      "8.6[[5, 3, 3], [4, 2, 2], [2, 1, 1], [3, 0, 0], [1, 0, 0]]\n",
      "17.6[[6, 8, 4], [5, 7, 3], [3, 5, 1], [4, 5, 1], [1, 0, 0]]\n",
      "12.6[[6, 8, 4], [5, 7, 3], [3, 5, 1], [4, 5, 1], [2, 5, 1]]\n",
      "17.6[[6, 8, 4], [5, 7, 2], [3, 5, 1], [4, 5, 1], [1, 0, 0]]\n",
      "12.6[[6, 8, 4], [5, 7, 2], [3, 5, 1], [4, 5, 1], [2, 5, 1]]\n",
      "\n",
      "16.6[[6, 8, 3], [5, 7, 2], [3, 5, 1], [4, 5, 1], [1, 0, 0]]\n",
      "11.6[[6, 8, 3], [5, 7, 2], [3, 5, 1], [4, 5, 1], [2, 5, 1]]\n",
      "9.6[[5, 3, 4], [4, 2, 2], [2, 1, 1], [3, 0, 0], [1, 0, 0]]\n",
      "9.6[[5, 3, 4], [4, 2, 3], [2, 1, 1], [3, 0, 0], [1, 0, 0]]\n",
      "9.6[[5, 3, 4], [4, 2, 3], [2, 1, 2], [3, 0, 0], [1, 0, 0]]\n",
      "18.0[[6, 8, 2], [5, 7, 1], [4, 10, 4], [3, 0, 0], [1, 0, 0]]\n",
      "8.6[[5, 3, 3], [4, 2, 2], [2, 1, 1], [3, 0, 0], [1, 0, 0]]\n",
      "17.6[[6, 8, 4], [5, 7, 3], [3, 5, 1], [4, 5, 1], [1, 0, 0]]\n",
      "12.6[[6, 8, 4], [5, 7, 3], [3, 5, 1], [4, 5, 1], [2, 5, 1]]\n",
      "17.6[[6, 8, 4], [5, 7, 2], [3, 5, 1], [4, 5, 1], [1, 0, 0]]\n",
      "12.6[[6, 8, 4], [5, 7, 2], [3, 5, 1], [4, 5, 1], [2, 5, 1]]\n",
      "\n",
      "16.6[[6, 8, 3], [5, 7, 2], [3, 5, 1], [4, 5, 1], [1, 0, 0]]\n",
      "11.6[[6, 8, 3], [5, 7, 2], [3, 5, 1], [4, 5, 1], [2, 5, 1]]\n",
      "9.6[[5, 3, 4], [4, 2, 2], [2, 1, 1], [3, 0, 0], [1, 0, 0]]\n",
      "9.6[[5, 3, 4], [4, 2, 3], [2, 1, 1], [3, 0, 0], [1, 0, 0]]\n",
      "9.6[[5, 3, 4], [4, 2, 3], [2, 1, 2], [3, 0, 0], [1, 0, 0]]\n",
      "18.0[[6, 8, 2], [5, 7, 1], [4, 10, 4], [3, 0, 0], [1, 0, 0]]\n",
      "8.6[[5, 3, 3], [4, 2, 2], [2, 1, 1], [3, 0, 0], [1, 0, 0]]\n",
      "17.6[[6, 8, 4], [5, 7, 3], [3, 5, 1], [4, 5, 1], [1, 0, 0]]\n",
      "12.6[[6, 8, 4], [5, 7, 3], [3, 5, 1], [4, 5, 1], [2, 5, 1]]\n",
      "17.6[[6, 8, 4], [5, 7, 2], [3, 5, 1], [4, 5, 1], [1, 0, 0]]\n",
      "12.6[[6, 8, 4], [5, 7, 2], [3, 5, 1], [4, 5, 1], [2, 5, 1]]\n",
      "\n"
     ]
    }
   ],
   "source": [
    "# debug, Chord cost\n",
    "debugNote = [48, 52, 60, 55, 64]\n",
    "for costChordFinger4 in range(2,100, 20):\n",
    "    subPossible = funcChordSolution(list(map(abs, debugNote)), dicNoteOnFingerBoard)\n",
    "    for possible in subPossible:\n",
    "        cost = funcCalChordCost(possible)\n",
    "        print(str(cost) + str(possible))\n",
    "    print()"
   ]
  },
  {
   "cell_type": "code",
   "execution_count": 77,
   "metadata": {},
   "outputs": [
    {
     "data": {
      "text/plain": [
       "[[[[6, 8, 3], [5, 7, 2], [3, 5, 1], [4, 5, 1], [1, 0, 0]],\n",
       "  [[6, 8, 3], [5, 7, 2], [3, 5, 1], [4, 5, 1], [2, 5, 1]],\n",
       "  [[5, 3, 4], [4, 2, 2], [2, 1, 1], [3, 0, 0], [1, 0, 0]],\n",
       "  [[5, 3, 4], [4, 2, 3], [2, 1, 1], [3, 0, 0], [1, 0, 0]],\n",
       "  [[5, 3, 4], [4, 2, 3], [2, 1, 2], [3, 0, 0], [1, 0, 0]],\n",
       "  [[6, 8, 2], [5, 7, 1], [4, 10, 4], [3, 0, 0], [1, 0, 0]],\n",
       "  [[5, 3, 3], [4, 2, 2], [2, 1, 1], [3, 0, 0], [1, 0, 0]],\n",
       "  [[6, 8, 4], [5, 7, 3], [3, 5, 1], [4, 5, 1], [1, 0, 0]],\n",
       "  [[6, 8, 4], [5, 7, 3], [3, 5, 1], [4, 5, 1], [2, 5, 1]],\n",
       "  [[6, 8, 4], [5, 7, 2], [3, 5, 1], [4, 5, 1], [1, 0, 0]],\n",
       "  [[6, 8, 4], [5, 7, 2], [3, 5, 1], [4, 5, 1], [2, 5, 1]]],\n",
       " [[[6, 10, 1], [5, 12, 3], [4, 12, 4], [3, 11, 2]],\n",
       "  [[4, 0, 0], [3, 2, 1], [2, 3, 2], [1, 2, 1]],\n",
       "  [[4, 0, 0], [3, 2, 1], [2, 3, 3], [1, 2, 1]],\n",
       "  [[4, 0, 0], [3, 2, 1], [2, 3, 3], [1, 2, 2]],\n",
       "  [[4, 0, 0], [3, 2, 1], [2, 3, 4], [1, 2, 1]],\n",
       "  [[4, 0, 0], [3, 2, 1], [2, 3, 4], [1, 2, 2]],\n",
       "  [[4, 0, 0], [3, 2, 1], [2, 3, 4], [1, 2, 3]],\n",
       "  [[4, 0, 0], [3, 2, 2], [2, 3, 4], [1, 2, 3]],\n",
       "  [[6, 10, 4], [4, 7, 1], [3, 7, 1], [2, 7, 1]],\n",
       "  [[5, 5, 1], [4, 7, 2], [3, 7, 3], [2, 7, 4]],\n",
       "  [[5, 5, 4], [3, 2, 1], [2, 3, 2], [1, 2, 1]],\n",
       "  [[6, 10, 3], [4, 7, 1], [3, 7, 1], [2, 7, 1]]]]"
      ]
     },
     "execution_count": 77,
     "metadata": {},
     "output_type": "execute_result"
    }
   ],
   "source": [
    "# run through events\n",
    "# 有BUG存在!!!\n",
    "# 目前len = 1的情況下 沒有去判斷延音\n",
    "\n",
    "possible =[]\n",
    "for choNote in eventsNotes:\n",
    "    if len(choNote) == 1 :\n",
    "        # BUG IS HERE ---------------------------------vvvvvvvvvvvvvv\n",
    "        if choNote[0] < 0:\n",
    "            print(\"BUG, no constraints for tied note when there is only one note\")\n",
    "        possible.append([ [x] for x in funcNote2Domain(abs(choNote[0]), dicNoteOnFingerBoard)])\n",
    "#         possible.append([funcNote2Domain(choNote[0], dicNoteOnFingerBoard)])\n",
    "    else:\n",
    "        subPossible = funcChordSolution(list(map(abs, choNote)), dicNoteOnFingerBoard)\n",
    "        possible.append(subPossible)\n",
    "possible\n",
    "\n",
    "# 如果是從前一個就start, 還沒結束的NOte, 改為 -Note (如-55)\n",
    "# 當作一個標記flag\n",
    "# 算chord solution時要拿abs\n",
    "# 可是算path的時候\n",
    "# 有看到負號就只能抓前一組相同的note posibtion\n"
   ]
  },
  {
   "cell_type": "code",
   "execution_count": 84,
   "metadata": {},
   "outputs": [
    {
     "data": {
      "text/plain": [
       "[[[[5, 3, 4], [4, 2, 2], [2, 1, 1], [3, 0, 0], [1, 0, 0]],\n",
       "  [[5, 3, 4], [4, 2, 3], [2, 1, 1], [3, 0, 0], [1, 0, 0]],\n",
       "  [[5, 3, 4], [4, 2, 3], [2, 1, 2], [3, 0, 0], [1, 0, 0]],\n",
       "  [[5, 3, 3], [4, 2, 2], [2, 1, 1], [3, 0, 0], [1, 0, 0]]],\n",
       " [[[4, 0, 0], [3, 2, 1], [2, 3, 2], [1, 2, 1]],\n",
       "  [[4, 0, 0], [3, 2, 1], [2, 3, 3], [1, 2, 1]],\n",
       "  [[4, 0, 0], [3, 2, 1], [2, 3, 3], [1, 2, 2]],\n",
       "  [[4, 0, 0], [3, 2, 1], [2, 3, 4], [1, 2, 1]],\n",
       "  [[4, 0, 0], [3, 2, 1], [2, 3, 4], [1, 2, 2]],\n",
       "  [[4, 0, 0], [3, 2, 1], [2, 3, 4], [1, 2, 3]],\n",
       "  [[4, 0, 0], [3, 2, 2], [2, 3, 4], [1, 2, 3]]]]"
      ]
     },
     "execution_count": 84,
     "metadata": {},
     "output_type": "execute_result"
    }
   ],
   "source": [
    "# del possible[1][7:]\n",
    "possible"
   ]
  },
  {
   "cell_type": "code",
   "execution_count": 96,
   "metadata": {},
   "outputs": [
    {
     "name": "stdout",
     "output_type": "stream",
     "text": [
      "[[58. 58. 52. 61. 55. 55. 55.]\n",
      " [58. 58. 52. 61. 55. 55. 55.]\n",
      " [58. 58. 52. 61. 55. 55. 55.]\n",
      " [55. 55. 49. 58. 52. 52. 52.]]\n",
      "\n",
      "[[65. 53. 50. 63. 60. 53. 50.]\n",
      " [62. 64. 53. 63. 52. 59. 48.]\n",
      " [54. 56. 60. 52. 56. 52. 55.]\n",
      " [63. 59. 55. 55. 51. 54. 51.]]\n",
      "\n",
      "[[123. 111. 102. 124. 115. 107. 105.]\n",
      " [119. 122. 105. 124. 107. 114. 103.]\n",
      " [111. 114. 111. 113. 110. 106. 110.]\n",
      " [118. 114. 104. 112. 103. 106. 103.]]\n"
     ]
    }
   ],
   "source": [
    "# @@@@@@@@@ MIX 的版本 @@@@@@@@@\n",
    "# 從MELODY 摳過來的\n",
    "# 這邊不能合成function\n",
    "# 因為要跟MEL 和 CHO 一起混著做\n",
    "# 這邊只是確定funcCalMixCostMatrix 正確\n",
    "costBest = []\n",
    "\n",
    "iniSize = len(possible[0])\n",
    "npPreMinValue = np.zeros(iniSize)\n",
    "preMinIndex = [[0] for i in range(iniSize)]\n",
    "# for i in range(2,3):\n",
    "# for i in range(1):\n",
    "for i in range(len(possible)-1):\n",
    "    event0Possible = possible[i]\n",
    "    event1Possible = possible[i+1]\n",
    "    mixNotes0 = eventsNotes[i]\n",
    "    mixNotes1 = eventsNotes[i+1]\n",
    "    # calculate MIX cost\n",
    "    costMatrixUnitTran, costMatrixUnitChord = funcCalTranCostMatrix(event0Possible, event1Possible, mixNotes0, mixNotes1)    \n",
    "    npCostMatrixUnitTran = np.array(costMatrixUnitTran)\n",
    "    npCostMatrixUnitChord = np.array(costMatrixUnitChord)\n",
    "    npCostMatrixUnit = npCostMatrixUnitChord + npCostMatrixUnitTran\n",
    "    \n",
    "    # print each costMatrixUnit independently, for debug\n",
    "    print(np.around(npCostMatrixUnitChord, decimals = 0))\n",
    "    print(\"\")\n",
    "    print(np.around(npCostMatrixUnitTran, decimals = 0))\n",
    "    print(\"\")\n",
    "    print(np.around(npCostMatrixUnit, decimals = 0))\n",
    "    # do matrix summary: minValue + minIndex\n",
    "    npMinValue = np.min(npCostMatrixUnit, axis = 0)    \n",
    "    npMinIndex = np.argmin(npCostMatrixUnit, axis = 0)\n",
    "    minIndex = list(npMinIndex)\n",
    "    \n",
    "    # initialize for combining with previous event\n",
    "    npCombMinValue = np.zeros(len(npMinValue))\n",
    "    combMinIndex = [0 for icmi in range(len(npMinValue))]\n",
    "\n",
    "    # minValue \n",
    "    for imin in range(len(npMinValue)):\n",
    "        npCombMinValue[imin] = npMinValue[imin] + npPreMinValue[npMinIndex[imin]]\n",
    "        combMinIndex[imin] = copy.deepcopy(preMinIndex[npMinIndex[imin]])\n",
    "        combMinIndex[imin].append(copy.deepcopy(minIndex[imin]))\n",
    "    npPreMinValue = npCombMinValue\n",
    "    preMinIndex = combMinIndex\n",
    "\n",
    "#     minSummary = np.vstack\n",
    "    costBest.append(copy.deepcopy([npCombMinValue,combMinIndex]))\n",
    "# costBest[-1]"
   ]
  },
  {
   "cell_type": "code",
   "execution_count": 100,
   "metadata": {},
   "outputs": [],
   "source": [
    "event1Possible\n",
    "costChordWeight = 3\n",
    "costChordFinger4 =2 "
   ]
  },
  {
   "cell_type": "code",
   "execution_count": 101,
   "metadata": {},
   "outputs": [
    {
     "name": "stdout",
     "output_type": "stream",
     "text": [
      "2\n"
     ]
    }
   ],
   "source": [
    "simple()"
   ]
  },
  {
   "cell_type": "code",
   "execution_count": 98,
   "metadata": {},
   "outputs": [],
   "source": [
    "def simple():\n",
    "    print(costChordFinger4)"
   ]
  },
  {
   "cell_type": "code",
   "execution_count": 75,
   "metadata": {},
   "outputs": [
    {
     "name": "stdout",
     "output_type": "stream",
     "text": [
      "[[3, 2, 1]]\n",
      "[[3, 2, 1], [6, 0, 0]]\n",
      "[57]\n",
      "[57, 40]\n"
     ]
    },
    {
     "data": {
      "text/plain": [
       "(4.6000000000000005, 2.9000000000000004)"
      ]
     },
     "execution_count": 75,
     "metadata": {},
     "output_type": "execute_result"
    }
   ],
   "source": [
    "# debug use, 計算特定chord之間的cost\n",
    "i = 2\n",
    "event0Possible = possible[i]\n",
    "event1Possible = possible[i+1]\n",
    "mixNotes0 = eventsNotes[i]\n",
    "mixNotes1 = eventsNotes[i+1]\n",
    "mixPos0 = event0Possible[0]\n",
    "mixPos1 = event1Possible[1]\n",
    "\n",
    "print(mixPos0)\n",
    "print(mixPos1)\n",
    "print(mixNotes0)\n",
    "print(mixNotes1)\n",
    "funcCalMixCostUnit(mixPos0, mixPos1,mixNotes0, mixNotes1)"
   ]
  },
  {
   "cell_type": "code",
   "execution_count": 50,
   "metadata": {},
   "outputs": [],
   "source": [
    "# 這應該算是funcCalMixCostUnit\n",
    "# 因為這只算了一個unit\n",
    "# 真的funCalMixCost 需要產出costMatrixUnit, 這個unit是event event之間的unit\n",
    "\n",
    "# 這個Function 也可以用在melody to Mix, 不會被限制\n",
    "# 他也許可以改為funcTranCostUnit, 專門比較transition的cost\n",
    "def funcCalTranCostUnit(mixPos0, mixPos1,mixNotes0, mixNotes1):\n",
    "\n",
    "    costTran = 0\n",
    "    for ipos0 in range(len(mixPos0)):\n",
    "#         print(\"ipos0=\" + str(ipos0))\n",
    "        for ipos1 in range(len(mixPos1)):\n",
    "#             print(\"ipos1=\" + str(ipos1))\n",
    "            if mixNotes1[ipos1] < 0:\n",
    "                try:\n",
    "                    relativeNote0Index = mixNotes0.index(abs(mixNotes1[ipos1]))\n",
    "                except:\n",
    "                    relativeNote0Index = mixNotes0.index(   (mixNotes1[ipos1]))\n",
    "#                 print(\"relativeNote0Index = \" + str(relativeNote0Index))\n",
    "                if mixPos1[ipos1] != mixPos0[ relativeNote0Index]:\n",
    "#                     print(\"negative and !=\")\n",
    "                    costMixTotal = float(\"inf\")\n",
    "                    break\n",
    "                # 可以走到這代表前次和這次的position相同\n",
    "                # costAlong = 0, 所以不用做任何相加\n",
    "            else:\n",
    "#                 print(\"pass\")\n",
    "                costAlong    = funcCalCostAlong(mixPos0[ipos0], mixPos1[ipos1])\n",
    "                costAcross   = funcCalCostAcross(mixPos0[ipos0], mixPos1[ipos1])\n",
    "\n",
    "#                 print(mixPos0[ipos0])\n",
    "                costTran = costTran + costAlong + costAcross\n",
    "    ##### debug use #####\n",
    "#     if mixPos0 == [[6, 3, 1], [2, 0, 0], [3, 0, 0]] and mixPos1 ==[[6, 3, 1], [4, 0, 0]] :\n",
    "        \n",
    "#                 print(\"costAlong = \" + str(costAlong))\n",
    "#                 print(\"costAcross = \" + str(costAcross))\n",
    "#                 print(\"costMixTotal = \" + str(costMixTotal))\n",
    "    costChord0   = funcCalChordCost(mixPos0)\n",
    "    costChord1   = funcCalChordCost(mixPos1)\n",
    "    costChord = (costChord0 + costChord1)* costChordWeight\n",
    "#     costMixTotal = costMixTotal+ costChord\n",
    "#     print(costChord)\n",
    "    return costTran, costChord\n",
    "        \n",
    "# costMixTotal"
   ]
  },
  {
   "cell_type": "code",
   "execution_count": 58,
   "metadata": {},
   "outputs": [],
   "source": [
    "# Calculate MIX transition cost\n",
    "\n",
    "def funcCalTranCostMatrix(event0Possible, event1Possible, mixNotes0, mixNotes1):\n",
    "    costMatrixUnitTran = []\n",
    "    costMatrixUnitChord = []\n",
    "    for mixPos0 in event0Possible:\n",
    "        pos0beg =[]\n",
    "        pos0begChord = []\n",
    "        for mixPos1 in event1Possible:\n",
    "\n",
    "            # cost is putting here\n",
    "            costTran, costChord = funcCalTranCostUnit(mixPos0, mixPos1,mixNotes0, mixNotes1)\n",
    "            \n",
    "#             ######### debug #########\n",
    "#             if mixPos0 == [[6, 3, 1], [2, 0, 0], [3, 0, 0]] and mixPos1 ==[[6, 3, 1], [4, 0, 0]] :\n",
    "#                 costMixTotal, costChord = funcCalMixCostUnit(mixPos0, mixPos1,mixNotes0, mixNotes1)\n",
    "\n",
    "            pos0beg.append(costTran)\n",
    "            pos0begChord.append(costChord)\n",
    "        costMatrixUnitTran.append(pos0beg)\n",
    "        costMatrixUnitChord.append(pos0begChord)\n",
    "    return costMatrixUnitTran, costMatrixUnitChord"
   ]
  },
  {
   "cell_type": "code",
   "execution_count": 73,
   "metadata": {},
   "outputs": [
    {
     "name": "stdout",
     "output_type": "stream",
     "text": [
      "[6]\n",
      "cost=146.54 [[[5, 3, 3], [4, 2, 2], [2, 1, 1], [3, 0, 0], [1, 0, 0]], [[6, 10, 1], [5, 12, 3], [4, 12, 4], [3, 11, 2]]]\n",
      "[4]\n",
      "cost=63.40 [[[5, 3, 4], [4, 2, 3], [2, 1, 2], [3, 0, 0], [1, 0, 0]], [[4, 0, 0], [3, 2, 1], [2, 3, 2], [1, 2, 1]]]\n",
      "[2]\n",
      "cost=62.65 [[[5, 3, 4], [4, 2, 2], [2, 1, 1], [3, 0, 0], [1, 0, 0]], [[4, 0, 0], [3, 2, 1], [2, 3, 3], [1, 2, 1]]]\n",
      "[2]\n",
      "cost=58.65 [[[5, 3, 4], [4, 2, 2], [2, 1, 1], [3, 0, 0], [1, 0, 0]], [[4, 0, 0], [3, 2, 1], [2, 3, 3], [1, 2, 2]]]\n",
      "[4]\n",
      "cost=62.15 [[[5, 3, 4], [4, 2, 3], [2, 1, 2], [3, 0, 0], [1, 0, 0]], [[4, 0, 0], [3, 2, 1], [2, 3, 4], [1, 2, 1]]]\n",
      "[6]\n",
      "cost=59.52 [[[5, 3, 3], [4, 2, 2], [2, 1, 1], [3, 0, 0], [1, 0, 0]], [[4, 0, 0], [3, 2, 1], [2, 3, 4], [1, 2, 2]]]\n",
      "[4]\n",
      "cost=60.90 [[[5, 3, 4], [4, 2, 3], [2, 1, 2], [3, 0, 0], [1, 0, 0]], [[4, 0, 0], [3, 2, 1], [2, 3, 4], [1, 2, 3]]]\n",
      "[3]\n",
      "cost=57.52 [[[5, 3, 4], [4, 2, 3], [2, 1, 1], [3, 0, 0], [1, 0, 0]], [[4, 0, 0], [3, 2, 2], [2, 3, 4], [1, 2, 3]]]\n",
      "[5]\n",
      "cost=117.50 [[[6, 8, 2], [5, 7, 1], [4, 10, 4], [3, 0, 0], [1, 0, 0]], [[6, 10, 4], [4, 7, 1], [3, 7, 1], [2, 7, 1]]]\n",
      "[6]\n",
      "cost=107.90 [[[5, 3, 3], [4, 2, 2], [2, 1, 1], [3, 0, 0], [1, 0, 0]], [[5, 5, 1], [4, 7, 2], [3, 7, 3], [2, 7, 4]]]\n",
      "[6]\n",
      "cost=84.60 [[[5, 3, 3], [4, 2, 2], [2, 1, 1], [3, 0, 0], [1, 0, 0]], [[5, 5, 4], [3, 2, 1], [2, 3, 2], [1, 2, 1]]]\n",
      "[5]\n",
      "cost=113.00 [[[6, 8, 2], [5, 7, 1], [4, 10, 4], [3, 0, 0], [1, 0, 0]], [[6, 10, 3], [4, 7, 1], [3, 7, 1], [2, 7, 1]]]\n"
     ]
    }
   ],
   "source": [
    "onlyBest = True\n",
    "Solution = []\n",
    "\n",
    "# if onlyBest:\n",
    "# chooses = np.argmin(costBest[-1][0], axis = 0)\n",
    "# else:\n",
    "#     chooses = range(len(costBest[-1][1]))\n",
    "for choose in range(len(costBest[-1][1])):\n",
    "# for choose in list(chooses):\n",
    "\n",
    "    bestPathNumber = costBest[-1][1][choose][1:]\n",
    "    print(bestPathNumber)\n",
    "    bestPath = []\n",
    "    for i in range(len(bestPathNumber)):\n",
    "        bestPath.append(possible[i][bestPathNumber[i]])\n",
    "    bestPath.append(possible[-1][choose])\n",
    "    #     print(\"cost=\" + str(costBest[-1][0][choose]) +\" \" + str(bestPath))\n",
    "    print(\"cost=\" + '%.2f' % costBest[-1][0][choose] +\" \" + str(bestPath))\n",
    "    Solution.append([\"cost =\", costBest[-1][0][choose], bestPath ])\n"
   ]
  },
  {
   "cell_type": "code",
   "execution_count": 60,
   "metadata": {},
   "outputs": [
    {
     "data": {
      "text/plain": [
       "[['cost =',\n",
       "  184.5361111111111,\n",
       "  [[[5, 0, 0]],\n",
       "   [[4, 3, 3]],\n",
       "   [[3, 2, 2]],\n",
       "   [[3, 2, 2], [6, 0, 0]],\n",
       "   [[6, 0, 0], [2, 3, 3]],\n",
       "   [[6, 0, 0], [2, 1, 1]],\n",
       "   [[6, 0, 0], [3, 0, 0]],\n",
       "   [[5, 3, 3], [4, 2, 2], [2, 1, 1], [3, 0, 0], [1, 0, 0]],\n",
       "   [[6, 10, 1], [5, 12, 3], [4, 12, 4], [3, 11, 2]]]],\n",
       " ['cost =',\n",
       "  101.9,\n",
       "  [[[5, 0, 0]],\n",
       "   [[4, 3, 3]],\n",
       "   [[3, 2, 2]],\n",
       "   [[3, 2, 2], [6, 0, 0]],\n",
       "   [[6, 0, 0], [2, 3, 3]],\n",
       "   [[6, 0, 0], [2, 1, 1]],\n",
       "   [[6, 0, 0], [3, 0, 0]],\n",
       "   [[5, 3, 4], [4, 2, 3], [2, 1, 2], [3, 0, 0], [1, 0, 0]],\n",
       "   [[4, 0, 0], [3, 2, 1], [2, 3, 2], [1, 2, 1]]]],\n",
       " ['cost =',\n",
       "  101.15,\n",
       "  [[[5, 0, 0]],\n",
       "   [[4, 3, 3]],\n",
       "   [[3, 2, 2]],\n",
       "   [[3, 2, 2], [6, 0, 0]],\n",
       "   [[6, 0, 0], [2, 3, 3]],\n",
       "   [[6, 0, 0], [2, 1, 1]],\n",
       "   [[6, 0, 0], [3, 0, 0]],\n",
       "   [[5, 3, 4], [4, 2, 2], [2, 1, 1], [3, 0, 0], [1, 0, 0]],\n",
       "   [[4, 0, 0], [3, 2, 1], [2, 3, 3], [1, 2, 1]]]],\n",
       " ['cost =',\n",
       "  97.15,\n",
       "  [[[5, 0, 0]],\n",
       "   [[4, 3, 3]],\n",
       "   [[3, 2, 2]],\n",
       "   [[3, 2, 2], [6, 0, 0]],\n",
       "   [[6, 0, 0], [2, 3, 3]],\n",
       "   [[6, 0, 0], [2, 1, 1]],\n",
       "   [[6, 0, 0], [3, 0, 0]],\n",
       "   [[5, 3, 4], [4, 2, 2], [2, 1, 1], [3, 0, 0], [1, 0, 0]],\n",
       "   [[4, 0, 0], [3, 2, 1], [2, 3, 3], [1, 2, 2]]]],\n",
       " ['cost =',\n",
       "  100.65,\n",
       "  [[[5, 0, 0]],\n",
       "   [[4, 3, 3]],\n",
       "   [[3, 2, 2]],\n",
       "   [[3, 2, 2], [6, 0, 0]],\n",
       "   [[6, 0, 0], [2, 3, 3]],\n",
       "   [[6, 0, 0], [2, 1, 1]],\n",
       "   [[6, 0, 0], [3, 0, 0]],\n",
       "   [[5, 3, 4], [4, 2, 3], [2, 1, 2], [3, 0, 0], [1, 0, 0]],\n",
       "   [[4, 0, 0], [3, 2, 1], [2, 3, 4], [1, 2, 1]]]],\n",
       " ['cost =',\n",
       "  97.525,\n",
       "  [[[5, 0, 0]],\n",
       "   [[4, 3, 3]],\n",
       "   [[3, 2, 2]],\n",
       "   [[3, 2, 2], [6, 0, 0]],\n",
       "   [[6, 0, 0], [2, 3, 3]],\n",
       "   [[6, 0, 0], [2, 1, 1]],\n",
       "   [[6, 0, 0], [3, 0, 0]],\n",
       "   [[5, 3, 3], [4, 2, 2], [2, 1, 1], [3, 0, 0], [1, 0, 0]],\n",
       "   [[4, 0, 0], [3, 2, 1], [2, 3, 4], [1, 2, 2]]]],\n",
       " ['cost =',\n",
       "  99.4,\n",
       "  [[[5, 0, 0]],\n",
       "   [[4, 3, 3]],\n",
       "   [[3, 2, 2]],\n",
       "   [[3, 2, 2], [6, 0, 0]],\n",
       "   [[6, 0, 0], [2, 3, 3]],\n",
       "   [[6, 0, 0], [2, 1, 1]],\n",
       "   [[6, 0, 0], [3, 0, 0]],\n",
       "   [[5, 3, 4], [4, 2, 3], [2, 1, 2], [3, 0, 0], [1, 0, 0]],\n",
       "   [[4, 0, 0], [3, 2, 1], [2, 3, 4], [1, 2, 3]]]],\n",
       " ['cost =',\n",
       "  96.025,\n",
       "  [[[5, 0, 0]],\n",
       "   [[4, 3, 3]],\n",
       "   [[3, 2, 2]],\n",
       "   [[3, 2, 2], [6, 0, 0]],\n",
       "   [[6, 0, 0], [2, 3, 3]],\n",
       "   [[6, 0, 0], [2, 1, 1]],\n",
       "   [[6, 0, 0], [3, 0, 0]],\n",
       "   [[5, 3, 4], [4, 2, 3], [2, 1, 1], [3, 0, 0], [1, 0, 0]],\n",
       "   [[4, 0, 0], [3, 2, 2], [2, 3, 4], [1, 2, 3]]]],\n",
       " ['cost =',\n",
       "  167.80000000000004,\n",
       "  [[[5, 0, 0]],\n",
       "   [[4, 3, 3]],\n",
       "   [[3, 2, 2]],\n",
       "   [[3, 2, 2], [6, 0, 0]],\n",
       "   [[6, 0, 0], [2, 3, 3]],\n",
       "   [[6, 0, 0], [2, 1, 1]],\n",
       "   [[6, 0, 0], [3, 0, 0]],\n",
       "   [[6, 8, 2], [5, 7, 1], [4, 10, 4], [3, 0, 0], [1, 0, 0]],\n",
       "   [[6, 10, 4], [4, 7, 1], [3, 7, 1], [2, 7, 1]]]],\n",
       " ['cost =',\n",
       "  145.9011904761905,\n",
       "  [[[5, 0, 0]],\n",
       "   [[4, 3, 3]],\n",
       "   [[3, 2, 2]],\n",
       "   [[3, 2, 2], [6, 0, 0]],\n",
       "   [[6, 0, 0], [2, 3, 3]],\n",
       "   [[6, 0, 0], [2, 1, 1]],\n",
       "   [[6, 0, 0], [3, 0, 0]],\n",
       "   [[5, 3, 3], [4, 2, 2], [2, 1, 1], [3, 0, 0], [1, 0, 0]],\n",
       "   [[5, 5, 1], [4, 7, 2], [3, 7, 3], [2, 7, 4]]]],\n",
       " ['cost =',\n",
       "  122.60000000000001,\n",
       "  [[[5, 0, 0]],\n",
       "   [[4, 3, 3]],\n",
       "   [[3, 2, 2]],\n",
       "   [[3, 2, 2], [6, 0, 0]],\n",
       "   [[6, 0, 0], [2, 3, 3]],\n",
       "   [[6, 0, 0], [2, 1, 1]],\n",
       "   [[6, 0, 0], [3, 0, 0]],\n",
       "   [[5, 3, 3], [4, 2, 2], [2, 1, 1], [3, 0, 0], [1, 0, 0]],\n",
       "   [[5, 5, 4], [3, 2, 1], [2, 3, 2], [1, 2, 1]]]],\n",
       " ['cost =',\n",
       "  163.30000000000004,\n",
       "  [[[5, 0, 0]],\n",
       "   [[4, 3, 3]],\n",
       "   [[3, 2, 2]],\n",
       "   [[3, 2, 2], [6, 0, 0]],\n",
       "   [[6, 0, 0], [2, 3, 3]],\n",
       "   [[6, 0, 0], [2, 1, 1]],\n",
       "   [[6, 0, 0], [3, 0, 0]],\n",
       "   [[6, 8, 2], [5, 7, 1], [4, 10, 4], [3, 0, 0], [1, 0, 0]],\n",
       "   [[6, 10, 3], [4, 7, 1], [3, 7, 1], [2, 7, 1]]]]]"
      ]
     },
     "execution_count": 60,
     "metadata": {},
     "output_type": "execute_result"
    }
   ],
   "source": [
    "# finalDecision = costBest[-1]\n",
    "# choose = np.argmin(costBest[-1][0], axis = 0)\n",
    "# finalDecision\n",
    "Solution"
   ]
  },
  {
   "cell_type": "code",
   "execution_count": null,
   "metadata": {},
   "outputs": [],
   "source": []
  }
 ],
 "metadata": {
  "kernelspec": {
   "display_name": "Python 3",
   "language": "python",
   "name": "python3"
  },
  "language_info": {
   "codemirror_mode": {
    "name": "ipython",
    "version": 3
   },
   "file_extension": ".py",
   "mimetype": "text/x-python",
   "name": "python",
   "nbconvert_exporter": "python",
   "pygments_lexer": "ipython3",
   "version": "3.6.8"
  }
 },
 "nbformat": 4,
 "nbformat_minor": 2
}
