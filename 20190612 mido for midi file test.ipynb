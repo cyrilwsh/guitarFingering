{
 "cells": [
  {
   "cell_type": "code",
   "execution_count": 1,
   "metadata": {},
   "outputs": [
    {
     "data": {
      "text/plain": [
       "<midi file 'p20190612_midi_test_mix.mid' type 1, 1 tracks, 39 messages>"
      ]
     },
     "execution_count": 1,
     "metadata": {},
     "output_type": "execute_result"
    }
   ],
   "source": [
    "from mido import MidiFile\n",
    "mid = MidiFile('p20190612_midi_test_mix.mid')\n",
    "mid"
   ]
  },
  {
   "cell_type": "code",
   "execution_count": 2,
   "metadata": {},
   "outputs": [
    {
     "data": {
      "text/plain": [
       "[<midi track 'Electric Guitar' 39 messages>]"
      ]
     },
     "execution_count": 2,
     "metadata": {},
     "output_type": "execute_result"
    }
   ],
   "source": [
    "mid.tracks"
   ]
  },
  {
   "cell_type": "code",
   "execution_count": 92,
   "metadata": {},
   "outputs": [
    {
     "name": "stdout",
     "output_type": "stream",
     "text": [
      "Track 0: Electric Guitar\n"
     ]
    },
    {
     "data": {
      "text/plain": [
       "[[45, 0, 240, 'CatNotYetGiven', 'eventNotGiven'],\n",
       " [53, 240, 480, 'CatNotYetGiven', 'eventNotGiven'],\n",
       " [57, 480, 1440, 'CatNotYetGiven', 'eventNotGiven'],\n",
       " [57, 1920, 2400, 'CatNotYetGiven', 'eventNotGiven'],\n",
       " [40, 1920, 3840, 'CatNotYetGiven', 'eventNotGiven'],\n",
       " [62, 2400, 2880, 'CatNotYetGiven', 'eventNotGiven'],\n",
       " [60, 2880, 3360, 'CatNotYetGiven', 'eventNotGiven'],\n",
       " [55, 3360, 3840, 'CatNotYetGiven', 'eventNotGiven'],\n",
       " [48, 3840, 4800, 'CatNotYetGiven', 'eventNotGiven'],\n",
       " [52, 3840, 4800, 'CatNotYetGiven', 'eventNotGiven'],\n",
       " [60, 3840, 4800, 'CatNotYetGiven', 'eventNotGiven'],\n",
       " [55, 3840, 4800, 'CatNotYetGiven', 'eventNotGiven'],\n",
       " [64, 3840, 4800, 'CatNotYetGiven', 'eventNotGiven'],\n",
       " [50, 4800, 5760, 'CatNotYetGiven', 'eventNotGiven'],\n",
       " [57, 4800, 5760, 'CatNotYetGiven', 'eventNotGiven'],\n",
       " [62, 4800, 5760, 'CatNotYetGiven', 'eventNotGiven'],\n",
       " [66, 4800, 5760, 'CatNotYetGiven', 'eventNotGiven'],\n",
       " [0, 6759, 6760, 'dummy line', 'dummy line']]"
      ]
     },
     "execution_count": 92,
     "metadata": {},
     "output_type": "execute_result"
    }
   ],
   "source": [
    "for i, track in enumerate(mid.tracks):\n",
    "    print('Track {}: {}'.format(i, track.name))\n",
    "    a = 0\n",
    "    midiArray= []\n",
    "    dicCurrentNote = {}\n",
    "    currentTime = 0\n",
    "    for msg in track:\n",
    "#         print(a)\n",
    "#         a+=1\n",
    "#         print(msg)\n",
    "        if msg.type[:4] == \"note\":\n",
    "            currentTime = currentTime + msg.time\n",
    "            if msg.type == \"note_on\":\n",
    "                midiArray.append([msg.note, currentTime, 'OffsetNotYetGiven', 'CatNotYetGiven', 'eventNotGiven'])\n",
    "                dicCurrentNote[msg.note] = len(midiArray)-1 # save this number of row\n",
    "            elif msg.type == \"note_off\":\n",
    "                midiArray[dicCurrentNote[msg.note]][2] = currentTime # change thie offsetTime by its onset row\n",
    "#             print(msg)\n",
    "# print(dicCurrentNote)\n",
    "# print(midiArray)\n",
    "midiArray.append([0, currentTime+999, currentTime+1000, 'dummy line', 'dummy line'])\n",
    "midiArray"
   ]
  },
  {
   "cell_type": "code",
   "execution_count": 39,
   "metadata": {},
   "outputs": [],
   "source": [
    "\"\"\" A function to add count to a dictionary\n",
    "\"\"\"\n",
    "def dicAddCount(event, dic):\n",
    "    if event in dic:\n",
    "        dic[event] = dic[event] + 1\n",
    "    else:\n",
    "        dic[event] = 1"
   ]
  },
  {
   "cell_type": "code",
   "execution_count": 95,
   "metadata": {},
   "outputs": [
    {
     "data": {
      "text/plain": [
       "[[45, 0, 240, 'MEL', 0],\n",
       " [53, 240, 480, 'MEL', 1],\n",
       " [57, 480, 1440, 'MEL', 2],\n",
       " [57, 1920, 2400, 'MIX', 3],\n",
       " [40, 1920, 3840, 'MIX', 3],\n",
       " [62, 2400, 2880, 'MIX', 3],\n",
       " [60, 2880, 3360, 'MIX', 3],\n",
       " [55, 3360, 3840, 'MIX', 3],\n",
       " [48, 3840, 4800, 'CHO', 4],\n",
       " [52, 3840, 4800, 'CHO', 4],\n",
       " [60, 3840, 4800, 'CHO', 4],\n",
       " [55, 3840, 4800, 'CHO', 4],\n",
       " [64, 3840, 4800, 'CHO', 4],\n",
       " [50, 4800, 5760, 'CHO', 5],\n",
       " [57, 4800, 5760, 'CHO', 5],\n",
       " [62, 4800, 5760, 'CHO', 5],\n",
       " [66, 5800, 5900, 'MEL', 6],\n",
       " [0, 6759, 6760, 'dummy line', 7]]"
      ]
     },
     "execution_count": 95,
     "metadata": {},
     "output_type": "execute_result"
    }
   ],
   "source": [
    "rowCount = 0\n",
    "lenArray = len(midiArray)\n",
    "eventNumber = 0\n",
    "dicEvent = {}\n",
    "while rowCount in range(lenArray):\n",
    "    \n",
    "    # process the 1st event\n",
    "    midiArray[rowCount][4] = eventNumber\n",
    "    dicAddCount(eventNumber, dicEvent) # count the event number\n",
    "    start = midiArray[rowCount][1] # assign event start time\n",
    "    end   = midiArray[rowCount][2] # assign event end time\n",
    "    \n",
    "    # initialize for sweeping following notes\n",
    "    rowCount = rowCount + 1\n",
    "    chordFlag = 1 # initialize chordFlag\n",
    "    contEventCount = 1\n",
    "    \n",
    "    # sweeping following notes\n",
    "    while rowCount in range( lenArray ):\n",
    "        \n",
    "        # check the following notes are overlap or not\n",
    "        if midiArray[rowCount][1] < end: \n",
    "            midiArray[rowCount][4] = eventNumber # categorized as same event\n",
    "            dicAddCount(eventNumber, dicEvent) # FUNC: count the event number\n",
    "            contEventCount = contEventCount + 1 # cumulative count the continuous event\n",
    "            \n",
    "            # if one of the following notes have different start or end time,\n",
    "            # this event is no longer a CHORD anymore.\n",
    "            # --> disable chord flag\n",
    "            if (midiArray[rowCount][1] - start != 0) or (midiArray[rowCount][2] - end != 0):\n",
    "                chordFlag = 0\n",
    "                \n",
    "            # update event end time, see the overall-overlapped range\n",
    "            end = max(end, midiArray[rowCount][2])\n",
    "            rowCount = rowCount + 1 # step foward\n",
    "            \n",
    "        # if following note isn't overlapped, call it a new event\n",
    "        else: \n",
    "            eventNumber = eventNumber + 1 # next event\n",
    "            \n",
    "            # determine category of previous event\n",
    "            if contEventCount == 1:\n",
    "                midiArray[rowCount -1 ][3] = 'MEL' # melody\n",
    "            elif chordFlag == 1:\n",
    "                for row in range(rowCount -contEventCount , rowCount):\n",
    "                    midiArray[row][3] = 'CHO' # chord\n",
    "            else:\n",
    "                for row in range(rowCount -contEventCount , rowCount):\n",
    "                    midiArray[row][3] = 'MIX' # mix = chord + melody\n",
    "            break # break while\n",
    "\n",
    "midiArray"
   ]
  },
  {
   "cell_type": "code",
   "execution_count": 94,
   "metadata": {},
   "outputs": [
    {
     "data": {
      "text/plain": [
       "18"
      ]
     },
     "execution_count": 94,
     "metadata": {},
     "output_type": "execute_result"
    }
   ],
   "source": [
    "midiArray[16][1] = 5800\n",
    "midiArray[16][2] = 5900\n",
    "lenArray"
   ]
  },
  {
   "cell_type": "code",
   "execution_count": 37,
   "metadata": {},
   "outputs": [
    {
     "data": {
      "text/plain": [
       "{0: 1, 1: 1, 2: 1, 3: 5, 4: 5, 5: 4}"
      ]
     },
     "execution_count": 37,
     "metadata": {},
     "output_type": "execute_result"
    }
   ],
   "source": [
    "eventDic = {}\n",
    "for i in range(lenArray):\n",
    "    if midiArray[i][4] in eventDic:\n",
    "        eventDic[midiArray[i][4]] = eventDic[midiArray[i][4]] + 1\n",
    "    else:\n",
    "        eventDic[midiArray[i][4]] = 1\n",
    "eventDic"
   ]
  },
  {
   "cell_type": "code",
   "execution_count": 5,
   "metadata": {},
   "outputs": [
    {
     "name": "stdout",
     "output_type": "stream",
     "text": [
      "note_on\n",
      "53\n",
      "0\n"
     ]
    }
   ],
   "source": [
    "print(track[6].type)\n",
    "print(track[6].note)\n",
    "print(track[6].time)"
   ]
  },
  {
   "cell_type": "code",
   "execution_count": 6,
   "metadata": {},
   "outputs": [
    {
     "name": "stdout",
     "output_type": "stream",
     "text": [
      "[[1. 2. 3. 4.]\n",
      " [5. 6. 7. 8.]]\n",
      "[[1.  2.  3.  4. ]\n",
      " [5.  7.6 7.  8. ]]\n"
     ]
    }
   ],
   "source": [
    "import numpy as np\n",
    "a = np.empty((0,4))\n",
    "a = np.append(a,[[1,2,3,4]])\n",
    "\n",
    "a = np.append([a], [[5,6,7,8]],axis=0)\n",
    "print(a)\n",
    "a[1,1] = 7.6\n",
    "# a.shape\n",
    "print(a)"
   ]
  },
  {
   "cell_type": "code",
   "execution_count": 62,
   "metadata": {},
   "outputs": [
    {
     "data": {
      "text/plain": [
       "[[1, 1, 3, 4], [5, 1, 7, 8, 2]]"
      ]
     },
     "execution_count": 62,
     "metadata": {},
     "output_type": "execute_result"
    }
   ],
   "source": [
    "b = []\n",
    "b.append([1,2,3,4])\n",
    "b.append([5,6,7,8])\n",
    "# b[0][0] + b[0][1]\n",
    "b[1].append(2)\n",
    "b\n",
    "for row in b:\n",
    "    row[1] = 1\n",
    "b"
   ]
  },
  {
   "cell_type": "code",
   "execution_count": 36,
   "metadata": {},
   "outputs": [
    {
     "data": {
      "text/plain": [
       "{45: 0,\n",
       " 53: 1,\n",
       " 57: 14,\n",
       " 40: 4,\n",
       " 62: 15,\n",
       " 60: 10,\n",
       " 55: 11,\n",
       " 48: 8,\n",
       " 52: 9,\n",
       " 64: 12,\n",
       " 50: 13,\n",
       " 66: 16}"
      ]
     },
     "execution_count": 36,
     "metadata": {},
     "output_type": "execute_result"
    }
   ],
   "source": [
    "dicCurrentNote"
   ]
  }
 ],
 "metadata": {
  "kernelspec": {
   "display_name": "Python 3",
   "language": "python",
   "name": "python3"
  },
  "language_info": {
   "codemirror_mode": {
    "name": "ipython",
    "version": 3
   },
   "file_extension": ".py",
   "mimetype": "text/x-python",
   "name": "python",
   "nbconvert_exporter": "python",
   "pygments_lexer": "ipython3",
   "version": "3.6.8"
  }
 },
 "nbformat": 4,
 "nbformat_minor": 2
}
