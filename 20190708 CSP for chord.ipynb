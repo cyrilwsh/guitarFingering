{
 "cells": [
  {
   "cell_type": "markdown",
   "metadata": {},
   "source": [
    "CSP - constraint satiscation problem\n",
    "for Chord fingering"
   ]
  },
  {
   "cell_type": "code",
   "execution_count": 2,
   "metadata": {},
   "outputs": [
    {
     "name": "stdout",
     "output_type": "stream",
     "text": [
      "capo = 0\n",
      "tuning = [64, 59, 55, 50, 45, 40]\n",
      "Notes in Finger board:\n",
      "string 1 to 6\n",
      "[64, 59, 55, 50, 45, 40]\n",
      "[65, 60, 56, 51, 46, 41]\n",
      "[66, 61, 57, 52, 47, 42]\n",
      "[67, 62, 58, 53, 48, 43]\n",
      "[68, 63, 59, 54, 49, 44]\n",
      "[69, 64, 60, 55, 50, 45]\n",
      "[70, 65, 61, 56, 51, 46]\n",
      "[71, 66, 62, 57, 52, 47]\n",
      "[72, 67, 63, 58, 53, 48]\n",
      "[73, 68, 64, 59, 54, 49]\n",
      "[74, 69, 65, 60, 55, 50]\n",
      "[75, 70, 66, 61, 56, 51]\n",
      "[76, 71, 67, 62, 57, 52]\n"
     ]
    }
   ],
   "source": [
    "from funcMidi import funcCreatNoteDic\n",
    "dicNoteOnFingerBoard = funcCreatNoteDic()\n",
    "# funcCreatNoteDic(2, [64, 59, 55, 50, 45, 30])\n"
   ]
  },
  {
   "cell_type": "code",
   "execution_count": 4,
   "metadata": {},
   "outputs": [
    {
     "data": {
      "text/plain": [
       "[[[6, 1, 1], [6, 1, 2], [6, 1, 3], [6, 1, 4]],\n",
       " [[5, 3, 1],\n",
       "  [5, 3, 2],\n",
       "  [5, 3, 3],\n",
       "  [5, 3, 4],\n",
       "  [6, 8, 1],\n",
       "  [6, 8, 2],\n",
       "  [6, 8, 3],\n",
       "  [6, 8, 4]],\n",
       " [[4, 3, 1],\n",
       "  [4, 3, 2],\n",
       "  [4, 3, 3],\n",
       "  [4, 3, 4],\n",
       "  [5, 8, 1],\n",
       "  [5, 8, 2],\n",
       "  [5, 8, 3],\n",
       "  [5, 8, 4]]]"
      ]
     },
     "execution_count": 4,
     "metadata": {},
     "output_type": "execute_result"
    }
   ],
   "source": [
    "choCombination = [dicNoteOnFingerBoard[43], dicNoteOnFingerBoard[47]]\n",
    "# print(dicNoteOnFingerBoard[43]) # G2\n",
    "# print(dicNoteOnFingerBoard[47]) # B2\n",
    "\n",
    "# choNote = [41, 48, 52, 56, 60, 65]\n",
    "choNote = [41, 48, 53]\n",
    "# choNote = [41, 48, 52, 56]\n",
    "# choNote = [48, 56]\n",
    "\n",
    "domains = []\n",
    "x = 0 # variable\n",
    "for x in range(len(choNote)):\n",
    "    # x = 41\n",
    "    domains.append([])\n",
    "    fingerings = dicNoteOnFingerBoard[choNote[x]]\n",
    "    # fingerings = [[5, 2], [6, 7]]\n",
    "    for fingering in fingerings:\n",
    "        # fingering = [5,2]\n",
    "        if fingering[1] == 0: # if fret=0, no need swap all fingers\n",
    "            domains[x].append(fingering + [0])\n",
    "        else: # if fret !=0, swap all fingers 1~4\n",
    "            for finger1234 in range (1,5):\n",
    "#                 print(finger1234)\n",
    "                domains[x].append(fingering + [finger1234])\n",
    "#     csp[x] = \n",
    "    # [\n",
    "    #    [[6,3,1], [6,3,2], [6,3,3], [6,3,4]],\n",
    "    #    [[5,2,1], [5,2,2], [5,2,3], [5,2,4], [6,7,1], [6,7,2], [6,7,3], [6,7,4]],\n",
    "    # ]\n",
    "\n",
    "domains"
   ]
  },
  {
   "cell_type": "code",
   "execution_count": 5,
   "metadata": {
    "scrolled": true
   },
   "outputs": [],
   "source": [
    "# Constraints for fingering\n",
    "# domains.append([22,33,44])\n",
    "\n",
    "\n",
    "useFlag = list.copy(domains)\n",
    "# print(useFlag)\n",
    "i = 0\n",
    "for i in range(len(useFlag)):\n",
    "    useFlag[i] = [0]*(len(useFlag[i]))\n",
    "        \n",
    "\n",
    "        \n",
    "def dicAppend(key, value, dic):\n",
    "    useFlag[dn][pn] = 1\n",
    "    useFlag[sdn][spn] = 1\n",
    "    if key in dic:\n",
    "        dic[key].append(value)\n",
    "    else:\n",
    "        dic[key] = [value]\n",
    "\n",
    "        \n",
    "dicCombination = {} # \"legal\" combinations after DPC algorithm\n",
    "# listCombination = [] # \"legal\" combinations after DPC algorithm\n",
    "# countComb = 0\n",
    "\n",
    "dn = 0 # domain number\n",
    "\n",
    "# print(len(domains))\n",
    "for dn in range(len(domains) -1): # domain number\n",
    "    for pn in range(len(domains[dn])): # position number\n",
    "        # sdn: sub-domain number, starting from the next domain\n",
    "        for sdn in range(dn+1, len(domains)): \n",
    "            \n",
    "            for spn in range(len(domains[sdn])):\n",
    "#                 print(str(dn) + \" \" + str(pn) +\" \" + str(sdn) + \" \" + str(spn) + \" \" +\"case 1\")\n",
    "#                 print(\"case 1\")\n",
    "                # constraints\n",
    "\n",
    "#                 # c0: see this position is already been justified as usable, then skip\n",
    "#                 if useFlag[dn][pn]==1 and useFlag[sdn][spn]==1:\n",
    "#                     print(str(dn) + \" \" + str(pn) +\" \" + str(sdn) + \" \" + str(spn) + \" \" +\"case 2\")\n",
    "#                      break\n",
    "                string0 = domains[dn][pn][0]\n",
    "                string1 = domains[sdn][spn][0]\n",
    "                # c1: one note per string\n",
    "                if string0 != string1:\n",
    "#                     print(str(dn) + \" \" + str(pn) +\" \" + str(sdn) + \" \" + str(spn) + \" \" +\"case 3\")\n",
    "                    finger0 = domains[dn][pn][2]\n",
    "                    finger1 = domains[sdn][spn][2]\n",
    "                    fret0 = domains[dn][pn][1]\n",
    "                    fret1 = domains[sdn][spn][1]\n",
    "                    fingerDiff = finger0 - finger1 # finger difference\n",
    "                    absFingerDiff = abs(fingerDiff)\n",
    "                    fretDiff = fret0 - fret1\n",
    "                    absFretDiff = abs(fretDiff)\n",
    "#                     if domains[dn][pn] ==[5,3,3]:\n",
    "#                         print(\"dn =\" + str(dn))\n",
    "#                         print(\"pn =\" + str(pn))\n",
    "#                         print(\"sdn =\" + str(sdn))\n",
    "#                         print(\"spn =\" + str(spn))\n",
    "#                         print(domains[dn][pn])\n",
    "#                         print(domains[sdn][spn])\n",
    "#                         print(\"finger0 =\" + str(finger0 ))\n",
    "#                         print(\"finger1 =\" + str(finger1 ))\n",
    "#                         print(\"fret0 =\" + str(fret0 ))\n",
    "#                         print(\"fret1 =\" + str(fret1 ))\n",
    "#                         print(\"fingerDiff =\" + str(fingerDiff ))\n",
    "#                         print(\"fretDiff =\" + str(fretDiff ))\n",
    "                        \n",
    "\n",
    "                    # c4*: the same fret\n",
    "                    if fret0 == fret1:\n",
    "                        #  c4: barre index\n",
    "                        if finger0 == finger1 ==1:\n",
    "#                         print(str(dn) + \" \" + str(pn) +\" \" + str(sdn) + \" \" + str(spn) + \" \" +\"case4\")\n",
    "                            dicAppend((dn,sdn),(domains[dn][pn], domains[sdn][spn]),dicCombination)\n",
    "                        # c4-1: same fret: lower finger press higher \"strings\"\n",
    "                        elif (string0 - string1)*(finger0 - finger1) < 0:\n",
    "                            dicAppend((dn,sdn),(domains[dn][pn], domains[sdn][spn]),dicCombination)\n",
    "                    \n",
    "                    # c2: higher finger press higher frets\n",
    "                    #     finger0 is stronger\n",
    "                    elif (fret0 - fret1) <0:\n",
    "                        if finger0 == 1:\n",
    "                            if finger1 == 2 and 0 < (-fretDiff) <= 2:\n",
    "#                                 print(str(dn) + \" \" + str(pn) +\" \" + str(sdn) + \" \" + str(spn) + \" \" +\"case5\")\n",
    "#                                 print(domains[dn][pn])\n",
    "#                                 print(domains[sdn][spn])\n",
    "                                dicAppend((dn,sdn),(domains[dn][pn], domains[sdn][spn]),dicCombination)\n",
    "                            elif finger1 == 3 and 0 < (-fretDiff) <= 3:\n",
    "    #                             print(str(dn) + \" \" + str(pn) +\" \" + str(sdn) + \" \" + str(spn) + \" \" +\"case6\")\n",
    "\n",
    "                                dicAppend((dn,sdn),(domains[dn][pn], domains[sdn][spn]),dicCombination)\n",
    "                            elif finger1 == 4 and 0 < (-fretDiff) <= 4:\n",
    "    #                             print(str(dn) + \" \" + str(pn) +\" \" + str(sdn) + \" \" + str(spn) + \" \" +\"case7\")\n",
    "                                dicAppend((dn,sdn),(domains[dn][pn], domains[sdn][spn]),dicCombination)\n",
    "                        elif finger0 == 2:\n",
    "                            if finger1 == 3 and 0 < (-fretDiff) <= 1:\n",
    "    #                             print(str(dn) + \" \" + str(pn) +\" \" + str(sdn) + \" \" + str(spn) + \" \" +\"case8\")\n",
    "                                dicAppend((dn,sdn),(domains[dn][pn], domains[sdn][spn]),dicCombination)\n",
    "                            elif finger1 == 4 and 0 < (-fretDiff) <= 3:\n",
    "    #                             print(str(dn) + \" \" + str(pn) +\" \" + str(sdn) + \" \" + str(spn) + \" \" +\"case9\")\n",
    "                                dicAppend((dn,sdn),(domains[dn][pn], domains[sdn][spn]),dicCombination)\n",
    "                        elif finger0 == 3:\n",
    "                            if finger1 == 4 and 0 < (-fretDiff) <= 1:\n",
    "    #                             print(str(dn) + \" \" + str(pn) +\" \" + str(sdn) + \" \" + str(spn) + \" \" +\"case10\")\n",
    "                                dicAppend((dn,sdn),(domains[dn][pn], domains[sdn][spn]),dicCombination)\n",
    "                    elif (fret0 - fret1) >0: \n",
    "                    # when finger1 stronger than finger0\n",
    "                        if finger1 == 1:\n",
    "                            if finger0 == 2 and 0 < (fretDiff) <= 2:\n",
    "    #                             print(str(dn) + \" \" + str(pn) +\" \" + str(sdn) + \" \" + str(spn) + \" \" +\"case11\")\n",
    "                                dicAppend((dn,sdn),(domains[dn][pn], domains[sdn][spn]),dicCombination)\n",
    "\n",
    "                            elif finger0 == 3 and 0 < (fretDiff) <= 3:\n",
    "#                                 print(str(dn) + \" \" + str(pn) +\" \" + str(sdn) + \" \" + str(spn) + \" \" +\"case12\")\n",
    "                                dicAppend((dn,sdn),(domains[dn][pn], domains[sdn][spn]),dicCombination)\n",
    "\n",
    "                            elif finger0 == 4 and 0 < (fretDiff) <= 4:\n",
    "    #                             print(str(dn) + \" \" + str(pn) +\" \" + str(sdn) + \" \" + str(spn) + \" \" +\"case13\")\n",
    "                                dicAppend((dn,sdn),(domains[dn][pn], domains[sdn][spn]),dicCombination)\n",
    "\n",
    "                        elif finger1 == 2:\n",
    "                            if finger0 == 3 and 0 < (fretDiff) <= 1:\n",
    "    #                             print(str(dn) + \" \" + str(pn) +\" \" + str(sdn) + \" \" + str(spn) + \" \" +\"case14\")\n",
    "                                dicAppend((dn,sdn),(domains[dn][pn], domains[sdn][spn]),dicCombination)\n",
    "\n",
    "                            elif finger0 == 4 and 0 < (fretDiff) <= 3:\n",
    "    #                             print(str(dn) + \" \" + str(pn) +\" \" + str(sdn) + \" \" + str(spn) + \" \" +\"case15\")\n",
    "                                dicAppend((dn,sdn),(domains[dn][pn], domains[sdn][spn]),dicCombination)\n",
    "\n",
    "                        elif finger1 == 3:\n",
    "                            if finger0 == 4 and 0 < (fretDiff) <= 1:\n",
    "    #                             print(str(dn) + \" \" + str(pn) +\" \" + str(sdn) + \" \" + str(spn) + \" \" +\"case16\")\n",
    "                                dicAppend((dn,sdn),(domains[dn][pn], domains[sdn][spn]),dicCombination)\n",
    "#             countComb = countComb + 1        \n",
    "#             print(countComb)\n",
    "        \n",
    "# useFlag"
   ]
  },
  {
   "cell_type": "code",
   "execution_count": 390,
   "metadata": {},
   "outputs": [
    {
     "data": {
      "text/plain": [
       "{(0, 1): [([6, 1, 1], [5, 3, 2]),\n",
       "  ([6, 1, 1], [5, 3, 3]),\n",
       "  ([6, 1, 1], [5, 3, 4]),\n",
       "  ([6, 1, 2], [5, 3, 4])],\n",
       " (0, 2): [([6, 1, 1], [4, 3, 2]),\n",
       "  ([6, 1, 1], [4, 3, 3]),\n",
       "  ([6, 1, 1], [4, 3, 4]),\n",
       "  ([6, 1, 2], [4, 3, 4])],\n",
       " (1, 2): [([5, 3, 1], [4, 3, 1]),\n",
       "  ([5, 3, 1], [4, 3, 2]),\n",
       "  ([5, 3, 1], [4, 3, 3]),\n",
       "  ([5, 3, 1], [4, 3, 4]),\n",
       "  ([5, 3, 2], [4, 3, 3]),\n",
       "  ([5, 3, 2], [4, 3, 4]),\n",
       "  ([5, 3, 3], [4, 3, 4]),\n",
       "  ([6, 8, 1], [5, 8, 1]),\n",
       "  ([6, 8, 1], [5, 8, 2]),\n",
       "  ([6, 8, 1], [5, 8, 3]),\n",
       "  ([6, 8, 1], [5, 8, 4]),\n",
       "  ([6, 8, 2], [5, 8, 3]),\n",
       "  ([6, 8, 2], [5, 8, 4]),\n",
       "  ([6, 8, 3], [5, 8, 4])]}"
      ]
     },
     "execution_count": 390,
     "metadata": {},
     "output_type": "execute_result"
    }
   ],
   "source": [
    "# practice dicCombination\n",
    "dicCombination\n",
    "# print(dicCombination)\n",
    "# a=0\n",
    "# b=1\n",
    "# dicCombination[(a,b)][0][0]\n"
   ]
  },
  {
   "cell_type": "code",
   "execution_count": 242,
   "metadata": {},
   "outputs": [
    {
     "name": "stdout",
     "output_type": "stream",
     "text": [
      "[([6, 1, 1], [5, 3, 2]), ([6, 1, 1], [5, 3, 3]), ([6, 1, 1], [5, 3, 4]), ([6, 1, 2], [5, 3, 4])]\n",
      "[(0, 1), (0, 2), (1, 2)]\n"
     ]
    },
    {
     "data": {
      "text/plain": [
       "[[([6, 1, 1], [5, 3, 2]), ([6, 1, 1], [5, 3, 3]), ([6, 1, 2], [5, 3, 4])],\n",
       " [([6, 1, 1], [4, 3, 2]),\n",
       "  ([6, 1, 1], [4, 3, 3]),\n",
       "  ([6, 1, 1], [4, 3, 4]),\n",
       "  ([6, 1, 2], [4, 3, 4])],\n",
       " [([5, 3, 1], [4, 3, 2]),\n",
       "  ([5, 3, 1], [4, 3, 3]),\n",
       "  ([5, 3, 1], [4, 3, 4]),\n",
       "  ([5, 3, 2], [4, 3, 3]),\n",
       "  ([5, 3, 2], [4, 3, 4]),\n",
       "  ([5, 3, 3], [4, 3, 4]),\n",
       "  ([6, 8, 1], [5, 8, 3]),\n",
       "  ([6, 8, 2], [5, 8, 4])]]"
      ]
     },
     "execution_count": 242,
     "metadata": {},
     "output_type": "execute_result"
    }
   ],
   "source": [
    "# Adversary kill method. 4-for version (Shihho)\n",
    "# killing each other, if doesn't exist\n",
    "listKey = []\n",
    "listVal = []\n",
    "import copy\n",
    "\n",
    "dicCombination_DMY =copy.deepcopy( dicCombination)\n",
    "for key, value in dicCombination_DMY.items():\n",
    "# for key, value in dicCombination.items():\n",
    "    listKey.append(key)\n",
    "    listVal.append(value)\n",
    "#     print(key)\n",
    "#     for i in key:\n",
    "#         print(i)\n",
    "#     print(value)\n",
    "# print(listKey)\n",
    "print(listVal[0])\n",
    "\n",
    "# killSelf is the Domain, which is being killed\n",
    "# killSelf = 0, 1, 2 ....\n",
    "for killSelf in range(len(domains)):\n",
    "#     print(\"killSelf = \" + str(killSelf))\n",
    "    \n",
    "    # keys = (0,1), (0,2), (1,2), ...\n",
    "    # get rowIndex & tupleIndex\n",
    "    for key in listKey:\n",
    "#         for item in key:\n",
    "#         print(\"key = \" + str(key))\n",
    "        rowIndex = listKey.index(key)\n",
    "        if killSelf in key:\n",
    "#             print(\"killSelf in key: true\")\n",
    "            tupleIndex = key.index(killSelf)\n",
    "            \n",
    "            for keyComp in listKey:\n",
    "#                 print(\"keyComp = \" + str(keyComp))\n",
    "                compRowIndex = listKey.index(keyComp)\n",
    "                if key != keyComp and killSelf in keyComp:\n",
    "#                     print(\"key != keyComp and killSelf in keyComp\")\n",
    "                    compTupleIndex = keyComp.index(killSelf)\n",
    "                    \n",
    "                    \n",
    "                    lastExamKillValue = 0\n",
    "                    for killValueTuple in listVal[rowIndex]:\n",
    "#                         print(\"killValueTuple =\" + str(killValueTuple))\n",
    "                        killValue = killValueTuple[tupleIndex]\n",
    "#                         print(\"killValue = \" + str(killValue))\n",
    "                        \n",
    "                        if killValue != lastExamKillValue:\n",
    "                            sameAsComp = 0\n",
    "                            for compValueTuple in listVal[compRowIndex]:\n",
    "                                if sameAsComp ==1:\n",
    "                                    break\n",
    "#                                 print(\"compValueTuple =\" + str(compValueTuple))\n",
    "                                compValue = compValueTuple[compTupleIndex]\n",
    "#                                 print(\"compValue = \" + str(compValue))\n",
    "                                if killValue == compValue:\n",
    "                                    sameAsComp = 1\n",
    "                            if sameAsComp ==0:\n",
    "#                                 None\n",
    "                                listVal[rowIndex].remove(killValueTuple) #測試 是不是刪掉dicCombination: 答案：是\n",
    "#                                 print(\"remove \" + str(killValueTuple))\n",
    "                        lastExamKillValue = killValue\n",
    "        \n",
    "\n",
    "                \n",
    "                else:\n",
    "                    None\n",
    "#                     print(\"key == keyComp or killSelf not in keyComp, next key\")\n",
    "#                     break\n",
    "            \n",
    "            \n",
    "#             print(row)\n",
    "#             print(killSelf)\n",
    "#             print(key)\n",
    "#             print(index)\n",
    "#             print(\"\\n\")\n",
    "#     print(legalD)\n",
    "print(listKey)\n",
    "listVal"
   ]
  },
  {
   "cell_type": "code",
   "execution_count": 59,
   "metadata": {
    "collapsed": true
   },
   "outputs": [
    {
     "data": {
      "text/plain": [
       "[[([6, 1, 1], [5, 3, 2]),\n",
       "  ([6, 1, 1], [5, 3, 3]),\n",
       "  ([6, 1, 1], [5, 3, 4]),\n",
       "  ([6, 1, 2], [5, 3, 4])],\n",
       " [([6, 1, 1], [4, 2, 2]),\n",
       "  ([6, 1, 1], [4, 2, 3]),\n",
       "  ([6, 1, 1], [4, 2, 4]),\n",
       "  ([6, 1, 2], [4, 2, 3]),\n",
       "  ([6, 1, 2], [4, 2, 4]),\n",
       "  ([6, 1, 3], [4, 2, 4])],\n",
       " [([6, 1, 1], [3, 1, 1]),\n",
       "  ([6, 1, 1], [3, 1, 2]),\n",
       "  ([6, 1, 1], [3, 1, 3]),\n",
       "  ([6, 1, 1], [3, 1, 4]),\n",
       "  ([6, 1, 2], [3, 1, 3]),\n",
       "  ([6, 1, 2], [3, 1, 4]),\n",
       "  ([6, 1, 3], [3, 1, 4])],\n",
       " [([5, 3, 1], [4, 6, 3]),\n",
       "  ([5, 3, 1], [4, 6, 4]),\n",
       "  ([5, 3, 2], [3, 1, 1]),\n",
       "  ([5, 3, 2], [4, 6, 4]),\n",
       "  ([5, 3, 3], [3, 1, 1]),\n",
       "  ([5, 3, 4], [3, 1, 1]),\n",
       "  ([5, 3, 4], [3, 1, 2]),\n",
       "  ([6, 8, 1], [5, 11, 3]),\n",
       "  ([6, 8, 1], [5, 11, 4]),\n",
       "  ([6, 8, 2], [4, 6, 1]),\n",
       "  ([6, 8, 2], [5, 11, 4]),\n",
       "  ([6, 8, 3], [4, 6, 1]),\n",
       "  ([6, 8, 4], [4, 6, 1]),\n",
       "  ([6, 8, 4], [4, 6, 2])],\n",
       " [([5, 3, 2], [4, 2, 1]),\n",
       "  ([5, 3, 3], [4, 2, 1]),\n",
       "  ([5, 3, 3], [4, 2, 2]),\n",
       "  ([5, 3, 4], [4, 2, 1]),\n",
       "  ([5, 3, 4], [4, 2, 2]),\n",
       "  ([5, 3, 4], [4, 2, 3]),\n",
       "  ([6, 8, 2], [5, 7, 1]),\n",
       "  ([6, 8, 3], [5, 7, 1]),\n",
       "  ([6, 8, 3], [5, 7, 2]),\n",
       "  ([6, 8, 4], [5, 7, 1]),\n",
       "  ([6, 8, 4], [5, 7, 2]),\n",
       "  ([6, 8, 4], [5, 7, 3])],\n",
       " [([4, 2, 2], [3, 1, 1]),\n",
       "  ([4, 2, 3], [3, 1, 1]),\n",
       "  ([4, 2, 3], [3, 1, 2]),\n",
       "  ([4, 2, 4], [3, 1, 1]),\n",
       "  ([4, 2, 4], [3, 1, 2]),\n",
       "  ([4, 2, 4], [3, 1, 3]),\n",
       "  ([5, 7, 2], [4, 6, 1]),\n",
       "  ([5, 7, 3], [4, 6, 1]),\n",
       "  ([5, 7, 3], [4, 6, 2]),\n",
       "  ([5, 7, 4], [4, 6, 1]),\n",
       "  ([5, 7, 4], [4, 6, 2]),\n",
       "  ([5, 7, 4], [4, 6, 3]),\n",
       "  ([6, 12, 2], [5, 11, 1]),\n",
       "  ([6, 12, 3], [5, 11, 1]),\n",
       "  ([6, 12, 3], [5, 11, 2]),\n",
       "  ([6, 12, 4], [5, 11, 1]),\n",
       "  ([6, 12, 4], [5, 11, 2]),\n",
       "  ([6, 12, 4], [5, 11, 3])]]"
      ]
     },
     "execution_count": 59,
     "metadata": {},
     "output_type": "execute_result"
    }
   ],
   "source": [
    "listVal"
   ]
  },
  {
   "cell_type": "code",
   "execution_count": 27,
   "metadata": {
    "collapsed": true
   },
   "outputs": [
    {
     "name": "stdout",
     "output_type": "stream",
     "text": [
      "[[[1], [2], [3], [4]], [[5, 6], [7, 8], [9, 0], [11, 12, 13]]]\n",
      "[[[1], [2], [3], [4]], [[5, 6], [9, 0], [11, 12, 13]]]\n"
     ]
    },
    {
     "data": {
      "text/plain": [
       "[[[1], [2], [3], [4]],\n",
       " [[5, 6], [9, 0], [11, 12, 13]],\n",
       " [[666], [555], [444], [333, 222, 111]]]"
      ]
     },
     "execution_count": 27,
     "metadata": {},
     "output_type": "execute_result"
    }
   ],
   "source": [
    "# practice \"del\" usage in list\n",
    "lista =[[[1],[2],[3],[4]], [[5,6],[7,8],[9,0],[11,12,13]]]\n",
    "print(lista)\n",
    "del lista[1][1] # del address\n",
    "print(lista)\n",
    "lista.append([[666],[555],[444],[333,222,111]])\n",
    "lista"
   ]
  },
  {
   "cell_type": "code",
   "execution_count": 28,
   "metadata": {
    "collapsed": true
   },
   "outputs": [
    {
     "name": "stdout",
     "output_type": "stream",
     "text": [
      "[[[1], [2], [3], [4]], [[5, 6], [7, 8], [9, 0], [11, 12, 13]]]\n",
      "[[[1], [2], [3], [4]], [[5, 6], [7, 8], [9, 0], [11, 12, 13]]]\n",
      "[[[1], [2], [3], [4]], [[5, 6], [7, 8], [9, 0], [11, 12, 13]], [[666], [555], [444], [333, 222, 111]]]\n",
      "0\n",
      "1\n",
      "if\n",
      "[[[1], [2], [3], [4]], [[5, 6], [9, 0], [11, 12, 13]], [[666], [555], [444], [333, 222, 111]]]\n",
      "2\n"
     ]
    },
    {
     "data": {
      "text/plain": [
       "[[[1], [2], [3], [4]],\n",
       " [[5, 6], [9, 0], [11, 12, 13]],\n",
       " [[666], [555], [444], [333, 222, 111]]]"
      ]
     },
     "execution_count": 28,
     "metadata": {},
     "output_type": "execute_result"
    }
   ],
   "source": [
    "# practice \"remove\" usage in list\n",
    "lista =[[[1],[2],[3],[4]], [[5,6],[7,8],[9,0],[11,12,13]]]\n",
    "print(lista)\n",
    "# del lista[1][1]\n",
    "print(lista)\n",
    "lista.append([[666],[555],[444],[333,222,111]])\n",
    "print(lista)\n",
    "for row in range(len(lista)):\n",
    "    item = 0\n",
    "    print(row)\n",
    "    while item in range(len(lista[row])):\n",
    "        if lista[row][item] == [7,8]:\n",
    "            print(\"if\")\n",
    "            lista[row].remove(lista[row][item]) # .remove([7,8])\n",
    "            print(lista)\n",
    "        item = item + 1\n",
    "lista"
   ]
  },
  {
   "cell_type": "code",
   "execution_count": 243,
   "metadata": {},
   "outputs": [
    {
     "name": "stdout",
     "output_type": "stream",
     "text": [
      "0\n",
      "{(6, 1, 2), (6, 1, 1)}\n",
      "1\n",
      "{(5, 3, 2), (5, 3, 3)}\n",
      "2\n",
      "{(4, 3, 4), (4, 3, 3), (4, 3, 2)}\n"
     ]
    }
   ],
   "source": [
    "# Adversary kill method. lambda version. (Mao)\n",
    "# 已修改過 目前不能跑，請從line複製原始版\n",
    "Keys = dicCombination.keys()\n",
    "flatKey = sum(Keys, ())\n",
    "uniqueKey = set(flatKey)\n",
    "\n",
    "matchDict = {}\n",
    "for uniKey in uniqueKey:\n",
    "    print (uniKey)\n",
    "    sets = []\n",
    "    for key in Keys:\n",
    "        if uniKey in key:\n",
    "            indexLoc = key.index(uniKey)\n",
    "            sets.append(set(map(tuple, list(zip(*dicCombination[key]))[indexLoc])))\n",
    "    print (set.intersection(*sets))\n",
    "    matchDict[uniKey] = set.intersection(*sets)\n",
    "\n",
    "    \n",
    "result = {}\n",
    "for k in dicCombination:\n",
    "    compare1 = matchDict[k[0]]\n",
    "    compare2 = matchDict[k[1]]\n",
    "    result[k] = list(filter(lambda x: tuple(x[0]) in compare1 and tuple(x[1]) in compare2, dicCombination[k]))"
   ]
  },
  {
   "cell_type": "code",
   "execution_count": 105,
   "metadata": {
    "collapsed": true
   },
   "outputs": [
    {
     "data": {
      "text/plain": [
       "[([5, 3, 1], [4, 3, 1]),\n",
       " ([5, 3, 1], [4, 3, 2]),\n",
       " ([5, 3, 1], [4, 3, 3]),\n",
       " ([5, 3, 1], [4, 3, 4]),\n",
       " ([5, 3, 2], [4, 3, 3]),\n",
       " ([5, 3, 2], [4, 3, 4]),\n",
       " ([5, 3, 3], [4, 3, 4]),\n",
       " ([6, 8, 1], [5, 8, 1]),\n",
       " ([6, 8, 1], [5, 8, 2]),\n",
       " ([6, 8, 1], [5, 8, 3]),\n",
       " ([6, 8, 1], [5, 8, 4]),\n",
       " ([6, 8, 2], [5, 8, 3]),\n",
       " ([6, 8, 2], [5, 8, 4]),\n",
       " ([6, 8, 3], [5, 8, 4])]"
      ]
     },
     "execution_count": 105,
     "metadata": {},
     "output_type": "execute_result"
    }
   ],
   "source": [
    "# result\n",
    "matchDict\n",
    "set.intersection(*sets)\n",
    "sets\n",
    "# uniqueKey\n",
    "dicCombination[(1,2)]"
   ]
  },
  {
   "cell_type": "code",
   "execution_count": 391,
   "metadata": {},
   "outputs": [
    {
     "name": "stdout",
     "output_type": "stream",
     "text": [
      "0\n",
      "{(6, 1, 2), (6, 1, 1)}\n",
      "1\n",
      "{(5, 3, 2), (5, 3, 3)}\n",
      "2\n",
      "{(4, 3, 4), (4, 3, 3), (4, 3, 2)}\n",
      "0\n",
      "{(6, 1, 1)}\n",
      "1\n",
      "{(5, 3, 2), (5, 3, 3)}\n",
      "2\n",
      "{(4, 3, 4), (4, 3, 3)}\n"
     ]
    }
   ],
   "source": [
    "# Adversary kill method. Non-lambda version. (Mao)\n",
    "\n",
    "for loop in range(2):\n",
    "    \n",
    "    # 測試用. 目前做一次不乾淨，要做兩次\n",
    "    if loop == 1:\n",
    "        dicCombination = copy.deepcopy(result)\n",
    "\n",
    "\n",
    "    Keys = dicCombination.keys()\n",
    "#     print(\"Keys = \" + str(Keys))\n",
    "    flatKey = sum(Keys, ())\n",
    "#     print(\"flatKey = \" + str(flatKey))\n",
    "    uniqueKey = set(flatKey)\n",
    "#     print(\"uniqueKey = \" + str(uniqueKey))\n",
    "\n",
    "    matchDict = {}\n",
    "    for uniKey in uniqueKey:\n",
    "        print (uniKey)\n",
    "        sets = []\n",
    "        for key in Keys:\n",
    "            if uniKey in key:\n",
    "                indexLoc = key.index(uniKey)\n",
    "                sets.append(set(map(tuple, list(zip(*dicCombination[key]))[indexLoc])))\n",
    "\n",
    "    #             print(\"zip = \" + str(zip(*dicCombination[key])))\n",
    "    #             print(\"list(zip() ) = \" + str(list(zip(*dicCombination[key]))))\n",
    "                # list(zip(   )) --> 把tuple的欄位分開. 如：只抓每個tuple中的第一個值\n",
    "#                 print(\"map(tuple, list...) =\" + str(map(tuple, list(zip(*dicCombination[key]))[indexLoc])))\n",
    "#                 print(\"set(map...) = \" + str(set(map(tuple, list(zip(*dicCombination[key]))[indexLoc]))))\n",
    "\n",
    "        print (set.intersection(*sets))\n",
    "\n",
    "        matchDict[uniKey] = set.intersection(*sets)\n",
    "\n",
    "\n",
    "    result = {}\n",
    "    for k in dicCombination:\n",
    "        result_temp = []\n",
    "        compare1 = matchDict[k[0]]\n",
    "#         print(\"compare1 = \" + str(compare1))\n",
    "        compare2 = matchDict[k[1]]\n",
    "        for item in dicCombination[k]:\n",
    "#             print(\"item = \" + str(item))\n",
    "#             print(\"item[0] = \" + str(item[0]))\n",
    "#             print(\"tuple(item[0]) = \" + str(tuple(item[0])))\n",
    "            if tuple(item[0]) in compare1 and tuple(item[1]) in compare2:\n",
    "                result_temp.append(item)\n",
    "        result[k] = result_temp"
   ]
  },
  {
   "cell_type": "code",
   "execution_count": 392,
   "metadata": {},
   "outputs": [
    {
     "name": "stdout",
     "output_type": "stream",
     "text": [
      "{(0, 1): [([6, 1, 1], [5, 3, 2]), ([6, 1, 1], [5, 3, 3])], (0, 2): [([6, 1, 1], [4, 3, 3]), ([6, 1, 1], [4, 3, 4])], (1, 2): [([5, 3, 2], [4, 3, 3]), ([5, 3, 2], [4, 3, 4]), ([5, 3, 3], [4, 3, 4])]}\n"
     ]
    },
    {
     "data": {
      "text/plain": [
       "{0: {(6, 1, 1)}, 1: {(5, 3, 2), (5, 3, 3)}, 2: {(4, 3, 3), (4, 3, 4)}}"
      ]
     },
     "execution_count": 392,
     "metadata": {},
     "output_type": "execute_result"
    }
   ],
   "source": [
    "print(result)\n",
    "matchDict\n",
    "# dicCombination[(0,1)]"
   ]
  },
  {
   "cell_type": "code",
   "execution_count": 393,
   "metadata": {},
   "outputs": [
    {
     "name": "stdout",
     "output_type": "stream",
     "text": [
      "len(cartisian) = 4\n"
     ]
    },
    {
     "data": {
      "text/plain": [
       "[[[6, 1, 1], [5, 3, 2], [4, 3, 4]],\n",
       " [[6, 1, 1], [5, 3, 2], [4, 3, 3]],\n",
       " [[6, 1, 1], [5, 3, 3], [4, 3, 4]]]"
      ]
     },
     "execution_count": 393,
     "metadata": {},
     "output_type": "execute_result"
    }
   ],
   "source": [
    "# cartisian product -- matchDict\n",
    "import itertools\n",
    "\n",
    "listMatchDict = []\n",
    "\n",
    "for key, value in matchDict.items():\n",
    "    listMatchDict.append(list(value))\n",
    "\n",
    "listCartisianProduct = []\n",
    "for iterItem in itertools.product(*listMatchDict):\n",
    "    listItem = []\n",
    "    for tupleItem in iterItem:\n",
    "        listItem.append(list(tupleItem))\n",
    "#     listCartisianProduct.append(list(iterItem))\n",
    "    listCartisianProduct.append(listItem)\n",
    "\n",
    "print(\"len(cartisian) = \" + str(len(listCartisianProduct)))\n",
    "    \n",
    "def rmCandidate():                \n",
    "    for i in range(lenSol):\n",
    "        for j in range(i+1, lenSol):\n",
    "#             print(\"i = \"+ str(i))\n",
    "#             print(\"j = \" + str(j))\n",
    "            candPair = (candidate[i], candidate[j])\n",
    "            \n",
    "            if i ==1 and j == 2:\n",
    "                print(\"candPair = \" + str(candPair))\n",
    "#                 print(candidate[i], candidate[j])\n",
    "                print(result[(i, j)])\n",
    "                print(\"len(cartisian) = \" + str(len(listCartisianProduct)))\n",
    "                print(listCartisianProduct)\n",
    "            if ( candPair ) not in result[(i, j)]:\n",
    "                print(\"not in\")\n",
    "#                 print( ([candidate[i], candidate[j]]) )\n",
    "#                 print(result[(i,j)])\n",
    "#                 print(\"prepare to remove\" + str(candidate))\n",
    "\n",
    "#                 listCartisianProduct.remove(candidate)\n",
    "                print(\"len(cartisian) = \" + str(len(listCartisianProduct)))\n",
    "                print(listCartisianProduct)\n",
    "                return False\n",
    "    return True\n",
    "    \n",
    "lenSol = len(listCartisianProduct[0])\n",
    "\n",
    "\n",
    "\n",
    "def judgeCandidateIn(candidate):  \n",
    "    lenCand = len(candidate)\n",
    "    for i in range(lenCand):\n",
    "        for j in range(i+1, lenCand):\n",
    "#             print(\"i = \"+ str(i))\n",
    "#             print(\"j = \" + str(j))\n",
    "            candPair = (candidate[i], candidate[j])\n",
    "            if ( candPair ) not in result[(i, j)]:\n",
    "#                 print(\"not in\")\n",
    "#                 print( ([candidate[i], candidate[j]]) )\n",
    "#                 print(result[(i,j)])\n",
    "#                 print(\"prepare to remove\" + str(candidate))\n",
    "\n",
    "#                 listCartisianProduct.remove(candidate)\n",
    "#                 print(\"len(cartisian) = \" + str(len(listCartisianProduct)))\n",
    "#                 print(listCartisianProduct)\n",
    "                return False\n",
    "    return True\n",
    "\n",
    "\n",
    "\n",
    "\n",
    "def delFaltBarreIndex(candidate):\n",
    "    oneCount = 0\n",
    "    fret = []\n",
    "    for position in candidate:\n",
    "        if position[2]==1:  # 食指時 True\n",
    "            oneCount = oneCount + 1\n",
    "            fret.append(position[1])\n",
    "#             print(fret)\n",
    "        if oneCount > 1:\n",
    "            oneFret = position[1]\n",
    "            for ipos in candidate:\n",
    "                if ipos[1] == oneFret and ipos[2] != 1:\n",
    "                    return False\n",
    "    return True\n",
    "\n",
    "    \n",
    "proposeSols = [x for x in listCartisianProduct if judgeCandidateIn(x)]    \n",
    "proposeSols = [x for x in proposeSols if delFaltBarreIndex(x)]\n",
    "\n",
    "    \n",
    "# listMatchDict\n",
    "# listCartisianProduct\n",
    "proposeSols"
   ]
  },
  {
   "cell_type": "code",
   "execution_count": 364,
   "metadata": {},
   "outputs": [
    {
     "data": {
      "text/plain": [
       "<itertools.filterfalse at 0x10d354668>"
      ]
     },
     "execution_count": 364,
     "metadata": {},
     "output_type": "execute_result"
    }
   ],
   "source": [
    "# listCartisianProduct\n",
    "# listMatchDict\n",
    "new\n",
    "# somelist"
   ]
  },
  {
   "cell_type": "code",
   "execution_count": 190,
   "metadata": {},
   "outputs": [
    {
     "name": "stdout",
     "output_type": "stream",
     "text": [
      "[([6, 1, 1], [5, 3, 2]), ([6, 1, 1], [5, 3, 3])]\n"
     ]
    },
    {
     "data": {
      "text/plain": [
       "True"
      ]
     },
     "execution_count": 190,
     "metadata": {},
     "output_type": "execute_result"
    }
   ],
   "source": [
    "([6, 1, 1], [5, 3, 2]) in result[(0,1)]\n",
    "print(result[(0,1)])\n",
    "[6,1,1] in result[(0,1)][0]\n",
    "# result[(0,1)][0][0]"
   ]
  },
  {
   "cell_type": "code",
   "execution_count": 241,
   "metadata": {},
   "outputs": [
    {
     "name": "stdout",
     "output_type": "stream",
     "text": [
      "\n",
      "key = ([6, 1, 1], [5, 3, 2])\n",
      "keyDic = (0, 1)\n",
      "keyDic = (0, 2)\n",
      "compPair = ([6, 1, 1], [4, 3, 2])\n",
      "resultTemp[(1, keyDic[1]) = [([5, 3, 2], [4, 3, 3]), ([5, 3, 2], [4, 3, 4]), ([5, 3, 3], [4, 3, 4])]\n",
      "compPair = ([6, 1, 1], [4, 3, 3])\n",
      "resultTemp[(1, keyDic[1]) = [([5, 3, 2], [4, 3, 3]), ([5, 3, 2], [4, 3, 4]), ([5, 3, 3], [4, 3, 4])]\n",
      "符合條件, solTemp = [[6, 1, 1], [5, 3, 2]]\n",
      "解答 = [[6, 1, 1], [5, 3, 2], [4, 3, 3]]\n",
      "\n",
      "\n",
      "compPair = ([6, 1, 1], [4, 3, 4])\n",
      "resultTemp[(1, keyDic[1]) = [([5, 3, 2], [4, 3, 3]), ([5, 3, 2], [4, 3, 4]), ([5, 3, 3], [4, 3, 4])]\n",
      "符合條件, solTemp = [[6, 1, 1], [5, 3, 2]]\n",
      "解答 = [[6, 1, 1], [5, 3, 2], [4, 3, 4]]\n",
      "\n",
      "\n",
      "compPair = ([6, 1, 2], [4, 3, 4])\n",
      "resultTemp[(1, keyDic[1]) = [([5, 3, 2], [4, 3, 3]), ([5, 3, 2], [4, 3, 4]), ([5, 3, 3], [4, 3, 4])]\n",
      "keyDic = (1, 2)\n",
      "compPair = ([5, 3, 2], [4, 3, 3])\n",
      "resultTemp[(1, keyDic[1]) = [([5, 3, 2], [4, 3, 3]), ([5, 3, 2], [4, 3, 4]), ([5, 3, 3], [4, 3, 4])]\n",
      "符合條件, solTemp = [[6, 1, 1], [5, 3, 2]]\n",
      "解答 = [[6, 1, 1], [5, 3, 2], [4, 3, 3]]\n",
      "\n",
      "\n",
      "compPair = ([5, 3, 2], [4, 3, 4])\n",
      "resultTemp[(1, keyDic[1]) = [([5, 3, 2], [4, 3, 3]), ([5, 3, 2], [4, 3, 4]), ([5, 3, 3], [4, 3, 4])]\n",
      "符合條件, solTemp = [[6, 1, 1], [5, 3, 2]]\n",
      "解答 = [[6, 1, 1], [5, 3, 2], [4, 3, 4]]\n",
      "\n",
      "\n",
      "compPair = ([5, 3, 3], [4, 3, 4])\n",
      "resultTemp[(1, keyDic[1]) = [([5, 3, 2], [4, 3, 3]), ([5, 3, 2], [4, 3, 4]), ([5, 3, 3], [4, 3, 4])]\n",
      "\n",
      "key = ([6, 1, 1], [5, 3, 3])\n",
      "keyDic = (0, 1)\n",
      "keyDic = (0, 2)\n",
      "compPair = ([6, 1, 1], [4, 3, 2])\n",
      "resultTemp[(1, keyDic[1]) = [([5, 3, 2], [4, 3, 3]), ([5, 3, 2], [4, 3, 4]), ([5, 3, 3], [4, 3, 4])]\n",
      "compPair = ([6, 1, 1], [4, 3, 3])\n",
      "resultTemp[(1, keyDic[1]) = [([5, 3, 2], [4, 3, 3]), ([5, 3, 2], [4, 3, 4]), ([5, 3, 3], [4, 3, 4])]\n",
      "compPair = ([6, 1, 1], [4, 3, 4])\n",
      "resultTemp[(1, keyDic[1]) = [([5, 3, 2], [4, 3, 3]), ([5, 3, 2], [4, 3, 4]), ([5, 3, 3], [4, 3, 4])]\n",
      "符合條件, solTemp = [[6, 1, 1], [5, 3, 3]]\n",
      "解答 = [[6, 1, 1], [5, 3, 3], [4, 3, 4]]\n",
      "\n",
      "\n",
      "compPair = ([6, 1, 2], [4, 3, 4])\n",
      "resultTemp[(1, keyDic[1]) = [([5, 3, 2], [4, 3, 3]), ([5, 3, 2], [4, 3, 4]), ([5, 3, 3], [4, 3, 4])]\n",
      "keyDic = (1, 2)\n",
      "compPair = ([5, 3, 2], [4, 3, 3])\n",
      "resultTemp[(1, keyDic[1]) = [([5, 3, 2], [4, 3, 3]), ([5, 3, 2], [4, 3, 4]), ([5, 3, 3], [4, 3, 4])]\n",
      "compPair = ([5, 3, 2], [4, 3, 4])\n",
      "resultTemp[(1, keyDic[1]) = [([5, 3, 2], [4, 3, 3]), ([5, 3, 2], [4, 3, 4]), ([5, 3, 3], [4, 3, 4])]\n",
      "compPair = ([5, 3, 3], [4, 3, 4])\n",
      "resultTemp[(1, keyDic[1]) = [([5, 3, 2], [4, 3, 3]), ([5, 3, 2], [4, 3, 4]), ([5, 3, 3], [4, 3, 4])]\n",
      "符合條件, solTemp = [[6, 1, 1], [5, 3, 3]]\n",
      "解答 = [[6, 1, 1], [5, 3, 3], [4, 3, 4]]\n",
      "\n",
      "\n"
     ]
    },
    {
     "data": {
      "text/plain": [
       "[[[6, 1, 1], [5, 3, 2], [4, 3, 3]],\n",
       " [[6, 1, 1], [5, 3, 2], [4, 3, 4]],\n",
       " [[6, 1, 1], [5, 3, 2], [4, 3, 3]],\n",
       " [[6, 1, 1], [5, 3, 2], [4, 3, 4]],\n",
       " [[6, 1, 1], [5, 3, 3], [4, 3, 4]],\n",
       " [[6, 1, 1], [5, 3, 3], [4, 3, 4]]]"
      ]
     },
     "execution_count": 241,
     "metadata": {},
     "output_type": "execute_result"
    }
   ],
   "source": [
    "# 沒有再繼續做\n",
    "resultTemp = copy.deepcopy(result) # copy Dictionary\n",
    "Keys = dicCombination.keys()\n",
    "\n",
    "listSolution = []\n",
    "\n",
    "# 掃(0,1)的所有解\n",
    "for keyPair01 in resultTemp[(0,1)]:\n",
    "    searchKey0 = 0\n",
    "    searchKey1 = 2\n",
    "    solTemp = []\n",
    "#     resultTemp = copy.deepcopy(result) # copy Dictionary\n",
    "#     key[0].index[resultTemp[(0,1)]\n",
    "    print(\"\\nkeyPair01 = \" + str(keyPair01))\n",
    "    #先將 0 1的解放到解答中\n",
    "    solTemp.append(keyPair01[0])\n",
    "    solTemp.append(keyPair01[1])\n",
    "    \n",
    "    # 往下一個searchKey掃\n",
    "    \n",
    "    \n",
    "    for keyPair2etc in resultTemp[(searchKey0, searchKey1)]:\n",
    "        if keyPair2etc[0] not in solTemp and keyPair2etc[1] not in solTemp \n",
    "    \n",
    "    \n",
    "    \n",
    "    \"\"\"\n",
    "    # 掃所有(0,1)以外的組合, 如(0,2), (1,2)\n",
    "    for keyDic in resultTemp :\n",
    "        print(\"keyDic = \" + str(keyDic))\n",
    "        if keyDic != (0,1):\n",
    "#             print(\"是原本的key, 跳出\")\n",
    "            keyDic[1]\n",
    "            # 每個組合,如(0,2), 掃所有domain\n",
    "            for compPair in resultTemp[keyDic]:\n",
    "                print(\"compPair = \" + str(compPair))\n",
    "                print(\"resultTemp[(1, keyDic[1]) = \" + str(resultTemp[(1, keyDic[1])]))\n",
    "                # if ([sol 1 ], [ target 2] in resutTemp這個dic的(1,2)):\n",
    "                # 代表這個pair是合理的, 可以加入\n",
    "                \n",
    "                # 看這個domain, 有沒有符合已放入解答的解\n",
    "                # resultTemp[(1, keyDic[1])] = resultTemp[(1, 新的key)]\n",
    "                # 所以目前只能看到 key=1 和2的組合\n",
    "                if  (solTemp[1] , compPair[1]) in resultTemp[(1, keyDic[1])] and compPair[0] in solTemp :\n",
    "#                     solTemp.append(compPair[1])\n",
    "                    print(\"符合條件, solTemp = \" + str(solTemp))\n",
    "                    print(\"解答 = \" + str(solTemp + [compPair[1]]))\n",
    "                    print(\"\\n\")\n",
    "                    listSolution.append(solTemp + [compPair[1]])\n",
    "      \"\"\"              \n",
    "#     listVal[1:-1].remove(key)\n",
    "    # [key[0], key[1], ]\n",
    "# key = ([6, 1, 1], [5, 3, 2])\n",
    "# listVal[0].remove([6,1,1])\n",
    "            \n",
    "resultTemp\n",
    "# listVal\n",
    "\n",
    "listSolution"
   ]
  },
  {
   "cell_type": "code",
   "execution_count": 241,
   "metadata": {},
   "outputs": [
    {
     "name": "stdout",
     "output_type": "stream",
     "text": [
      "\n",
      "key = ([6, 1, 1], [5, 3, 2])\n",
      "keyDic = (0, 1)\n",
      "keyDic = (0, 2)\n",
      "compPair = ([6, 1, 1], [4, 3, 2])\n",
      "resultTemp[(1, keyDic[1]) = [([5, 3, 2], [4, 3, 3]), ([5, 3, 2], [4, 3, 4]), ([5, 3, 3], [4, 3, 4])]\n",
      "compPair = ([6, 1, 1], [4, 3, 3])\n",
      "resultTemp[(1, keyDic[1]) = [([5, 3, 2], [4, 3, 3]), ([5, 3, 2], [4, 3, 4]), ([5, 3, 3], [4, 3, 4])]\n",
      "符合條件, solTemp = [[6, 1, 1], [5, 3, 2]]\n",
      "解答 = [[6, 1, 1], [5, 3, 2], [4, 3, 3]]\n",
      "\n",
      "\n",
      "compPair = ([6, 1, 1], [4, 3, 4])\n",
      "resultTemp[(1, keyDic[1]) = [([5, 3, 2], [4, 3, 3]), ([5, 3, 2], [4, 3, 4]), ([5, 3, 3], [4, 3, 4])]\n",
      "符合條件, solTemp = [[6, 1, 1], [5, 3, 2]]\n",
      "解答 = [[6, 1, 1], [5, 3, 2], [4, 3, 4]]\n",
      "\n",
      "\n",
      "compPair = ([6, 1, 2], [4, 3, 4])\n",
      "resultTemp[(1, keyDic[1]) = [([5, 3, 2], [4, 3, 3]), ([5, 3, 2], [4, 3, 4]), ([5, 3, 3], [4, 3, 4])]\n",
      "keyDic = (1, 2)\n",
      "compPair = ([5, 3, 2], [4, 3, 3])\n",
      "resultTemp[(1, keyDic[1]) = [([5, 3, 2], [4, 3, 3]), ([5, 3, 2], [4, 3, 4]), ([5, 3, 3], [4, 3, 4])]\n",
      "符合條件, solTemp = [[6, 1, 1], [5, 3, 2]]\n",
      "解答 = [[6, 1, 1], [5, 3, 2], [4, 3, 3]]\n",
      "\n",
      "\n",
      "compPair = ([5, 3, 2], [4, 3, 4])\n",
      "resultTemp[(1, keyDic[1]) = [([5, 3, 2], [4, 3, 3]), ([5, 3, 2], [4, 3, 4]), ([5, 3, 3], [4, 3, 4])]\n",
      "符合條件, solTemp = [[6, 1, 1], [5, 3, 2]]\n",
      "解答 = [[6, 1, 1], [5, 3, 2], [4, 3, 4]]\n",
      "\n",
      "\n",
      "compPair = ([5, 3, 3], [4, 3, 4])\n",
      "resultTemp[(1, keyDic[1]) = [([5, 3, 2], [4, 3, 3]), ([5, 3, 2], [4, 3, 4]), ([5, 3, 3], [4, 3, 4])]\n",
      "\n",
      "key = ([6, 1, 1], [5, 3, 3])\n",
      "keyDic = (0, 1)\n",
      "keyDic = (0, 2)\n",
      "compPair = ([6, 1, 1], [4, 3, 2])\n",
      "resultTemp[(1, keyDic[1]) = [([5, 3, 2], [4, 3, 3]), ([5, 3, 2], [4, 3, 4]), ([5, 3, 3], [4, 3, 4])]\n",
      "compPair = ([6, 1, 1], [4, 3, 3])\n",
      "resultTemp[(1, keyDic[1]) = [([5, 3, 2], [4, 3, 3]), ([5, 3, 2], [4, 3, 4]), ([5, 3, 3], [4, 3, 4])]\n",
      "compPair = ([6, 1, 1], [4, 3, 4])\n",
      "resultTemp[(1, keyDic[1]) = [([5, 3, 2], [4, 3, 3]), ([5, 3, 2], [4, 3, 4]), ([5, 3, 3], [4, 3, 4])]\n",
      "符合條件, solTemp = [[6, 1, 1], [5, 3, 3]]\n",
      "解答 = [[6, 1, 1], [5, 3, 3], [4, 3, 4]]\n",
      "\n",
      "\n",
      "compPair = ([6, 1, 2], [4, 3, 4])\n",
      "resultTemp[(1, keyDic[1]) = [([5, 3, 2], [4, 3, 3]), ([5, 3, 2], [4, 3, 4]), ([5, 3, 3], [4, 3, 4])]\n",
      "keyDic = (1, 2)\n",
      "compPair = ([5, 3, 2], [4, 3, 3])\n",
      "resultTemp[(1, keyDic[1]) = [([5, 3, 2], [4, 3, 3]), ([5, 3, 2], [4, 3, 4]), ([5, 3, 3], [4, 3, 4])]\n",
      "compPair = ([5, 3, 2], [4, 3, 4])\n",
      "resultTemp[(1, keyDic[1]) = [([5, 3, 2], [4, 3, 3]), ([5, 3, 2], [4, 3, 4]), ([5, 3, 3], [4, 3, 4])]\n",
      "compPair = ([5, 3, 3], [4, 3, 4])\n",
      "resultTemp[(1, keyDic[1]) = [([5, 3, 2], [4, 3, 3]), ([5, 3, 2], [4, 3, 4]), ([5, 3, 3], [4, 3, 4])]\n",
      "符合條件, solTemp = [[6, 1, 1], [5, 3, 3]]\n",
      "解答 = [[6, 1, 1], [5, 3, 3], [4, 3, 4]]\n",
      "\n",
      "\n"
     ]
    },
    {
     "data": {
      "text/plain": [
       "[[[6, 1, 1], [5, 3, 2], [4, 3, 3]],\n",
       " [[6, 1, 1], [5, 3, 2], [4, 3, 4]],\n",
       " [[6, 1, 1], [5, 3, 2], [4, 3, 3]],\n",
       " [[6, 1, 1], [5, 3, 2], [4, 3, 4]],\n",
       " [[6, 1, 1], [5, 3, 3], [4, 3, 4]],\n",
       " [[6, 1, 1], [5, 3, 3], [4, 3, 4]]]"
      ]
     },
     "execution_count": 241,
     "metadata": {},
     "output_type": "execute_result"
    }
   ],
   "source": [
    "# bkp版 改用手寫流程圖之前\n",
    "resultTemp = copy.deepcopy(result) # copy Dictionary\n",
    "Keys = dicCombination.keys()\n",
    "\n",
    "listSolution = []\n",
    "\n",
    "# 掃(0,1)的所有解\n",
    "for key in resultTemp[(0,1)]:\n",
    "    solTemp = []\n",
    "#     resultTemp = copy.deepcopy(result) # copy Dictionary\n",
    "#     key[0].index[resultTemp[(0,1)]\n",
    "    print(\"\\nkey = \" + str(key))\n",
    "    #先將 0 1的解放到解答中\n",
    "    solTemp.append(key[0])#.append(key[1])\n",
    "    solTemp.append(key[1])\n",
    "    \n",
    "    # 掃所有(0,1)以外的組合, 如(0,2), (1,2)\n",
    "    for keyDic in resultTemp :\n",
    "        print(\"keyDic = \" + str(keyDic))\n",
    "        if keyDic != (0,1):\n",
    "#             print(\"是原本的key, 跳出\")\n",
    "            keyDic[1]\n",
    "            # 每個組合,如(0,2), 掃所有domain\n",
    "            for compPair in resultTemp[keyDic]:\n",
    "                print(\"compPair = \" + str(compPair))\n",
    "                print(\"resultTemp[(1, keyDic[1]) = \" + str(resultTemp[(1, keyDic[1])]))\n",
    "                # if ([sol 1 ], [ target 2] in resutTemp這個dic的(1,2)):\n",
    "                # 代表這個pair是合理的, 可以加入\n",
    "                \n",
    "                # 看這個domain, 有沒有符合已放入解答的解\n",
    "                # resultTemp[(1, keyDic[1])] = resultTemp[(1, 新的key)]\n",
    "                # 所以目前只能看到 key=1 和2的組合\n",
    "                if  (solTemp[1] , compPair[1]) in resultTemp[(1, keyDic[1])] and compPair[0] in solTemp :\n",
    "#                     solTemp.append(compPair[1])\n",
    "                    print(\"符合條件, solTemp = \" + str(solTemp))\n",
    "                    print(\"解答 = \" + str(solTemp + [compPair[1]]))\n",
    "                    print(\"\\n\")\n",
    "                    listSolution.append(solTemp + [compPair[1]])\n",
    "                    \n",
    "#     listVal[1:-1].remove(key)\n",
    "    # [key[0], key[1], ]\n",
    "# key = ([6, 1, 1], [5, 3, 2])\n",
    "# listVal[0].remove([6,1,1])\n",
    "            \n",
    "resultTemp\n",
    "# listVal\n",
    "\n",
    "listSolution"
   ]
  },
  {
   "cell_type": "code",
   "execution_count": 122,
   "metadata": {},
   "outputs": [
    {
     "name": "stdout",
     "output_type": "stream",
     "text": [
      "(([1], [2]),)\n",
      "<zip object at 0x10d1c1e88>\n"
     ]
    }
   ],
   "source": [
    "bbb = [([1],[2]),([3],[4]),([5],[6])]\n",
    "print(list(zip(bbb))[0])\n",
    "print(zip(*bbb))\n",
    "# list(zip((1,2),(3,4),(5,6)))[0]\n",
    "\n",
    "# result = map(tuple,list(zip((1,2),(3,4),(5,6)))[0])\n",
    "# aa= set(result)\n",
    "# print(result)"
   ]
  }
 ],
 "metadata": {
  "kernelspec": {
   "display_name": "Python 3",
   "language": "python",
   "name": "python3"
  },
  "language_info": {
   "codemirror_mode": {
    "name": "ipython",
    "version": 3
   },
   "file_extension": ".py",
   "mimetype": "text/x-python",
   "name": "python",
   "nbconvert_exporter": "python",
   "pygments_lexer": "ipython3",
   "version": "3.6.8"
  }
 },
 "nbformat": 4,
 "nbformat_minor": 2
}
